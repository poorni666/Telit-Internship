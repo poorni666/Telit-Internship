{
  "nbformat": 4,
  "nbformat_minor": 0,
  "metadata": {
    "colab": {
      "provenance": [],
      "gpuType": "T4",
      "authorship_tag": "ABX9TyMaOuYKJTostpFBGm3elpQL",
      "include_colab_link": true
    },
    "kernelspec": {
      "name": "python3",
      "display_name": "Python 3"
    },
    "language_info": {
      "name": "python"
    },
    "accelerator": "GPU"
  },
  "cells": [
    {
      "cell_type": "markdown",
      "metadata": {
        "id": "view-in-github",
        "colab_type": "text"
      },
      "source": [
        "<a href=\"https://colab.research.google.com/github/poorni666/Telit-Internship/blob/main/DAMO_YOLO.ipynb\" target=\"_parent\"><img src=\"https://colab.research.google.com/assets/colab-badge.svg\" alt=\"Open In Colab\"/></a>"
      ]
    },
    {
      "cell_type": "code",
      "source": [
        "!rm -rf damo-yolo\n"
      ],
      "metadata": {
        "id": "2RhFBDnn6gXS"
      },
      "execution_count": null,
      "outputs": []
    },
    {
      "cell_type": "code",
      "execution_count": 1,
      "metadata": {
        "colab": {
          "base_uri": "https://localhost:8080/"
        },
        "id": "uzf0q5HGSgll",
        "outputId": "6ee95968-b7ea-45ec-efd2-d095a1f601c7"
      },
      "outputs": [
        {
          "output_type": "stream",
          "name": "stdout",
          "text": [
            "Cloning into 'damo-yolo'...\n",
            "remote: Enumerating objects: 646, done.\u001b[K\n",
            "remote: Counting objects: 100% (142/142), done.\u001b[K\n",
            "remote: Compressing objects: 100% (31/31), done.\u001b[K\n",
            "remote: Total 646 (delta 122), reused 111 (delta 111), pack-reused 504 (from 1)\u001b[K\n",
            "Receiving objects: 100% (646/646), 34.37 MiB | 15.96 MiB/s, done.\n",
            "Resolving deltas: 100% (387/387), done.\n",
            "/content/damo-yolo\n"
          ]
        }
      ],
      "source": [
        "!git clone https://github.com/tinyvision/damo-yolo.git\n",
        "%cd /content/damo-yolo\n"
      ]
    },
    {
      "cell_type": "code",
      "source": [
        "import warnings\n",
        "\n",
        "# Suppress all warnings\n",
        "warnings.filterwarnings(\"ignore\")\n"
      ],
      "metadata": {
        "id": "i5c_VqL7XIwj"
      },
      "execution_count": 1,
      "outputs": []
    },
    {
      "cell_type": "code",
      "source": [
        "!pip install -r requirements.txt\n"
      ],
      "metadata": {
        "colab": {
          "base_uri": "https://localhost:8080/",
          "height": 1000
        },
        "collapsed": true,
        "id": "c1aRbCzN609D",
        "outputId": "c35e0b67-e123-4210-cdba-a65c47205b8e"
      },
      "execution_count": 3,
      "outputs": [
        {
          "output_type": "stream",
          "name": "stdout",
          "text": [
            "Requirement already satisfied: timm in /usr/local/lib/python3.11/dist-packages (from -r requirements.txt (line 1)) (1.0.14)\n",
            "Collecting omegaconf (from -r requirements.txt (line 2))\n",
            "  Downloading omegaconf-2.3.0-py3-none-any.whl.metadata (3.9 kB)\n",
            "Requirement already satisfied: numpy in /usr/local/lib/python3.11/dist-packages (from -r requirements.txt (line 3)) (1.26.4)\n",
            "Requirement already satisfied: opencv_python in /usr/local/lib/python3.11/dist-packages (from -r requirements.txt (line 4)) (4.10.0.84)\n",
            "Collecting loguru (from -r requirements.txt (line 5))\n",
            "  Downloading loguru-0.7.3-py3-none-any.whl.metadata (22 kB)\n",
            "Requirement already satisfied: scikit-image in /usr/local/lib/python3.11/dist-packages (from -r requirements.txt (line 6)) (0.25.1)\n",
            "Requirement already satisfied: tqdm in /usr/local/lib/python3.11/dist-packages (from -r requirements.txt (line 7)) (4.67.1)\n",
            "Requirement already satisfied: Pillow in /usr/local/lib/python3.11/dist-packages (from -r requirements.txt (line 8)) (11.1.0)\n",
            "Collecting thop (from -r requirements.txt (line 9))\n",
            "  Downloading thop-0.1.1.post2209072238-py3-none-any.whl.metadata (2.7 kB)\n",
            "Requirement already satisfied: tabulate in /usr/local/lib/python3.11/dist-packages (from -r requirements.txt (line 10)) (0.9.0)\n",
            "Requirement already satisfied: easydict in /usr/local/lib/python3.11/dist-packages (from -r requirements.txt (line 11)) (1.13)\n",
            "Requirement already satisfied: torch in /usr/local/lib/python3.11/dist-packages (from timm->-r requirements.txt (line 1)) (2.5.1+cu124)\n",
            "Requirement already satisfied: torchvision in /usr/local/lib/python3.11/dist-packages (from timm->-r requirements.txt (line 1)) (0.20.1+cu124)\n",
            "Requirement already satisfied: pyyaml in /usr/local/lib/python3.11/dist-packages (from timm->-r requirements.txt (line 1)) (6.0.2)\n",
            "Requirement already satisfied: huggingface_hub in /usr/local/lib/python3.11/dist-packages (from timm->-r requirements.txt (line 1)) (0.27.1)\n",
            "Requirement already satisfied: safetensors in /usr/local/lib/python3.11/dist-packages (from timm->-r requirements.txt (line 1)) (0.5.2)\n",
            "Collecting antlr4-python3-runtime==4.9.* (from omegaconf->-r requirements.txt (line 2))\n",
            "  Downloading antlr4-python3-runtime-4.9.3.tar.gz (117 kB)\n",
            "\u001b[2K     \u001b[90m━━━━━━━━━━━━━━━━━━━━━━━━━━━━━━━━━━━━━━━━\u001b[0m \u001b[32m117.0/117.0 kB\u001b[0m \u001b[31m3.9 MB/s\u001b[0m eta \u001b[36m0:00:00\u001b[0m\n",
            "\u001b[?25h  Preparing metadata (setup.py) ... \u001b[?25l\u001b[?25hdone\n",
            "Requirement already satisfied: scipy>=1.11.2 in /usr/local/lib/python3.11/dist-packages (from scikit-image->-r requirements.txt (line 6)) (1.13.1)\n",
            "Requirement already satisfied: networkx>=3.0 in /usr/local/lib/python3.11/dist-packages (from scikit-image->-r requirements.txt (line 6)) (3.4.2)\n",
            "Requirement already satisfied: imageio!=2.35.0,>=2.33 in /usr/local/lib/python3.11/dist-packages (from scikit-image->-r requirements.txt (line 6)) (2.36.1)\n",
            "Requirement already satisfied: tifffile>=2022.8.12 in /usr/local/lib/python3.11/dist-packages (from scikit-image->-r requirements.txt (line 6)) (2025.1.10)\n",
            "Requirement already satisfied: packaging>=21 in /usr/local/lib/python3.11/dist-packages (from scikit-image->-r requirements.txt (line 6)) (24.2)\n",
            "Requirement already satisfied: lazy-loader>=0.4 in /usr/local/lib/python3.11/dist-packages (from scikit-image->-r requirements.txt (line 6)) (0.4)\n",
            "Requirement already satisfied: filelock in /usr/local/lib/python3.11/dist-packages (from huggingface_hub->timm->-r requirements.txt (line 1)) (3.17.0)\n",
            "Requirement already satisfied: fsspec>=2023.5.0 in /usr/local/lib/python3.11/dist-packages (from huggingface_hub->timm->-r requirements.txt (line 1)) (2024.10.0)\n",
            "Requirement already satisfied: requests in /usr/local/lib/python3.11/dist-packages (from huggingface_hub->timm->-r requirements.txt (line 1)) (2.32.3)\n",
            "Requirement already satisfied: typing-extensions>=3.7.4.3 in /usr/local/lib/python3.11/dist-packages (from huggingface_hub->timm->-r requirements.txt (line 1)) (4.12.2)\n",
            "Requirement already satisfied: jinja2 in /usr/local/lib/python3.11/dist-packages (from torch->timm->-r requirements.txt (line 1)) (3.1.5)\n",
            "Collecting nvidia-cuda-nvrtc-cu12==12.4.127 (from torch->timm->-r requirements.txt (line 1))\n",
            "  Downloading nvidia_cuda_nvrtc_cu12-12.4.127-py3-none-manylinux2014_x86_64.whl.metadata (1.5 kB)\n",
            "Collecting nvidia-cuda-runtime-cu12==12.4.127 (from torch->timm->-r requirements.txt (line 1))\n",
            "  Downloading nvidia_cuda_runtime_cu12-12.4.127-py3-none-manylinux2014_x86_64.whl.metadata (1.5 kB)\n",
            "Collecting nvidia-cuda-cupti-cu12==12.4.127 (from torch->timm->-r requirements.txt (line 1))\n",
            "  Downloading nvidia_cuda_cupti_cu12-12.4.127-py3-none-manylinux2014_x86_64.whl.metadata (1.6 kB)\n",
            "Collecting nvidia-cudnn-cu12==9.1.0.70 (from torch->timm->-r requirements.txt (line 1))\n",
            "  Downloading nvidia_cudnn_cu12-9.1.0.70-py3-none-manylinux2014_x86_64.whl.metadata (1.6 kB)\n",
            "Collecting nvidia-cublas-cu12==12.4.5.8 (from torch->timm->-r requirements.txt (line 1))\n",
            "  Downloading nvidia_cublas_cu12-12.4.5.8-py3-none-manylinux2014_x86_64.whl.metadata (1.5 kB)\n",
            "Collecting nvidia-cufft-cu12==11.2.1.3 (from torch->timm->-r requirements.txt (line 1))\n",
            "  Downloading nvidia_cufft_cu12-11.2.1.3-py3-none-manylinux2014_x86_64.whl.metadata (1.5 kB)\n",
            "Collecting nvidia-curand-cu12==10.3.5.147 (from torch->timm->-r requirements.txt (line 1))\n",
            "  Downloading nvidia_curand_cu12-10.3.5.147-py3-none-manylinux2014_x86_64.whl.metadata (1.5 kB)\n",
            "Collecting nvidia-cusolver-cu12==11.6.1.9 (from torch->timm->-r requirements.txt (line 1))\n",
            "  Downloading nvidia_cusolver_cu12-11.6.1.9-py3-none-manylinux2014_x86_64.whl.metadata (1.6 kB)\n",
            "Collecting nvidia-cusparse-cu12==12.3.1.170 (from torch->timm->-r requirements.txt (line 1))\n",
            "  Downloading nvidia_cusparse_cu12-12.3.1.170-py3-none-manylinux2014_x86_64.whl.metadata (1.6 kB)\n",
            "Requirement already satisfied: nvidia-nccl-cu12==2.21.5 in /usr/local/lib/python3.11/dist-packages (from torch->timm->-r requirements.txt (line 1)) (2.21.5)\n",
            "Requirement already satisfied: nvidia-nvtx-cu12==12.4.127 in /usr/local/lib/python3.11/dist-packages (from torch->timm->-r requirements.txt (line 1)) (12.4.127)\n",
            "Collecting nvidia-nvjitlink-cu12==12.4.127 (from torch->timm->-r requirements.txt (line 1))\n",
            "  Downloading nvidia_nvjitlink_cu12-12.4.127-py3-none-manylinux2014_x86_64.whl.metadata (1.5 kB)\n",
            "Requirement already satisfied: triton==3.1.0 in /usr/local/lib/python3.11/dist-packages (from torch->timm->-r requirements.txt (line 1)) (3.1.0)\n",
            "Requirement already satisfied: sympy==1.13.1 in /usr/local/lib/python3.11/dist-packages (from torch->timm->-r requirements.txt (line 1)) (1.13.1)\n",
            "Requirement already satisfied: mpmath<1.4,>=1.1.0 in /usr/local/lib/python3.11/dist-packages (from sympy==1.13.1->torch->timm->-r requirements.txt (line 1)) (1.3.0)\n",
            "Requirement already satisfied: MarkupSafe>=2.0 in /usr/local/lib/python3.11/dist-packages (from jinja2->torch->timm->-r requirements.txt (line 1)) (3.0.2)\n",
            "Requirement already satisfied: charset-normalizer<4,>=2 in /usr/local/lib/python3.11/dist-packages (from requests->huggingface_hub->timm->-r requirements.txt (line 1)) (3.4.1)\n",
            "Requirement already satisfied: idna<4,>=2.5 in /usr/local/lib/python3.11/dist-packages (from requests->huggingface_hub->timm->-r requirements.txt (line 1)) (3.10)\n",
            "Requirement already satisfied: urllib3<3,>=1.21.1 in /usr/local/lib/python3.11/dist-packages (from requests->huggingface_hub->timm->-r requirements.txt (line 1)) (2.3.0)\n",
            "Requirement already satisfied: certifi>=2017.4.17 in /usr/local/lib/python3.11/dist-packages (from requests->huggingface_hub->timm->-r requirements.txt (line 1)) (2024.12.14)\n",
            "Downloading omegaconf-2.3.0-py3-none-any.whl (79 kB)\n",
            "\u001b[2K   \u001b[90m━━━━━━━━━━━━━━━━━━━━━━━━━━━━━━━━━━━━━━━━\u001b[0m \u001b[32m79.5/79.5 kB\u001b[0m \u001b[31m4.3 MB/s\u001b[0m eta \u001b[36m0:00:00\u001b[0m\n",
            "\u001b[?25hDownloading loguru-0.7.3-py3-none-any.whl (61 kB)\n",
            "\u001b[2K   \u001b[90m━━━━━━━━━━━━━━━━━━━━━━━━━━━━━━━━━━━━━━━━\u001b[0m \u001b[32m61.6/61.6 kB\u001b[0m \u001b[31m3.7 MB/s\u001b[0m eta \u001b[36m0:00:00\u001b[0m\n",
            "\u001b[?25hDownloading thop-0.1.1.post2209072238-py3-none-any.whl (15 kB)\n",
            "Downloading nvidia_cublas_cu12-12.4.5.8-py3-none-manylinux2014_x86_64.whl (363.4 MB)\n",
            "\u001b[2K   \u001b[90m━━━━━━━━━━━━━━━━━━━━━━━━━━━━━━━━━━━━━━━━\u001b[0m \u001b[32m363.4/363.4 MB\u001b[0m \u001b[31m4.3 MB/s\u001b[0m eta \u001b[36m0:00:00\u001b[0m\n",
            "\u001b[?25hDownloading nvidia_cuda_cupti_cu12-12.4.127-py3-none-manylinux2014_x86_64.whl (13.8 MB)\n",
            "\u001b[2K   \u001b[90m━━━━━━━━━━━━━━━━━━━━━━━━━━━━━━━━━━━━━━━━\u001b[0m \u001b[32m13.8/13.8 MB\u001b[0m \u001b[31m58.1 MB/s\u001b[0m eta \u001b[36m0:00:00\u001b[0m\n",
            "\u001b[?25hDownloading nvidia_cuda_nvrtc_cu12-12.4.127-py3-none-manylinux2014_x86_64.whl (24.6 MB)\n",
            "\u001b[2K   \u001b[90m━━━━━━━━━━━━━━━━━━━━━━━━━━━━━━━━━━━━━━━━\u001b[0m \u001b[32m24.6/24.6 MB\u001b[0m \u001b[31m48.2 MB/s\u001b[0m eta \u001b[36m0:00:00\u001b[0m\n",
            "\u001b[?25hDownloading nvidia_cuda_runtime_cu12-12.4.127-py3-none-manylinux2014_x86_64.whl (883 kB)\n",
            "\u001b[2K   \u001b[90m━━━━━━━━━━━━━━━━━━━━━━━━━━━━━━━━━━━━━━━━\u001b[0m \u001b[32m883.7/883.7 kB\u001b[0m \u001b[31m34.4 MB/s\u001b[0m eta \u001b[36m0:00:00\u001b[0m\n",
            "\u001b[?25hDownloading nvidia_cudnn_cu12-9.1.0.70-py3-none-manylinux2014_x86_64.whl (664.8 MB)\n",
            "\u001b[2K   \u001b[90m━━━━━━━━━━━━━━━━━━━━━━━━━━━━━━━━━━━━━━━━\u001b[0m \u001b[32m664.8/664.8 MB\u001b[0m \u001b[31m1.2 MB/s\u001b[0m eta \u001b[36m0:00:00\u001b[0m\n",
            "\u001b[?25hDownloading nvidia_cufft_cu12-11.2.1.3-py3-none-manylinux2014_x86_64.whl (211.5 MB)\n",
            "\u001b[2K   \u001b[90m━━━━━━━━━━━━━━━━━━━━━━━━━━━━━━━━━━━━━━━━\u001b[0m \u001b[32m211.5/211.5 MB\u001b[0m \u001b[31m6.3 MB/s\u001b[0m eta \u001b[36m0:00:00\u001b[0m\n",
            "\u001b[?25hDownloading nvidia_curand_cu12-10.3.5.147-py3-none-manylinux2014_x86_64.whl (56.3 MB)\n",
            "\u001b[2K   \u001b[90m━━━━━━━━━━━━━━━━━━━━━━━━━━━━━━━━━━━━━━━━\u001b[0m \u001b[32m56.3/56.3 MB\u001b[0m \u001b[31m10.2 MB/s\u001b[0m eta \u001b[36m0:00:00\u001b[0m\n",
            "\u001b[?25hDownloading nvidia_cusolver_cu12-11.6.1.9-py3-none-manylinux2014_x86_64.whl (127.9 MB)\n",
            "\u001b[2K   \u001b[90m━━━━━━━━━━━━━━━━━━━━━━━━━━━━━━━━━━━━━━━━\u001b[0m \u001b[32m127.9/127.9 MB\u001b[0m \u001b[31m7.7 MB/s\u001b[0m eta \u001b[36m0:00:00\u001b[0m\n",
            "\u001b[?25hDownloading nvidia_cusparse_cu12-12.3.1.170-py3-none-manylinux2014_x86_64.whl (207.5 MB)\n",
            "\u001b[2K   \u001b[90m━━━━━━━━━━━━━━━━━━━━━━━━━━━━━━━━━━━━━━━━\u001b[0m \u001b[32m207.5/207.5 MB\u001b[0m \u001b[31m5.7 MB/s\u001b[0m eta \u001b[36m0:00:00\u001b[0m\n",
            "\u001b[?25hDownloading nvidia_nvjitlink_cu12-12.4.127-py3-none-manylinux2014_x86_64.whl (21.1 MB)\n",
            "\u001b[2K   \u001b[90m━━━━━━━━━━━━━━━━━━━━━━━━━━━━━━━━━━━━━━━━\u001b[0m \u001b[32m21.1/21.1 MB\u001b[0m \u001b[31m51.7 MB/s\u001b[0m eta \u001b[36m0:00:00\u001b[0m\n",
            "\u001b[?25hBuilding wheels for collected packages: antlr4-python3-runtime\n",
            "  Building wheel for antlr4-python3-runtime (setup.py) ... \u001b[?25l\u001b[?25hdone\n",
            "  Created wheel for antlr4-python3-runtime: filename=antlr4_python3_runtime-4.9.3-py3-none-any.whl size=144555 sha256=0c0e60067909d700cdeacd9ec3f5d794a2750d418465dbaf0fe581341a75bf66\n",
            "  Stored in directory: /root/.cache/pip/wheels/1a/97/32/461f837398029ad76911109f07047fde1d7b661a147c7c56d1\n",
            "Successfully built antlr4-python3-runtime\n",
            "Installing collected packages: antlr4-python3-runtime, omegaconf, nvidia-nvjitlink-cu12, nvidia-curand-cu12, nvidia-cufft-cu12, nvidia-cuda-runtime-cu12, nvidia-cuda-nvrtc-cu12, nvidia-cuda-cupti-cu12, nvidia-cublas-cu12, loguru, nvidia-cusparse-cu12, nvidia-cudnn-cu12, nvidia-cusolver-cu12, thop\n",
            "  Attempting uninstall: nvidia-nvjitlink-cu12\n",
            "    Found existing installation: nvidia-nvjitlink-cu12 12.5.82\n",
            "    Uninstalling nvidia-nvjitlink-cu12-12.5.82:\n",
            "      Successfully uninstalled nvidia-nvjitlink-cu12-12.5.82\n",
            "  Attempting uninstall: nvidia-curand-cu12\n",
            "    Found existing installation: nvidia-curand-cu12 10.3.6.82\n",
            "    Uninstalling nvidia-curand-cu12-10.3.6.82:\n",
            "      Successfully uninstalled nvidia-curand-cu12-10.3.6.82\n",
            "  Attempting uninstall: nvidia-cufft-cu12\n",
            "    Found existing installation: nvidia-cufft-cu12 11.2.3.61\n",
            "    Uninstalling nvidia-cufft-cu12-11.2.3.61:\n",
            "      Successfully uninstalled nvidia-cufft-cu12-11.2.3.61\n",
            "  Attempting uninstall: nvidia-cuda-runtime-cu12\n",
            "    Found existing installation: nvidia-cuda-runtime-cu12 12.5.82\n",
            "    Uninstalling nvidia-cuda-runtime-cu12-12.5.82:\n",
            "      Successfully uninstalled nvidia-cuda-runtime-cu12-12.5.82\n",
            "  Attempting uninstall: nvidia-cuda-nvrtc-cu12\n",
            "    Found existing installation: nvidia-cuda-nvrtc-cu12 12.5.82\n",
            "    Uninstalling nvidia-cuda-nvrtc-cu12-12.5.82:\n",
            "      Successfully uninstalled nvidia-cuda-nvrtc-cu12-12.5.82\n",
            "  Attempting uninstall: nvidia-cuda-cupti-cu12\n",
            "    Found existing installation: nvidia-cuda-cupti-cu12 12.5.82\n",
            "    Uninstalling nvidia-cuda-cupti-cu12-12.5.82:\n",
            "      Successfully uninstalled nvidia-cuda-cupti-cu12-12.5.82\n",
            "  Attempting uninstall: nvidia-cublas-cu12\n",
            "    Found existing installation: nvidia-cublas-cu12 12.5.3.2\n",
            "    Uninstalling nvidia-cublas-cu12-12.5.3.2:\n",
            "      Successfully uninstalled nvidia-cublas-cu12-12.5.3.2\n",
            "  Attempting uninstall: nvidia-cusparse-cu12\n",
            "    Found existing installation: nvidia-cusparse-cu12 12.5.1.3\n",
            "    Uninstalling nvidia-cusparse-cu12-12.5.1.3:\n",
            "      Successfully uninstalled nvidia-cusparse-cu12-12.5.1.3\n",
            "  Attempting uninstall: nvidia-cudnn-cu12\n",
            "    Found existing installation: nvidia-cudnn-cu12 9.3.0.75\n",
            "    Uninstalling nvidia-cudnn-cu12-9.3.0.75:\n",
            "      Successfully uninstalled nvidia-cudnn-cu12-9.3.0.75\n",
            "  Attempting uninstall: nvidia-cusolver-cu12\n",
            "    Found existing installation: nvidia-cusolver-cu12 11.6.3.83\n",
            "    Uninstalling nvidia-cusolver-cu12-11.6.3.83:\n",
            "      Successfully uninstalled nvidia-cusolver-cu12-11.6.3.83\n",
            "Successfully installed antlr4-python3-runtime-4.9.3 loguru-0.7.3 nvidia-cublas-cu12-12.4.5.8 nvidia-cuda-cupti-cu12-12.4.127 nvidia-cuda-nvrtc-cu12-12.4.127 nvidia-cuda-runtime-cu12-12.4.127 nvidia-cudnn-cu12-9.1.0.70 nvidia-cufft-cu12-11.2.1.3 nvidia-curand-cu12-10.3.5.147 nvidia-cusolver-cu12-11.6.1.9 nvidia-cusparse-cu12-12.3.1.170 nvidia-nvjitlink-cu12-12.4.127 omegaconf-2.3.0 thop-0.1.1.post2209072238\n"
          ]
        },
        {
          "output_type": "display_data",
          "data": {
            "application/vnd.colab-display-data+json": {
              "pip_warning": {
                "packages": [
                  "pydevd_plugins"
                ]
              },
              "id": "817aeebb877c471ea0e6181ac6c78426"
            }
          },
          "metadata": {}
        }
      ]
    },
    {
      "cell_type": "code",
      "source": [
        "import torch\n",
        "print(torch.cuda.is_available())  # Check if GPU is available\n",
        "print(torch.version.cuda)  # Check CUDA version\n",
        "print(torch.__version__)  # Check PyTorch version\n"
      ],
      "metadata": {
        "colab": {
          "base_uri": "https://localhost:8080/"
        },
        "id": "Q534pBeUUolC",
        "outputId": "42cabf15-a0ab-4e19-a08e-0964e094d75f",
        "collapsed": true
      },
      "execution_count": 2,
      "outputs": [
        {
          "output_type": "stream",
          "name": "stdout",
          "text": [
            "False\n",
            "12.4\n",
            "2.5.1+cu124\n"
          ]
        }
      ]
    },
    {
      "cell_type": "code",
      "source": [
        "%cd /content/damo-yolo\n"
      ],
      "metadata": {
        "colab": {
          "base_uri": "https://localhost:8080/"
        },
        "id": "oK9I9FU391F0",
        "outputId": "60d547c6-fec0-4b44-f775-619b89365b33"
      },
      "execution_count": 3,
      "outputs": [
        {
          "output_type": "stream",
          "name": "stdout",
          "text": [
            "/content/damo-yolo\n"
          ]
        }
      ]
    },
    {
      "cell_type": "code",
      "source": [
        "!pip install .\n"
      ],
      "metadata": {
        "colab": {
          "base_uri": "https://localhost:8080/"
        },
        "collapsed": true,
        "id": "nJuyRMGt92HI",
        "outputId": "829d4ffc-7726-43b1-ed80-41a662bd0880"
      },
      "execution_count": 4,
      "outputs": [
        {
          "output_type": "stream",
          "name": "stdout",
          "text": [
            "Processing /content/damo-yolo\n",
            "  Preparing metadata (setup.py) ... \u001b[?25l\u001b[?25hdone\n",
            "Requirement already satisfied: timm in /usr/local/lib/python3.11/dist-packages (from damo==0.1.0) (1.0.14)\n",
            "Requirement already satisfied: omegaconf in /usr/local/lib/python3.11/dist-packages (from damo==0.1.0) (2.3.0)\n",
            "Requirement already satisfied: numpy in /usr/local/lib/python3.11/dist-packages (from damo==0.1.0) (1.26.4)\n",
            "Requirement already satisfied: opencv_python in /usr/local/lib/python3.11/dist-packages (from damo==0.1.0) (4.10.0.84)\n",
            "Requirement already satisfied: loguru in /usr/local/lib/python3.11/dist-packages (from damo==0.1.0) (0.7.3)\n",
            "Requirement already satisfied: scikit-image in /usr/local/lib/python3.11/dist-packages (from damo==0.1.0) (0.25.1)\n",
            "Requirement already satisfied: tqdm in /usr/local/lib/python3.11/dist-packages (from damo==0.1.0) (4.67.1)\n",
            "Requirement already satisfied: Pillow in /usr/local/lib/python3.11/dist-packages (from damo==0.1.0) (11.1.0)\n",
            "Requirement already satisfied: thop in /usr/local/lib/python3.11/dist-packages (from damo==0.1.0) (0.1.1.post2209072238)\n",
            "Requirement already satisfied: tabulate in /usr/local/lib/python3.11/dist-packages (from damo==0.1.0) (0.9.0)\n",
            "Requirement already satisfied: easydict in /usr/local/lib/python3.11/dist-packages (from damo==0.1.0) (1.13)\n",
            "Requirement already satisfied: antlr4-python3-runtime==4.9.* in /usr/local/lib/python3.11/dist-packages (from omegaconf->damo==0.1.0) (4.9.3)\n",
            "Requirement already satisfied: PyYAML>=5.1.0 in /usr/local/lib/python3.11/dist-packages (from omegaconf->damo==0.1.0) (6.0.2)\n",
            "Requirement already satisfied: scipy>=1.11.2 in /usr/local/lib/python3.11/dist-packages (from scikit-image->damo==0.1.0) (1.13.1)\n",
            "Requirement already satisfied: networkx>=3.0 in /usr/local/lib/python3.11/dist-packages (from scikit-image->damo==0.1.0) (3.4.2)\n",
            "Requirement already satisfied: imageio!=2.35.0,>=2.33 in /usr/local/lib/python3.11/dist-packages (from scikit-image->damo==0.1.0) (2.36.1)\n",
            "Requirement already satisfied: tifffile>=2022.8.12 in /usr/local/lib/python3.11/dist-packages (from scikit-image->damo==0.1.0) (2025.1.10)\n",
            "Requirement already satisfied: packaging>=21 in /usr/local/lib/python3.11/dist-packages (from scikit-image->damo==0.1.0) (24.2)\n",
            "Requirement already satisfied: lazy-loader>=0.4 in /usr/local/lib/python3.11/dist-packages (from scikit-image->damo==0.1.0) (0.4)\n",
            "Requirement already satisfied: torch in /usr/local/lib/python3.11/dist-packages (from thop->damo==0.1.0) (2.5.1+cu124)\n",
            "Requirement already satisfied: torchvision in /usr/local/lib/python3.11/dist-packages (from timm->damo==0.1.0) (0.20.1+cu124)\n",
            "Requirement already satisfied: huggingface_hub in /usr/local/lib/python3.11/dist-packages (from timm->damo==0.1.0) (0.27.1)\n",
            "Requirement already satisfied: safetensors in /usr/local/lib/python3.11/dist-packages (from timm->damo==0.1.0) (0.5.2)\n",
            "Requirement already satisfied: filelock in /usr/local/lib/python3.11/dist-packages (from huggingface_hub->timm->damo==0.1.0) (3.17.0)\n",
            "Requirement already satisfied: fsspec>=2023.5.0 in /usr/local/lib/python3.11/dist-packages (from huggingface_hub->timm->damo==0.1.0) (2024.10.0)\n",
            "Requirement already satisfied: requests in /usr/local/lib/python3.11/dist-packages (from huggingface_hub->timm->damo==0.1.0) (2.32.3)\n",
            "Requirement already satisfied: typing-extensions>=3.7.4.3 in /usr/local/lib/python3.11/dist-packages (from huggingface_hub->timm->damo==0.1.0) (4.12.2)\n",
            "Requirement already satisfied: jinja2 in /usr/local/lib/python3.11/dist-packages (from torch->thop->damo==0.1.0) (3.1.5)\n",
            "Requirement already satisfied: nvidia-cuda-nvrtc-cu12==12.4.127 in /usr/local/lib/python3.11/dist-packages (from torch->thop->damo==0.1.0) (12.4.127)\n",
            "Requirement already satisfied: nvidia-cuda-runtime-cu12==12.4.127 in /usr/local/lib/python3.11/dist-packages (from torch->thop->damo==0.1.0) (12.4.127)\n",
            "Requirement already satisfied: nvidia-cuda-cupti-cu12==12.4.127 in /usr/local/lib/python3.11/dist-packages (from torch->thop->damo==0.1.0) (12.4.127)\n",
            "Requirement already satisfied: nvidia-cudnn-cu12==9.1.0.70 in /usr/local/lib/python3.11/dist-packages (from torch->thop->damo==0.1.0) (9.1.0.70)\n",
            "Requirement already satisfied: nvidia-cublas-cu12==12.4.5.8 in /usr/local/lib/python3.11/dist-packages (from torch->thop->damo==0.1.0) (12.4.5.8)\n",
            "Requirement already satisfied: nvidia-cufft-cu12==11.2.1.3 in /usr/local/lib/python3.11/dist-packages (from torch->thop->damo==0.1.0) (11.2.1.3)\n",
            "Requirement already satisfied: nvidia-curand-cu12==10.3.5.147 in /usr/local/lib/python3.11/dist-packages (from torch->thop->damo==0.1.0) (10.3.5.147)\n",
            "Requirement already satisfied: nvidia-cusolver-cu12==11.6.1.9 in /usr/local/lib/python3.11/dist-packages (from torch->thop->damo==0.1.0) (11.6.1.9)\n",
            "Requirement already satisfied: nvidia-cusparse-cu12==12.3.1.170 in /usr/local/lib/python3.11/dist-packages (from torch->thop->damo==0.1.0) (12.3.1.170)\n",
            "Requirement already satisfied: nvidia-nccl-cu12==2.21.5 in /usr/local/lib/python3.11/dist-packages (from torch->thop->damo==0.1.0) (2.21.5)\n",
            "Requirement already satisfied: nvidia-nvtx-cu12==12.4.127 in /usr/local/lib/python3.11/dist-packages (from torch->thop->damo==0.1.0) (12.4.127)\n",
            "Requirement already satisfied: nvidia-nvjitlink-cu12==12.4.127 in /usr/local/lib/python3.11/dist-packages (from torch->thop->damo==0.1.0) (12.4.127)\n",
            "Requirement already satisfied: triton==3.1.0 in /usr/local/lib/python3.11/dist-packages (from torch->thop->damo==0.1.0) (3.1.0)\n",
            "Requirement already satisfied: sympy==1.13.1 in /usr/local/lib/python3.11/dist-packages (from torch->thop->damo==0.1.0) (1.13.1)\n",
            "Requirement already satisfied: mpmath<1.4,>=1.1.0 in /usr/local/lib/python3.11/dist-packages (from sympy==1.13.1->torch->thop->damo==0.1.0) (1.3.0)\n",
            "Requirement already satisfied: MarkupSafe>=2.0 in /usr/local/lib/python3.11/dist-packages (from jinja2->torch->thop->damo==0.1.0) (3.0.2)\n",
            "Requirement already satisfied: charset-normalizer<4,>=2 in /usr/local/lib/python3.11/dist-packages (from requests->huggingface_hub->timm->damo==0.1.0) (3.4.1)\n",
            "Requirement already satisfied: idna<4,>=2.5 in /usr/local/lib/python3.11/dist-packages (from requests->huggingface_hub->timm->damo==0.1.0) (3.10)\n",
            "Requirement already satisfied: urllib3<3,>=1.21.1 in /usr/local/lib/python3.11/dist-packages (from requests->huggingface_hub->timm->damo==0.1.0) (2.3.0)\n",
            "Requirement already satisfied: certifi>=2017.4.17 in /usr/local/lib/python3.11/dist-packages (from requests->huggingface_hub->timm->damo==0.1.0) (2024.12.14)\n",
            "Building wheels for collected packages: damo\n",
            "  Building wheel for damo (setup.py) ... \u001b[?25l\u001b[?25hdone\n",
            "  Created wheel for damo: filename=damo-0.1.0-py3-none-any.whl size=91356 sha256=2761ac0b7ab19253d2448774396ba2e0a9b5fcd1ce5913fb39a3955805235d5a\n",
            "  Stored in directory: /root/.cache/pip/wheels/57/13/47/ec9975b1050b13742d358706beb82ab82ed6424717b7c6ba61\n",
            "Successfully built damo\n",
            "Installing collected packages: damo\n",
            "Successfully installed damo-0.1.0\n"
          ]
        }
      ]
    },
    {
      "cell_type": "code",
      "source": [
        "import damo\n",
        "!pip show damo\n"
      ],
      "metadata": {
        "colab": {
          "base_uri": "https://localhost:8080/"
        },
        "id": "4DGZgzt299aX",
        "outputId": "18550db1-cad7-4e16-e354-a50a8489f0f5"
      },
      "execution_count": 5,
      "outputs": [
        {
          "output_type": "stream",
          "name": "stdout",
          "text": [
            "Name: damo\n",
            "Version: 0.1.0\n",
            "Summary: \n",
            "Home-page: \n",
            "Author: basedet team\n",
            "Author-email: \n",
            "License: \n",
            "Location: /usr/local/lib/python3.11/dist-packages\n",
            "Requires: easydict, loguru, numpy, omegaconf, opencv-python, Pillow, scikit-image, tabulate, thop, timm, tqdm\n",
            "Required-by: \n"
          ]
        }
      ]
    },
    {
      "cell_type": "code",
      "source": [
        "!pip install git+https://github.com/philferriere/cocoapi.git#subdirectory=PythonAP"
      ],
      "metadata": {
        "colab": {
          "base_uri": "https://localhost:8080/"
        },
        "collapsed": true,
        "id": "Vqd0OpFPBg83",
        "outputId": "7090b212-ad8a-4f08-ef6d-cc997db568d2"
      },
      "execution_count": 6,
      "outputs": [
        {
          "output_type": "stream",
          "name": "stdout",
          "text": [
            "Collecting git+https://github.com/philferriere/cocoapi.git#subdirectory=PythonAP\n",
            "  Cloning https://github.com/philferriere/cocoapi.git to /tmp/pip-req-build-xr1tg4bf\n",
            "  Running command git clone --filter=blob:none --quiet https://github.com/philferriere/cocoapi.git /tmp/pip-req-build-xr1tg4bf\n",
            "  Resolved https://github.com/philferriere/cocoapi.git to commit 2929bd2ef6b451054755dfd7ceb09278f935f7ad\n",
            "\u001b[31mERROR: git+https://github.com/philferriere/cocoapi.git#subdirectory=PythonAP does not appear to be a Python project: neither 'setup.py' nor 'pyproject.toml' found.\u001b[0m\u001b[31m\n",
            "\u001b[0m"
          ]
        }
      ]
    },
    {
      "cell_type": "code",
      "source": [
        "!ls /content/damo-yolo/damo\n"
      ],
      "metadata": {
        "colab": {
          "base_uri": "https://localhost:8080/"
        },
        "id": "OvsvBeab-bTy",
        "outputId": "c4071f76-b4cb-496f-ed7e-a2ae5e6d1259"
      },
      "execution_count": 7,
      "outputs": [
        {
          "output_type": "stream",
          "name": "stdout",
          "text": [
            "apis\t       base_models  dataset    __init__.py  structures\n",
            "augmentations  config\t    detectors  __pycache__  utils\n"
          ]
        }
      ]
    },
    {
      "cell_type": "code",
      "source": [
        "!ls"
      ],
      "metadata": {
        "colab": {
          "base_uri": "https://localhost:8080/"
        },
        "id": "bbBa0jKGB7Ap",
        "outputId": "b24614bb-f190-401f-fa7e-c2f9bda2add4"
      },
      "execution_count": 8,
      "outputs": [
        {
          "output_type": "stream",
          "name": "stdout",
          "text": [
            "assets\tconfigs  damo.egg-info\tLICENSE  README_cn.md  requirements.txt  setup.py\n",
            "build\tdamo\t datasets\tNOTICE\t README.md     scripts\t\t tools\n"
          ]
        }
      ]
    },
    {
      "cell_type": "code",
      "source": [
        "!cp tools/demo.py /content/damo-yolo/demo.py\n",
        "\n"
      ],
      "metadata": {
        "id": "zrRRhbkYCPUG"
      },
      "execution_count": 9,
      "outputs": []
    },
    {
      "cell_type": "code",
      "source": [
        "from google.colab import drive\n",
        "drive.mount('/content/drive')"
      ],
      "metadata": {
        "colab": {
          "base_uri": "https://localhost:8080/"
        },
        "id": "_Z2CbrZQDwS0",
        "outputId": "c9c1363e-8cdb-48a2-d102-014dcfcf9c17"
      },
      "execution_count": 10,
      "outputs": [
        {
          "output_type": "stream",
          "name": "stdout",
          "text": [
            "Mounted at /content/drive\n"
          ]
        }
      ]
    },
    {
      "cell_type": "code",
      "source": [
        "!cp '/content/drive/MyDrive/Colab Notebooks/damo/damoyolo_tinynasL20_T_436.pth' '/content/damo-yolo'\n"
      ],
      "metadata": {
        "id": "rNnpa-Myf6bX"
      },
      "execution_count": 11,
      "outputs": []
    },
    {
      "cell_type": "code",
      "source": [
        "!ls"
      ],
      "metadata": {
        "colab": {
          "base_uri": "https://localhost:8080/"
        },
        "collapsed": true,
        "id": "rtN1EcBnErz3",
        "outputId": "4f4005e4-2ca5-4c8b-c808-405d32464500"
      },
      "execution_count": 12,
      "outputs": [
        {
          "output_type": "stream",
          "name": "stdout",
          "text": [
            "assets\t damo\t\t\t\tdatasets  NOTICE\trequirements.txt  tools\n",
            "build\t damo.egg-info\t\t\tdemo.py   README_cn.md\tscripts\n",
            "configs  damoyolo_tinynasL20_T_436.pth\tLICENSE   README.md\tsetup.py\n"
          ]
        }
      ]
    },
    {
      "cell_type": "code",
      "source": [
        "\n",
        "!chmod +w /content/damo-yolo/tools/demo.py\n"
      ],
      "metadata": {
        "id": "nog_dJsBR0He"
      },
      "execution_count": 13,
      "outputs": []
    },
    {
      "cell_type": "code",
      "source": [
        "!ls -l /content/damo-yolo/tools/demo.py\n"
      ],
      "metadata": {
        "colab": {
          "base_uri": "https://localhost:8080/"
        },
        "id": "PRmnhCfvUd03",
        "outputId": "a6e5ae4b-ed98-4114-f6e3-29cd1edb4c49"
      },
      "execution_count": 16,
      "outputs": [
        {
          "output_type": "stream",
          "name": "stdout",
          "text": [
            "-rw-r--r-- 1 root root 13446 Feb  6 09:33 /content/damo-yolo/tools/demo.py\n"
          ]
        }
      ]
    },
    {
      "cell_type": "code",
      "source": [
        "# torch engine with image\n",
        "!python demo.py image -f ./configs/damoyolo_tinynasL20_T.py --engine ./damoyolo_tinynasL20_T_436.pth --conf 0.6 --infer_size 640 640 --device cuda --path ./assets/dog.jpg"
      ],
      "metadata": {
        "colab": {
          "base_uri": "https://localhost:8080/"
        },
        "id": "AGVqmUP-XUPs",
        "outputId": "ceb30d71-c6f6-4e77-dae6-b5dac258c502"
      },
      "execution_count": 17,
      "outputs": [
        {
          "output_type": "stream",
          "name": "stdout",
          "text": [
            "Inference with torch engine!\n",
            "/content/damo-yolo/demo.py:133: FutureWarning: You are using `torch.load` with `weights_only=False` (the current default value), which uses the default pickle module implicitly. It is possible to construct malicious pickle data which will execute arbitrary code during unpickling (See https://github.com/pytorch/pytorch/blob/main/SECURITY.md#untrusted-models for more details). In a future release, the default value for `weights_only` will be flipped to `True`. This limits the functions that could be executed during unpickling. Arbitrary objects will no longer be allowed to be loaded via this mode unless they are explicitly allowlisted by the user via `torch.serialization.add_safe_globals`. We recommend you start setting `weights_only=True` for any use case where you don't have full control of the loaded file. Please open an issue on GitHub for any issues related to this experimental feature.\n",
            "  ckpt = torch.load(self.ckpt_path, map_location=self.device)\n",
            "save visualization results at ./demo/dog.jpg\n"
          ]
        }
      ]
    },
    {
      "cell_type": "code",
      "source": [
        "!ln -s /content/drive/MyDrive/PKLot.v2-640.coco /content/damo-yolo/datasets/toy_sample\n"
      ],
      "metadata": {
        "id": "XUYxYEqBdCbO"
      },
      "execution_count": 18,
      "outputs": []
    },
    {
      "cell_type": "code",
      "source": [
        "!ls /content/damo-yolo/datasets/toy_sample\n"
      ],
      "metadata": {
        "colab": {
          "base_uri": "https://localhost:8080/"
        },
        "id": "3N4_BkCXdk-g",
        "outputId": "307e46a3-248e-4383-df7a-208a0c7c2f6f"
      },
      "execution_count": 19,
      "outputs": [
        {
          "output_type": "stream",
          "name": "stdout",
          "text": [
            "annotations  README.dataset.txt  README.roboflow.txt  subset  test  train  valid\n"
          ]
        }
      ]
    },
    {
      "cell_type": "code",
      "source": [
        "!cp tools/train.py /content/damo-yolo/train.py"
      ],
      "metadata": {
        "id": "jgaLv7uKhUph"
      },
      "execution_count": 20,
      "outputs": []
    },
    {
      "cell_type": "code",
      "source": [
        "import torch\n",
        "print(torch.__version__)  # Check PyTorch version\n",
        "print(torch.cuda.is_available())  # Check if CUDA is available\n"
      ],
      "metadata": {
        "colab": {
          "base_uri": "https://localhost:8080/"
        },
        "id": "fxWsGqhSh7cm",
        "outputId": "263e3093-5691-4909-b179-12c8c541aa9b"
      },
      "execution_count": 22,
      "outputs": [
        {
          "output_type": "stream",
          "name": "stdout",
          "text": [
            "2.5.1+cu124\n",
            "False\n"
          ]
        }
      ]
    },
    {
      "cell_type": "code",
      "source": [
        "!python /content/damo-yolo/damo/config/paths_catalog.py"
      ],
      "metadata": {
        "id": "v0QBruOEqwfo"
      },
      "execution_count": 21,
      "outputs": []
    },
    {
      "cell_type": "code",
      "source": [
        "!python /content/damo-yolo/damo/config/base.py"
      ],
      "metadata": {
        "id": "lLbUXT51ru0j"
      },
      "execution_count": null,
      "outputs": []
    },
    {
      "cell_type": "code",
      "source": [
        "!cp /content/damo-yolo/damo/config/base.py /content/damo-yolo/base.py"
      ],
      "metadata": {
        "id": "fUyrHN6WrQJo"
      },
      "execution_count": null,
      "outputs": []
    },
    {
      "cell_type": "code",
      "source": [
        "!python train.py -f configs/damoyolo_tinynasL20_T.py\n"
      ],
      "metadata": {
        "colab": {
          "base_uri": "https://localhost:8080/"
        },
        "id": "HfUisS95hH7o",
        "outputId": "9cadad39-18dd-47fc-a925-76c1177bbc37"
      },
      "execution_count": 48,
      "outputs": [
        {
          "output_type": "stream",
          "name": "stdout",
          "text": [
            "Training on CPU\n",
            "\u001b[32m2025-02-06 12:32:27\u001b[0m | \u001b[1mINFO    \u001b[0m | \u001b[36mdamo.apis.detector_trainer\u001b[0m:\u001b[36m114\u001b[0m - \u001b[1margs info: Namespace(config_file='configs/damoyolo_tinynasL20_T.py', local_rank=0, tea_config=None, tea_ckpt=None, opts=[])\u001b[0m\n",
            "\u001b[32m2025-02-06 12:32:27\u001b[0m | \u001b[1mINFO    \u001b[0m | \u001b[36mdamo.apis.detector_trainer\u001b[0m:\u001b[36m115\u001b[0m - \u001b[1mcfg value:\n",
            "╒═════════╤══════════════════════════════════════════════════════════════════════════════════╕\n",
            "│ keys    │ values                                                                           │\n",
            "╞═════════╪══════════════════════════════════════════════════════════════════════════════════╡\n",
            "│ model   │ {'backbone': {'act': 'relu',                                                     │\n",
            "│         │               'name': 'TinyNAS_res',                                             │\n",
            "│         │               'net_structure_str': \"[ {'class': 'ConvKXBNRELU', 'in': 3, 'k': \"  │\n",
            "│         │                                    \"3, 'nbitsA': 8, 'nbitsW': 8, 'out': 24, \"    │\n",
            "│         │                                    \"'s': 1},\\n\"                                  │\n",
            "│         │                                    \"  { 'L': 2,\\n\"                               │\n",
            "│         │                                    \"    'btn': 24,\\n\"                            │\n",
            "│         │                                    \"    'class': 'SuperResConvK1KX',\\n\"          │\n",
            "│         │                                    \"    'in': 24,\\n\"                             │\n",
            "│         │                                    \"    'inner_class': 'ResConvK1KX',\\n\"         │\n",
            "│         │                                    \"    'k': 3,\\n\"                               │\n",
            "│         │                                    \"    'nbitsA': [8, 8, 8, 8],\\n\"               │\n",
            "│         │                                    \"    'nbitsW': [8, 8, 8, 8],\\n\"               │\n",
            "│         │                                    \"    'out': 64,\\n\"                            │\n",
            "│         │                                    \"    's': 2},\\n\"                              │\n",
            "│         │                                    \"  { 'L': 2,\\n\"                               │\n",
            "│         │                                    \"    'btn': 64,\\n\"                            │\n",
            "│         │                                    \"    'class': 'SuperResConvK1KX',\\n\"          │\n",
            "│         │                                    \"    'in': 64,\\n\"                             │\n",
            "│         │                                    \"    'inner_class': 'ResConvK1KX',\\n\"         │\n",
            "│         │                                    \"    'k': 3,\\n\"                               │\n",
            "│         │                                    \"    'nbitsA': [8, 8, 8, 8],\\n\"               │\n",
            "│         │                                    \"    'nbitsW': [8, 8, 8, 8],\\n\"               │\n",
            "│         │                                    \"    'out': 96,\\n\"                            │\n",
            "│         │                                    \"    's': 2},\\n\"                              │\n",
            "│         │                                    \"  { 'L': 2,\\n\"                               │\n",
            "│         │                                    \"    'btn': 96,\\n\"                            │\n",
            "│         │                                    \"    'class': 'SuperResConvK1KX',\\n\"          │\n",
            "│         │                                    \"    'in': 96,\\n\"                             │\n",
            "│         │                                    \"    'inner_class': 'ResConvK1KX',\\n\"         │\n",
            "│         │                                    \"    'k': 3,\\n\"                               │\n",
            "│         │                                    \"    'nbitsA': [8, 8, 8, 8],\\n\"               │\n",
            "│         │                                    \"    'nbitsW': [8, 8, 8, 8],\\n\"               │\n",
            "│         │                                    \"    'out': 192,\\n\"                           │\n",
            "│         │                                    \"    's': 2},\\n\"                              │\n",
            "│         │                                    \"  { 'L': 2,\\n\"                               │\n",
            "│         │                                    \"    'btn': 152,\\n\"                           │\n",
            "│         │                                    \"    'class': 'SuperResConvK1KX',\\n\"          │\n",
            "│         │                                    \"    'in': 192,\\n\"                            │\n",
            "│         │                                    \"    'inner_class': 'ResConvK1KX',\\n\"         │\n",
            "│         │                                    \"    'k': 3,\\n\"                               │\n",
            "│         │                                    \"    'nbitsA': [8, 8, 8, 8],\\n\"               │\n",
            "│         │                                    \"    'nbitsW': [8, 8, 8, 8],\\n\"               │\n",
            "│         │                                    \"    'out': 192,\\n\"                           │\n",
            "│         │                                    \"    's': 1},\\n\"                              │\n",
            "│         │                                    \"  { 'L': 1,\\n\"                               │\n",
            "│         │                                    \"    'btn': 192,\\n\"                           │\n",
            "│         │                                    \"    'class': 'SuperResConvK1KX',\\n\"          │\n",
            "│         │                                    \"    'in': 192,\\n\"                            │\n",
            "│         │                                    \"    'inner_class': 'ResConvK1KX',\\n\"         │\n",
            "│         │                                    \"    'k': 3,\\n\"                               │\n",
            "│         │                                    \"    'nbitsA': [8, 8],\\n\"                     │\n",
            "│         │                                    \"    'nbitsW': [8, 8],\\n\"                     │\n",
            "│         │                                    \"    'out': 384,\\n\"                           │\n",
            "│         │                                    \"    's': 2}]\\n\",                             │\n",
            "│         │               'out_indices': (2, 4, 5),                                          │\n",
            "│         │               'reparam': True,                                                   │\n",
            "│         │               'use_focus': True,                                                 │\n",
            "│         │               'with_spp': True},                                                 │\n",
            "│         │  'head': {'act': 'silu',                                                         │\n",
            "│         │           'in_channels': [64, 128, 256],                                         │\n",
            "│         │           'legacy': False,                                                       │\n",
            "│         │           'name': 'ZeroHead',                                                    │\n",
            "│         │           'nms_conf_thre': 0.05,                                                 │\n",
            "│         │           'nms_iou_thre': 0.7,                                                   │\n",
            "│         │           'num_classes': 2,                                                      │\n",
            "│         │           'reg_max': 16,                                                         │\n",
            "│         │           'stacked_convs': 0},                                                   │\n",
            "│         │  'neck': {'act': 'relu',                                                         │\n",
            "│         │           'block_name': 'BasicBlock_3x3_Reverse',                                │\n",
            "│         │           'depth': 1.0,                                                          │\n",
            "│         │           'hidden_ratio': 1.0,                                                   │\n",
            "│         │           'in_channels': [96, 192, 384],                                         │\n",
            "│         │           'name': 'GiraffeNeckV2',                                               │\n",
            "│         │           'out_channels': [64, 128, 256],                                        │\n",
            "│         │           'spp': False}}                                                         │\n",
            "├─────────┼──────────────────────────────────────────────────────────────────────────────────┤\n",
            "│ train   │ {'augment': {'mosaic_mixup': {'degrees': 10.0,                                   │\n",
            "│         │                               'keep_ratio': False,                               │\n",
            "│         │                               'mixup_prob': 0.15,                                │\n",
            "│         │                               'mixup_scale': (0.5, 1.5),                         │\n",
            "│         │                               'mosaic_prob': 1.0,                                │\n",
            "│         │                               'mosaic_scale': (0.1, 2.0),                        │\n",
            "│         │                               'mosaic_size': (640, 640),                         │\n",
            "│         │                               'shear': 0.2,                                      │\n",
            "│         │                               'translate': 0.2},                                 │\n",
            "│         │              'transform': {'autoaug_dict': {'autoaug_params': (6, 9, 5, 3, 3, 4, │\n",
            "│         │                                                                2, 4, 4, 4, 5, 2, │\n",
            "│         │                                                                4, 1, 4, 2, 6, 4, │\n",
            "│         │                                                                2, 2, 2, 6, 2, 2, │\n",
            "│         │                                                                2, 0, 5, 1, 3, 0, │\n",
            "│         │                                                                8, 5, 2, 8, 7, 5, │\n",
            "│         │                                                                1, 3, 3, 3),      │\n",
            "│         │                                             'box_prob': 0.3,                     │\n",
            "│         │                                             'num_subpolicies': 5,                │\n",
            "│         │                                             'scale_splits': [2048, 10240,        │\n",
            "│         │                                                              51200]},            │\n",
            "│         │                            'flip_prob': 0.5,                                     │\n",
            "│         │                            'image_max_range': (640, 640),                        │\n",
            "│         │                            'image_mean': [0.0, 0.0, 0.0],                        │\n",
            "│         │                            'image_std': [1.0, 1.0, 1.0],                         │\n",
            "│         │                            'keep_ratio': False}},                                │\n",
            "│         │  'base_lr_per_img': 0.00015625,                                                  │\n",
            "│         │  'batch_size': 256,                                                              │\n",
            "│         │  'ema': True,                                                                    │\n",
            "│         │  'ema_momentum': 0.9998,                                                         │\n",
            "│         │  'finetune_path': '/content/damo-yolo/damoyolo_tinynasL20_T_436.pth',            │\n",
            "│         │  'min_lr_ratio': 0.05,                                                           │\n",
            "│         │  'momentum': 0.9,                                                                │\n",
            "│         │  'no_aug_epochs': 16,                                                            │\n",
            "│         │  'optimizer': {'lr': 0.04,                                                       │\n",
            "│         │                'momentum': 0.9,                                                  │\n",
            "│         │                'name': 'SGD',                                                    │\n",
            "│         │                'nesterov': True,                                                 │\n",
            "│         │                'weight_decay': 0.0005},                                          │\n",
            "│         │  'resume_path': None,                                                            │\n",
            "│         │  'total_epochs': 10,                                                             │\n",
            "│         │  'warmup_epochs': 5,                                                             │\n",
            "│         │  'warmup_start_lr': 0,                                                           │\n",
            "│         │  'weight_decay': 0.0005}                                                         │\n",
            "├─────────┼──────────────────────────────────────────────────────────────────────────────────┤\n",
            "│ test    │ {'augment': {'transform': {'flip_prob': 0.0,                                     │\n",
            "│         │                            'image_max_range': (640, 640),                        │\n",
            "│         │                            'image_mean': [0.0, 0.0, 0.0],                        │\n",
            "│         │                            'image_std': [1.0, 1.0, 1.0],                         │\n",
            "│         │                            'keep_ratio': False}},                                │\n",
            "│         │  'batch_size': 32}                                                               │\n",
            "├─────────┼──────────────────────────────────────────────────────────────────────────────────┤\n",
            "│ dataset │ {'aspect_ratio_grouping': False,                                                 │\n",
            "│         │  'class_names': ['spaces', 'space-empty', 'space-occupied'],                     │\n",
            "│         │  'data_dir': None,                                                               │\n",
            "│         │  'paths_catalog': '/content/damo-yolo/damo/config/paths_catalog.py',             │\n",
            "│         │  'train_ann': ('coco_2017_train',),                                              │\n",
            "│         │  'val_ann': ('coco_2017_val',)}                                                  │\n",
            "├─────────┼──────────────────────────────────────────────────────────────────────────────────┤\n",
            "│ miscs   │ {'ckpt_interval_epochs': 10,                                                     │\n",
            "│         │  'eval_interval_epochs': 10,                                                     │\n",
            "│         │  'exp_name': 'damoyolo_tinynasL20_T',                                            │\n",
            "│         │  'num_workers': 0,                                                               │\n",
            "│         │  'output_dir': './workdirs',                                                     │\n",
            "│         │  'print_interval_iters': 50,                                                     │\n",
            "│         │  'seed': 1234}                                                                   │\n",
            "╘═════════╧══════════════════════════════════════════════════════════════════════════════════╛\u001b[0m\n",
            "\u001b[32m2025-02-06 12:32:27\u001b[0m | \u001b[1mINFO    \u001b[0m | \u001b[36mdamo.apis.detector_trainer\u001b[0m:\u001b[36m120\u001b[0m - \u001b[1mmodel:\u001b[0m\n",
            "/content/damo-yolo/damo/detectors/detector.py:41: FutureWarning: You are using `torch.load` with `weights_only=False` (the current default value), which uses the default pickle module implicitly. It is possible to construct malicious pickle data which will execute arbitrary code during unpickling (See https://github.com/pytorch/pytorch/blob/main/SECURITY.md#untrusted-models for more details). In a future release, the default value for `weights_only` will be flipped to `True`. This limits the functions that could be executed during unpickling. Arbitrary objects will no longer be allowed to be loaded via this mode unless they are explicitly allowlisted by the user via `torch.serialization.add_safe_globals`. We recommend you start setting `weights_only=True` for any use case where you don't have full control of the loaded file. Please open an issue on GitHub for any issues related to this experimental feature.\n",
            "  state_dict = torch.load(pretrain_model, map_location='cpu')['model']\n",
            "\u001b[32m2025-02-06 12:32:28\u001b[0m | \u001b[1mINFO    \u001b[0m | \u001b[36mdamo.detectors.detector\u001b[0m:\u001b[36m42\u001b[0m - \u001b[1mFinetune from /content/damo-yolo/damoyolo_tinynasL20_T_436.pth................\u001b[0m\n",
            "\u001b[32m2025-02-06 12:32:28\u001b[0m | \u001b[1mINFO    \u001b[0m | \u001b[36mdamo.apis.detector_trainer\u001b[0m:\u001b[36m158\u001b[0m - \u001b[1mEnable ema model! Ema model will be evaluated and saved.\u001b[0m\n",
            "\u001b[32m2025-02-06 12:32:28\u001b[0m | \u001b[1mINFO    \u001b[0m | \u001b[36mtorchvision.datasets.coco\u001b[0m:\u001b[36m37\u001b[0m - \u001b[1mloading annotations into memory...\u001b[0m\n",
            "\u001b[32m2025-02-06 12:32:30\u001b[0m | \u001b[1mINFO    \u001b[0m | \u001b[36mtorchvision.datasets.coco\u001b[0m:\u001b[36m37\u001b[0m - \u001b[1mDone (t=1.57s)\u001b[0m\n",
            "\u001b[32m2025-02-06 12:32:30\u001b[0m | \u001b[1mINFO    \u001b[0m | \u001b[36mpycocotools.coco\u001b[0m:\u001b[36m86\u001b[0m - \u001b[1mcreating index...\u001b[0m\n",
            "Original Category to ID: {'spaces': 0, 'space-empty': 1, 'space-occupied': 2}\n",
            "Custom Class to ID: {'spaces': 0, 'space-empty': 1, 'space-occupied': 2}\n",
            "\u001b[32m2025-02-06 12:32:30\u001b[0m | \u001b[1mINFO    \u001b[0m | \u001b[36mpycocotools.coco\u001b[0m:\u001b[36m86\u001b[0m - \u001b[1mindex created!\u001b[0m\n",
            "\u001b[32m2025-02-06 12:32:30\u001b[0m | \u001b[1mINFO    \u001b[0m | \u001b[36mtorchvision.datasets.coco\u001b[0m:\u001b[36m37\u001b[0m - \u001b[1mloading annotations into memory...\u001b[0m\n",
            "\u001b[32m2025-02-06 12:32:30\u001b[0m | \u001b[1mINFO    \u001b[0m | \u001b[36mtorchvision.datasets.coco\u001b[0m:\u001b[36m37\u001b[0m - \u001b[1mDone (t=0.61s)\u001b[0m\n",
            "\u001b[32m2025-02-06 12:32:30\u001b[0m | \u001b[1mINFO    \u001b[0m | \u001b[36mpycocotools.coco\u001b[0m:\u001b[36m86\u001b[0m - \u001b[1mcreating index...\u001b[0m\n",
            "\u001b[32m2025-02-06 12:32:30\u001b[0m | \u001b[1mINFO    \u001b[0m | \u001b[36mpycocotools.coco\u001b[0m:\u001b[36m86\u001b[0m - \u001b[1mindex created!\u001b[0m\n",
            "Original Category to ID: {'spaces': 0, 'space-empty': 1, 'space-occupied': 2}\n",
            "Custom Class to ID: {'spaces': 0, 'space-empty': 1, 'space-occupied': 2}\n",
            "\u001b[32m2025-02-06 12:37:26\u001b[0m | \u001b[1mINFO    \u001b[0m | \u001b[36mdamo.apis.detector_trainer\u001b[0m:\u001b[36m266\u001b[0m - \u001b[1mModel Summary: backbone's params(M): 2.36, flops(G): 8.74, latency(ms): 301.384\n",
            "neck's params(M): 5.92, flops(G): 8.57, latency(ms): 171.531\n",
            "head's params(M): 0.28, flops(G): 0.90, latency(ms): 31.253\n",
            "total latency(ms): 574.127, total flops(G): 18.21, total params(M): 8.56\n",
            "\u001b[0m\n",
            "\u001b[32m2025-02-06 12:37:26\u001b[0m | \u001b[1mINFO    \u001b[0m | \u001b[36mdamo.apis.detector_trainer\u001b[0m:\u001b[36m276\u001b[0m - \u001b[1mModel: Detector(\n",
            "  (backbone): TinyNAS(\n",
            "    (block_list): ModuleList(\n",
            "      (0): Focus(\n",
            "        (conv): ConvBNAct(\n",
            "          (conv): Conv2d(12, 24, kernel_size=(3, 3), stride=(1, 1), padding=(1, 1), bias=False)\n",
            "          (bn): SyncBatchNorm(24, eps=0.001, momentum=0.03, affine=True, track_running_stats=True)\n",
            "          (act): ReLU(inplace=True)\n",
            "        )\n",
            "      )\n",
            "      (1): SuperResStem(\n",
            "        (act): ReLU(inplace=True)\n",
            "        (block_list): ModuleList(\n",
            "          (0): ResConvBlock(\n",
            "            (conv1): ConvKXBN(\n",
            "              (conv1): Conv2d(24, 24, kernel_size=(1, 1), stride=(1, 1), bias=False)\n",
            "              (bn1): SyncBatchNorm(24, eps=0.001, momentum=0.03, affine=True, track_running_stats=True)\n",
            "            )\n",
            "            (conv2): RepConv(\n",
            "              (nonlinearity): Identity()\n",
            "              (rbr_dense): Sequential(\n",
            "                (conv): Conv2d(24, 64, kernel_size=(3, 3), stride=(2, 2), padding=(1, 1), bias=False)\n",
            "                (bn): SyncBatchNorm(64, eps=0.001, momentum=0.03, affine=True, track_running_stats=True)\n",
            "              )\n",
            "              (rbr_1x1): Sequential(\n",
            "                (conv): Conv2d(24, 64, kernel_size=(1, 1), stride=(2, 2), bias=False)\n",
            "                (bn): SyncBatchNorm(64, eps=0.001, momentum=0.03, affine=True, track_running_stats=True)\n",
            "              )\n",
            "            )\n",
            "            (activation_function): ReLU(inplace=True)\n",
            "          )\n",
            "          (1): ResConvBlock(\n",
            "            (conv1): ConvKXBN(\n",
            "              (conv1): Conv2d(64, 24, kernel_size=(1, 1), stride=(1, 1), bias=False)\n",
            "              (bn1): SyncBatchNorm(24, eps=0.001, momentum=0.03, affine=True, track_running_stats=True)\n",
            "            )\n",
            "            (conv2): RepConv(\n",
            "              (nonlinearity): Identity()\n",
            "              (rbr_dense): Sequential(\n",
            "                (conv): Conv2d(24, 64, kernel_size=(3, 3), stride=(1, 1), padding=(1, 1), bias=False)\n",
            "                (bn): SyncBatchNorm(64, eps=0.001, momentum=0.03, affine=True, track_running_stats=True)\n",
            "              )\n",
            "              (rbr_1x1): Sequential(\n",
            "                (conv): Conv2d(24, 64, kernel_size=(1, 1), stride=(1, 1), bias=False)\n",
            "                (bn): SyncBatchNorm(64, eps=0.001, momentum=0.03, affine=True, track_running_stats=True)\n",
            "              )\n",
            "            )\n",
            "            (activation_function): ReLU(inplace=True)\n",
            "          )\n",
            "        )\n",
            "      )\n",
            "      (2): SuperResStem(\n",
            "        (act): ReLU(inplace=True)\n",
            "        (block_list): ModuleList(\n",
            "          (0): ResConvBlock(\n",
            "            (conv1): ConvKXBN(\n",
            "              (conv1): Conv2d(64, 64, kernel_size=(1, 1), stride=(1, 1), bias=False)\n",
            "              (bn1): SyncBatchNorm(64, eps=0.001, momentum=0.03, affine=True, track_running_stats=True)\n",
            "            )\n",
            "            (conv2): RepConv(\n",
            "              (nonlinearity): Identity()\n",
            "              (rbr_dense): Sequential(\n",
            "                (conv): Conv2d(64, 96, kernel_size=(3, 3), stride=(2, 2), padding=(1, 1), bias=False)\n",
            "                (bn): SyncBatchNorm(96, eps=0.001, momentum=0.03, affine=True, track_running_stats=True)\n",
            "              )\n",
            "              (rbr_1x1): Sequential(\n",
            "                (conv): Conv2d(64, 96, kernel_size=(1, 1), stride=(2, 2), bias=False)\n",
            "                (bn): SyncBatchNorm(96, eps=0.001, momentum=0.03, affine=True, track_running_stats=True)\n",
            "              )\n",
            "            )\n",
            "            (activation_function): ReLU(inplace=True)\n",
            "          )\n",
            "          (1): ResConvBlock(\n",
            "            (conv1): ConvKXBN(\n",
            "              (conv1): Conv2d(96, 64, kernel_size=(1, 1), stride=(1, 1), bias=False)\n",
            "              (bn1): SyncBatchNorm(64, eps=0.001, momentum=0.03, affine=True, track_running_stats=True)\n",
            "            )\n",
            "            (conv2): RepConv(\n",
            "              (nonlinearity): Identity()\n",
            "              (rbr_dense): Sequential(\n",
            "                (conv): Conv2d(64, 96, kernel_size=(3, 3), stride=(1, 1), padding=(1, 1), bias=False)\n",
            "                (bn): SyncBatchNorm(96, eps=0.001, momentum=0.03, affine=True, track_running_stats=True)\n",
            "              )\n",
            "              (rbr_1x1): Sequential(\n",
            "                (conv): Conv2d(64, 96, kernel_size=(1, 1), stride=(1, 1), bias=False)\n",
            "                (bn): SyncBatchNorm(96, eps=0.001, momentum=0.03, affine=True, track_running_stats=True)\n",
            "              )\n",
            "            )\n",
            "            (activation_function): ReLU(inplace=True)\n",
            "          )\n",
            "        )\n",
            "      )\n",
            "      (3): SuperResStem(\n",
            "        (act): ReLU(inplace=True)\n",
            "        (block_list): ModuleList(\n",
            "          (0): ResConvBlock(\n",
            "            (conv1): ConvKXBN(\n",
            "              (conv1): Conv2d(96, 96, kernel_size=(1, 1), stride=(1, 1), bias=False)\n",
            "              (bn1): SyncBatchNorm(96, eps=0.001, momentum=0.03, affine=True, track_running_stats=True)\n",
            "            )\n",
            "            (conv2): RepConv(\n",
            "              (nonlinearity): Identity()\n",
            "              (rbr_dense): Sequential(\n",
            "                (conv): Conv2d(96, 192, kernel_size=(3, 3), stride=(2, 2), padding=(1, 1), bias=False)\n",
            "                (bn): SyncBatchNorm(192, eps=0.001, momentum=0.03, affine=True, track_running_stats=True)\n",
            "              )\n",
            "              (rbr_1x1): Sequential(\n",
            "                (conv): Conv2d(96, 192, kernel_size=(1, 1), stride=(2, 2), bias=False)\n",
            "                (bn): SyncBatchNorm(192, eps=0.001, momentum=0.03, affine=True, track_running_stats=True)\n",
            "              )\n",
            "            )\n",
            "            (activation_function): ReLU(inplace=True)\n",
            "          )\n",
            "          (1): ResConvBlock(\n",
            "            (conv1): ConvKXBN(\n",
            "              (conv1): Conv2d(192, 96, kernel_size=(1, 1), stride=(1, 1), bias=False)\n",
            "              (bn1): SyncBatchNorm(96, eps=0.001, momentum=0.03, affine=True, track_running_stats=True)\n",
            "            )\n",
            "            (conv2): RepConv(\n",
            "              (nonlinearity): Identity()\n",
            "              (rbr_dense): Sequential(\n",
            "                (conv): Conv2d(96, 192, kernel_size=(3, 3), stride=(1, 1), padding=(1, 1), bias=False)\n",
            "                (bn): SyncBatchNorm(192, eps=0.001, momentum=0.03, affine=True, track_running_stats=True)\n",
            "              )\n",
            "              (rbr_1x1): Sequential(\n",
            "                (conv): Conv2d(96, 192, kernel_size=(1, 1), stride=(1, 1), bias=False)\n",
            "                (bn): SyncBatchNorm(192, eps=0.001, momentum=0.03, affine=True, track_running_stats=True)\n",
            "              )\n",
            "            )\n",
            "            (activation_function): ReLU(inplace=True)\n",
            "          )\n",
            "        )\n",
            "      )\n",
            "      (4): SuperResStem(\n",
            "        (act): ReLU(inplace=True)\n",
            "        (block_list): ModuleList(\n",
            "          (0-1): 2 x ResConvBlock(\n",
            "            (conv1): ConvKXBN(\n",
            "              (conv1): Conv2d(192, 152, kernel_size=(1, 1), stride=(1, 1), bias=False)\n",
            "              (bn1): SyncBatchNorm(152, eps=0.001, momentum=0.03, affine=True, track_running_stats=True)\n",
            "            )\n",
            "            (conv2): RepConv(\n",
            "              (nonlinearity): Identity()\n",
            "              (rbr_dense): Sequential(\n",
            "                (conv): Conv2d(152, 192, kernel_size=(3, 3), stride=(1, 1), padding=(1, 1), bias=False)\n",
            "                (bn): SyncBatchNorm(192, eps=0.001, momentum=0.03, affine=True, track_running_stats=True)\n",
            "              )\n",
            "              (rbr_1x1): Sequential(\n",
            "                (conv): Conv2d(152, 192, kernel_size=(1, 1), stride=(1, 1), bias=False)\n",
            "                (bn): SyncBatchNorm(192, eps=0.001, momentum=0.03, affine=True, track_running_stats=True)\n",
            "              )\n",
            "            )\n",
            "            (activation_function): ReLU(inplace=True)\n",
            "          )\n",
            "        )\n",
            "      )\n",
            "      (5): SuperResStem(\n",
            "        (act): ReLU(inplace=True)\n",
            "        (block_list): ModuleList(\n",
            "          (0): ResConvBlock(\n",
            "            (conv1): ConvKXBN(\n",
            "              (conv1): Conv2d(192, 192, kernel_size=(1, 1), stride=(1, 1), bias=False)\n",
            "              (bn1): SyncBatchNorm(192, eps=0.001, momentum=0.03, affine=True, track_running_stats=True)\n",
            "            )\n",
            "            (conv2): RepConv(\n",
            "              (nonlinearity): Identity()\n",
            "              (rbr_dense): Sequential(\n",
            "                (conv): Conv2d(192, 384, kernel_size=(3, 3), stride=(2, 2), padding=(1, 1), bias=False)\n",
            "                (bn): SyncBatchNorm(384, eps=0.001, momentum=0.03, affine=True, track_running_stats=True)\n",
            "              )\n",
            "              (rbr_1x1): Sequential(\n",
            "                (conv): Conv2d(192, 384, kernel_size=(1, 1), stride=(2, 2), bias=False)\n",
            "                (bn): SyncBatchNorm(384, eps=0.001, momentum=0.03, affine=True, track_running_stats=True)\n",
            "              )\n",
            "            )\n",
            "            (activation_function): ReLU(inplace=True)\n",
            "          )\n",
            "          (1): SPPBottleneck(\n",
            "            (conv1): ConvBNAct(\n",
            "              (conv): Conv2d(384, 192, kernel_size=(1, 1), stride=(1, 1), bias=False)\n",
            "              (bn): SyncBatchNorm(192, eps=0.001, momentum=0.03, affine=True, track_running_stats=True)\n",
            "              (act): SiLU(inplace=True)\n",
            "            )\n",
            "            (m): ModuleList(\n",
            "              (0): MaxPool2d(kernel_size=5, stride=1, padding=2, dilation=1, ceil_mode=False)\n",
            "              (1): MaxPool2d(kernel_size=9, stride=1, padding=4, dilation=1, ceil_mode=False)\n",
            "              (2): MaxPool2d(kernel_size=13, stride=1, padding=6, dilation=1, ceil_mode=False)\n",
            "            )\n",
            "            (conv2): ConvBNAct(\n",
            "              (conv): Conv2d(768, 384, kernel_size=(1, 1), stride=(1, 1), bias=False)\n",
            "              (bn): SyncBatchNorm(384, eps=0.001, momentum=0.03, affine=True, track_running_stats=True)\n",
            "              (act): SiLU(inplace=True)\n",
            "            )\n",
            "          )\n",
            "        )\n",
            "      )\n",
            "    )\n",
            "  )\n",
            "  (neck): GiraffeNeckV2(\n",
            "    (upsample): Upsample(scale_factor=2.0, mode='nearest')\n",
            "    (bu_conv13): ConvBNAct(\n",
            "      (conv): Conv2d(192, 192, kernel_size=(3, 3), stride=(2, 2), padding=(1, 1), bias=False)\n",
            "      (bn): SyncBatchNorm(192, eps=0.001, momentum=0.03, affine=True, track_running_stats=True)\n",
            "      (act): ReLU(inplace=True)\n",
            "    )\n",
            "    (merge_3): CSPStage(\n",
            "      (conv1): ConvBNAct(\n",
            "        (conv): Conv2d(576, 192, kernel_size=(1, 1), stride=(1, 1), bias=False)\n",
            "        (bn): SyncBatchNorm(192, eps=0.001, momentum=0.03, affine=True, track_running_stats=True)\n",
            "        (act): ReLU(inplace=True)\n",
            "      )\n",
            "      (conv2): ConvBNAct(\n",
            "        (conv): Conv2d(576, 192, kernel_size=(1, 1), stride=(1, 1), bias=False)\n",
            "        (bn): SyncBatchNorm(192, eps=0.001, momentum=0.03, affine=True, track_running_stats=True)\n",
            "        (act): ReLU(inplace=True)\n",
            "      )\n",
            "      (convs): Sequential(\n",
            "        (0): BasicBlock_3x3_Reverse(\n",
            "          (conv1): ConvBNAct(\n",
            "            (conv): Conv2d(192, 192, kernel_size=(3, 3), stride=(1, 1), padding=(1, 1), bias=False)\n",
            "            (bn): SyncBatchNorm(192, eps=0.001, momentum=0.03, affine=True, track_running_stats=True)\n",
            "            (act): ReLU(inplace=True)\n",
            "          )\n",
            "          (conv2): RepConv(\n",
            "            (nonlinearity): ReLU(inplace=True)\n",
            "            (rbr_dense): Sequential(\n",
            "              (conv): Conv2d(192, 192, kernel_size=(3, 3), stride=(1, 1), padding=(1, 1), bias=False)\n",
            "              (bn): SyncBatchNorm(192, eps=0.001, momentum=0.03, affine=True, track_running_stats=True)\n",
            "            )\n",
            "            (rbr_1x1): Sequential(\n",
            "              (conv): Conv2d(192, 192, kernel_size=(1, 1), stride=(1, 1), bias=False)\n",
            "              (bn): SyncBatchNorm(192, eps=0.001, momentum=0.03, affine=True, track_running_stats=True)\n",
            "            )\n",
            "          )\n",
            "        )\n",
            "        (1): BasicBlock_3x3_Reverse(\n",
            "          (conv1): ConvBNAct(\n",
            "            (conv): Conv2d(192, 192, kernel_size=(3, 3), stride=(1, 1), padding=(1, 1), bias=False)\n",
            "            (bn): SyncBatchNorm(192, eps=0.001, momentum=0.03, affine=True, track_running_stats=True)\n",
            "            (act): ReLU(inplace=True)\n",
            "          )\n",
            "          (conv2): RepConv(\n",
            "            (nonlinearity): ReLU(inplace=True)\n",
            "            (rbr_dense): Sequential(\n",
            "              (conv): Conv2d(192, 192, kernel_size=(3, 3), stride=(1, 1), padding=(1, 1), bias=False)\n",
            "              (bn): SyncBatchNorm(192, eps=0.001, momentum=0.03, affine=True, track_running_stats=True)\n",
            "            )\n",
            "            (rbr_1x1): Sequential(\n",
            "              (conv): Conv2d(192, 192, kernel_size=(1, 1), stride=(1, 1), bias=False)\n",
            "              (bn): SyncBatchNorm(192, eps=0.001, momentum=0.03, affine=True, track_running_stats=True)\n",
            "            )\n",
            "          )\n",
            "        )\n",
            "        (2): BasicBlock_3x3_Reverse(\n",
            "          (conv1): ConvBNAct(\n",
            "            (conv): Conv2d(192, 192, kernel_size=(3, 3), stride=(1, 1), padding=(1, 1), bias=False)\n",
            "            (bn): SyncBatchNorm(192, eps=0.001, momentum=0.03, affine=True, track_running_stats=True)\n",
            "            (act): ReLU(inplace=True)\n",
            "          )\n",
            "          (conv2): RepConv(\n",
            "            (nonlinearity): ReLU(inplace=True)\n",
            "            (rbr_dense): Sequential(\n",
            "              (conv): Conv2d(192, 192, kernel_size=(3, 3), stride=(1, 1), padding=(1, 1), bias=False)\n",
            "              (bn): SyncBatchNorm(192, eps=0.001, momentum=0.03, affine=True, track_running_stats=True)\n",
            "            )\n",
            "            (rbr_1x1): Sequential(\n",
            "              (conv): Conv2d(192, 192, kernel_size=(1, 1), stride=(1, 1), bias=False)\n",
            "              (bn): SyncBatchNorm(192, eps=0.001, momentum=0.03, affine=True, track_running_stats=True)\n",
            "            )\n",
            "          )\n",
            "        )\n",
            "      )\n",
            "      (conv3): ConvBNAct(\n",
            "        (conv): Conv2d(768, 384, kernel_size=(1, 1), stride=(1, 1), bias=False)\n",
            "        (bn): SyncBatchNorm(384, eps=0.001, momentum=0.03, affine=True, track_running_stats=True)\n",
            "        (act): ReLU(inplace=True)\n",
            "      )\n",
            "    )\n",
            "    (bu_conv24): ConvBNAct(\n",
            "      (conv): Conv2d(96, 96, kernel_size=(3, 3), stride=(2, 2), padding=(1, 1), bias=False)\n",
            "      (bn): SyncBatchNorm(96, eps=0.001, momentum=0.03, affine=True, track_running_stats=True)\n",
            "      (act): ReLU(inplace=True)\n",
            "    )\n",
            "    (merge_4): CSPStage(\n",
            "      (conv1): ConvBNAct(\n",
            "        (conv): Conv2d(672, 96, kernel_size=(1, 1), stride=(1, 1), bias=False)\n",
            "        (bn): SyncBatchNorm(96, eps=0.001, momentum=0.03, affine=True, track_running_stats=True)\n",
            "        (act): ReLU(inplace=True)\n",
            "      )\n",
            "      (conv2): ConvBNAct(\n",
            "        (conv): Conv2d(672, 96, kernel_size=(1, 1), stride=(1, 1), bias=False)\n",
            "        (bn): SyncBatchNorm(96, eps=0.001, momentum=0.03, affine=True, track_running_stats=True)\n",
            "        (act): ReLU(inplace=True)\n",
            "      )\n",
            "      (convs): Sequential(\n",
            "        (0): BasicBlock_3x3_Reverse(\n",
            "          (conv1): ConvBNAct(\n",
            "            (conv): Conv2d(96, 96, kernel_size=(3, 3), stride=(1, 1), padding=(1, 1), bias=False)\n",
            "            (bn): SyncBatchNorm(96, eps=0.001, momentum=0.03, affine=True, track_running_stats=True)\n",
            "            (act): ReLU(inplace=True)\n",
            "          )\n",
            "          (conv2): RepConv(\n",
            "            (nonlinearity): ReLU(inplace=True)\n",
            "            (rbr_dense): Sequential(\n",
            "              (conv): Conv2d(96, 96, kernel_size=(3, 3), stride=(1, 1), padding=(1, 1), bias=False)\n",
            "              (bn): SyncBatchNorm(96, eps=0.001, momentum=0.03, affine=True, track_running_stats=True)\n",
            "            )\n",
            "            (rbr_1x1): Sequential(\n",
            "              (conv): Conv2d(96, 96, kernel_size=(1, 1), stride=(1, 1), bias=False)\n",
            "              (bn): SyncBatchNorm(96, eps=0.001, momentum=0.03, affine=True, track_running_stats=True)\n",
            "            )\n",
            "          )\n",
            "        )\n",
            "        (1): BasicBlock_3x3_Reverse(\n",
            "          (conv1): ConvBNAct(\n",
            "            (conv): Conv2d(96, 96, kernel_size=(3, 3), stride=(1, 1), padding=(1, 1), bias=False)\n",
            "            (bn): SyncBatchNorm(96, eps=0.001, momentum=0.03, affine=True, track_running_stats=True)\n",
            "            (act): ReLU(inplace=True)\n",
            "          )\n",
            "          (conv2): RepConv(\n",
            "            (nonlinearity): ReLU(inplace=True)\n",
            "            (rbr_dense): Sequential(\n",
            "              (conv): Conv2d(96, 96, kernel_size=(3, 3), stride=(1, 1), padding=(1, 1), bias=False)\n",
            "              (bn): SyncBatchNorm(96, eps=0.001, momentum=0.03, affine=True, track_running_stats=True)\n",
            "            )\n",
            "            (rbr_1x1): Sequential(\n",
            "              (conv): Conv2d(96, 96, kernel_size=(1, 1), stride=(1, 1), bias=False)\n",
            "              (bn): SyncBatchNorm(96, eps=0.001, momentum=0.03, affine=True, track_running_stats=True)\n",
            "            )\n",
            "          )\n",
            "        )\n",
            "        (2): BasicBlock_3x3_Reverse(\n",
            "          (conv1): ConvBNAct(\n",
            "            (conv): Conv2d(96, 96, kernel_size=(3, 3), stride=(1, 1), padding=(1, 1), bias=False)\n",
            "            (bn): SyncBatchNorm(96, eps=0.001, momentum=0.03, affine=True, track_running_stats=True)\n",
            "            (act): ReLU(inplace=True)\n",
            "          )\n",
            "          (conv2): RepConv(\n",
            "            (nonlinearity): ReLU(inplace=True)\n",
            "            (rbr_dense): Sequential(\n",
            "              (conv): Conv2d(96, 96, kernel_size=(3, 3), stride=(1, 1), padding=(1, 1), bias=False)\n",
            "              (bn): SyncBatchNorm(96, eps=0.001, momentum=0.03, affine=True, track_running_stats=True)\n",
            "            )\n",
            "            (rbr_1x1): Sequential(\n",
            "              (conv): Conv2d(96, 96, kernel_size=(1, 1), stride=(1, 1), bias=False)\n",
            "              (bn): SyncBatchNorm(96, eps=0.001, momentum=0.03, affine=True, track_running_stats=True)\n",
            "            )\n",
            "          )\n",
            "        )\n",
            "      )\n",
            "      (conv3): ConvBNAct(\n",
            "        (conv): Conv2d(384, 192, kernel_size=(1, 1), stride=(1, 1), bias=False)\n",
            "        (bn): SyncBatchNorm(192, eps=0.001, momentum=0.03, affine=True, track_running_stats=True)\n",
            "        (act): ReLU(inplace=True)\n",
            "      )\n",
            "    )\n",
            "    (merge_5): CSPStage(\n",
            "      (conv1): ConvBNAct(\n",
            "        (conv): Conv2d(288, 32, kernel_size=(1, 1), stride=(1, 1), bias=False)\n",
            "        (bn): SyncBatchNorm(32, eps=0.001, momentum=0.03, affine=True, track_running_stats=True)\n",
            "        (act): ReLU(inplace=True)\n",
            "      )\n",
            "      (conv2): ConvBNAct(\n",
            "        (conv): Conv2d(288, 32, kernel_size=(1, 1), stride=(1, 1), bias=False)\n",
            "        (bn): SyncBatchNorm(32, eps=0.001, momentum=0.03, affine=True, track_running_stats=True)\n",
            "        (act): ReLU(inplace=True)\n",
            "      )\n",
            "      (convs): Sequential(\n",
            "        (0): BasicBlock_3x3_Reverse(\n",
            "          (conv1): ConvBNAct(\n",
            "            (conv): Conv2d(32, 32, kernel_size=(3, 3), stride=(1, 1), padding=(1, 1), bias=False)\n",
            "            (bn): SyncBatchNorm(32, eps=0.001, momentum=0.03, affine=True, track_running_stats=True)\n",
            "            (act): ReLU(inplace=True)\n",
            "          )\n",
            "          (conv2): RepConv(\n",
            "            (nonlinearity): ReLU(inplace=True)\n",
            "            (rbr_dense): Sequential(\n",
            "              (conv): Conv2d(32, 32, kernel_size=(3, 3), stride=(1, 1), padding=(1, 1), bias=False)\n",
            "              (bn): SyncBatchNorm(32, eps=0.001, momentum=0.03, affine=True, track_running_stats=True)\n",
            "            )\n",
            "            (rbr_1x1): Sequential(\n",
            "              (conv): Conv2d(32, 32, kernel_size=(1, 1), stride=(1, 1), bias=False)\n",
            "              (bn): SyncBatchNorm(32, eps=0.001, momentum=0.03, affine=True, track_running_stats=True)\n",
            "            )\n",
            "          )\n",
            "        )\n",
            "        (1): BasicBlock_3x3_Reverse(\n",
            "          (conv1): ConvBNAct(\n",
            "            (conv): Conv2d(32, 32, kernel_size=(3, 3), stride=(1, 1), padding=(1, 1), bias=False)\n",
            "            (bn): SyncBatchNorm(32, eps=0.001, momentum=0.03, affine=True, track_running_stats=True)\n",
            "            (act): ReLU(inplace=True)\n",
            "          )\n",
            "          (conv2): RepConv(\n",
            "            (nonlinearity): ReLU(inplace=True)\n",
            "            (rbr_dense): Sequential(\n",
            "              (conv): Conv2d(32, 32, kernel_size=(3, 3), stride=(1, 1), padding=(1, 1), bias=False)\n",
            "              (bn): SyncBatchNorm(32, eps=0.001, momentum=0.03, affine=True, track_running_stats=True)\n",
            "            )\n",
            "            (rbr_1x1): Sequential(\n",
            "              (conv): Conv2d(32, 32, kernel_size=(1, 1), stride=(1, 1), bias=False)\n",
            "              (bn): SyncBatchNorm(32, eps=0.001, momentum=0.03, affine=True, track_running_stats=True)\n",
            "            )\n",
            "          )\n",
            "        )\n",
            "        (2): BasicBlock_3x3_Reverse(\n",
            "          (conv1): ConvBNAct(\n",
            "            (conv): Conv2d(32, 32, kernel_size=(3, 3), stride=(1, 1), padding=(1, 1), bias=False)\n",
            "            (bn): SyncBatchNorm(32, eps=0.001, momentum=0.03, affine=True, track_running_stats=True)\n",
            "            (act): ReLU(inplace=True)\n",
            "          )\n",
            "          (conv2): RepConv(\n",
            "            (nonlinearity): ReLU(inplace=True)\n",
            "            (rbr_dense): Sequential(\n",
            "              (conv): Conv2d(32, 32, kernel_size=(3, 3), stride=(1, 1), padding=(1, 1), bias=False)\n",
            "              (bn): SyncBatchNorm(32, eps=0.001, momentum=0.03, affine=True, track_running_stats=True)\n",
            "            )\n",
            "            (rbr_1x1): Sequential(\n",
            "              (conv): Conv2d(32, 32, kernel_size=(1, 1), stride=(1, 1), bias=False)\n",
            "              (bn): SyncBatchNorm(32, eps=0.001, momentum=0.03, affine=True, track_running_stats=True)\n",
            "            )\n",
            "          )\n",
            "        )\n",
            "      )\n",
            "      (conv3): ConvBNAct(\n",
            "        (conv): Conv2d(128, 64, kernel_size=(1, 1), stride=(1, 1), bias=False)\n",
            "        (bn): SyncBatchNorm(64, eps=0.001, momentum=0.03, affine=True, track_running_stats=True)\n",
            "        (act): ReLU(inplace=True)\n",
            "      )\n",
            "    )\n",
            "    (bu_conv57): ConvBNAct(\n",
            "      (conv): Conv2d(64, 64, kernel_size=(3, 3), stride=(2, 2), padding=(1, 1), bias=False)\n",
            "      (bn): SyncBatchNorm(64, eps=0.001, momentum=0.03, affine=True, track_running_stats=True)\n",
            "      (act): ReLU(inplace=True)\n",
            "    )\n",
            "    (merge_7): CSPStage(\n",
            "      (conv1): ConvBNAct(\n",
            "        (conv): Conv2d(256, 64, kernel_size=(1, 1), stride=(1, 1), bias=False)\n",
            "        (bn): SyncBatchNorm(64, eps=0.001, momentum=0.03, affine=True, track_running_stats=True)\n",
            "        (act): ReLU(inplace=True)\n",
            "      )\n",
            "      (conv2): ConvBNAct(\n",
            "        (conv): Conv2d(256, 64, kernel_size=(1, 1), stride=(1, 1), bias=False)\n",
            "        (bn): SyncBatchNorm(64, eps=0.001, momentum=0.03, affine=True, track_running_stats=True)\n",
            "        (act): ReLU(inplace=True)\n",
            "      )\n",
            "      (convs): Sequential(\n",
            "        (0): BasicBlock_3x3_Reverse(\n",
            "          (conv1): ConvBNAct(\n",
            "            (conv): Conv2d(64, 64, kernel_size=(3, 3), stride=(1, 1), padding=(1, 1), bias=False)\n",
            "            (bn): SyncBatchNorm(64, eps=0.001, momentum=0.03, affine=True, track_running_stats=True)\n",
            "            (act): ReLU(inplace=True)\n",
            "          )\n",
            "          (conv2): RepConv(\n",
            "            (nonlinearity): ReLU(inplace=True)\n",
            "            (rbr_dense): Sequential(\n",
            "              (conv): Conv2d(64, 64, kernel_size=(3, 3), stride=(1, 1), padding=(1, 1), bias=False)\n",
            "              (bn): SyncBatchNorm(64, eps=0.001, momentum=0.03, affine=True, track_running_stats=True)\n",
            "            )\n",
            "            (rbr_1x1): Sequential(\n",
            "              (conv): Conv2d(64, 64, kernel_size=(1, 1), stride=(1, 1), bias=False)\n",
            "              (bn): SyncBatchNorm(64, eps=0.001, momentum=0.03, affine=True, track_running_stats=True)\n",
            "            )\n",
            "          )\n",
            "        )\n",
            "        (1): BasicBlock_3x3_Reverse(\n",
            "          (conv1): ConvBNAct(\n",
            "            (conv): Conv2d(64, 64, kernel_size=(3, 3), stride=(1, 1), padding=(1, 1), bias=False)\n",
            "            (bn): SyncBatchNorm(64, eps=0.001, momentum=0.03, affine=True, track_running_stats=True)\n",
            "            (act): ReLU(inplace=True)\n",
            "          )\n",
            "          (conv2): RepConv(\n",
            "            (nonlinearity): ReLU(inplace=True)\n",
            "            (rbr_dense): Sequential(\n",
            "              (conv): Conv2d(64, 64, kernel_size=(3, 3), stride=(1, 1), padding=(1, 1), bias=False)\n",
            "              (bn): SyncBatchNorm(64, eps=0.001, momentum=0.03, affine=True, track_running_stats=True)\n",
            "            )\n",
            "            (rbr_1x1): Sequential(\n",
            "              (conv): Conv2d(64, 64, kernel_size=(1, 1), stride=(1, 1), bias=False)\n",
            "              (bn): SyncBatchNorm(64, eps=0.001, momentum=0.03, affine=True, track_running_stats=True)\n",
            "            )\n",
            "          )\n",
            "        )\n",
            "        (2): BasicBlock_3x3_Reverse(\n",
            "          (conv1): ConvBNAct(\n",
            "            (conv): Conv2d(64, 64, kernel_size=(3, 3), stride=(1, 1), padding=(1, 1), bias=False)\n",
            "            (bn): SyncBatchNorm(64, eps=0.001, momentum=0.03, affine=True, track_running_stats=True)\n",
            "            (act): ReLU(inplace=True)\n",
            "          )\n",
            "          (conv2): RepConv(\n",
            "            (nonlinearity): ReLU(inplace=True)\n",
            "            (rbr_dense): Sequential(\n",
            "              (conv): Conv2d(64, 64, kernel_size=(3, 3), stride=(1, 1), padding=(1, 1), bias=False)\n",
            "              (bn): SyncBatchNorm(64, eps=0.001, momentum=0.03, affine=True, track_running_stats=True)\n",
            "            )\n",
            "            (rbr_1x1): Sequential(\n",
            "              (conv): Conv2d(64, 64, kernel_size=(1, 1), stride=(1, 1), bias=False)\n",
            "              (bn): SyncBatchNorm(64, eps=0.001, momentum=0.03, affine=True, track_running_stats=True)\n",
            "            )\n",
            "          )\n",
            "        )\n",
            "      )\n",
            "      (conv3): ConvBNAct(\n",
            "        (conv): Conv2d(256, 128, kernel_size=(1, 1), stride=(1, 1), bias=False)\n",
            "        (bn): SyncBatchNorm(128, eps=0.001, momentum=0.03, affine=True, track_running_stats=True)\n",
            "        (act): ReLU(inplace=True)\n",
            "      )\n",
            "    )\n",
            "    (bu_conv46): ConvBNAct(\n",
            "      (conv): Conv2d(192, 192, kernel_size=(3, 3), stride=(2, 2), padding=(1, 1), bias=False)\n",
            "      (bn): SyncBatchNorm(192, eps=0.001, momentum=0.03, affine=True, track_running_stats=True)\n",
            "      (act): ReLU(inplace=True)\n",
            "    )\n",
            "    (bu_conv76): ConvBNAct(\n",
            "      (conv): Conv2d(128, 128, kernel_size=(3, 3), stride=(2, 2), padding=(1, 1), bias=False)\n",
            "      (bn): SyncBatchNorm(128, eps=0.001, momentum=0.03, affine=True, track_running_stats=True)\n",
            "      (act): ReLU(inplace=True)\n",
            "    )\n",
            "    (merge_6): CSPStage(\n",
            "      (conv1): ConvBNAct(\n",
            "        (conv): Conv2d(704, 128, kernel_size=(1, 1), stride=(1, 1), bias=False)\n",
            "        (bn): SyncBatchNorm(128, eps=0.001, momentum=0.03, affine=True, track_running_stats=True)\n",
            "        (act): ReLU(inplace=True)\n",
            "      )\n",
            "      (conv2): ConvBNAct(\n",
            "        (conv): Conv2d(704, 128, kernel_size=(1, 1), stride=(1, 1), bias=False)\n",
            "        (bn): SyncBatchNorm(128, eps=0.001, momentum=0.03, affine=True, track_running_stats=True)\n",
            "        (act): ReLU(inplace=True)\n",
            "      )\n",
            "      (convs): Sequential(\n",
            "        (0): BasicBlock_3x3_Reverse(\n",
            "          (conv1): ConvBNAct(\n",
            "            (conv): Conv2d(128, 128, kernel_size=(3, 3), stride=(1, 1), padding=(1, 1), bias=False)\n",
            "            (bn): SyncBatchNorm(128, eps=0.001, momentum=0.03, affine=True, track_running_stats=True)\n",
            "            (act): ReLU(inplace=True)\n",
            "          )\n",
            "          (conv2): RepConv(\n",
            "            (nonlinearity): ReLU(inplace=True)\n",
            "            (rbr_dense): Sequential(\n",
            "              (conv): Conv2d(128, 128, kernel_size=(3, 3), stride=(1, 1), padding=(1, 1), bias=False)\n",
            "              (bn): SyncBatchNorm(128, eps=0.001, momentum=0.03, affine=True, track_running_stats=True)\n",
            "            )\n",
            "            (rbr_1x1): Sequential(\n",
            "              (conv): Conv2d(128, 128, kernel_size=(1, 1), stride=(1, 1), bias=False)\n",
            "              (bn): SyncBatchNorm(128, eps=0.001, momentum=0.03, affine=True, track_running_stats=True)\n",
            "            )\n",
            "          )\n",
            "        )\n",
            "        (1): BasicBlock_3x3_Reverse(\n",
            "          (conv1): ConvBNAct(\n",
            "            (conv): Conv2d(128, 128, kernel_size=(3, 3), stride=(1, 1), padding=(1, 1), bias=False)\n",
            "            (bn): SyncBatchNorm(128, eps=0.001, momentum=0.03, affine=True, track_running_stats=True)\n",
            "            (act): ReLU(inplace=True)\n",
            "          )\n",
            "          (conv2): RepConv(\n",
            "            (nonlinearity): ReLU(inplace=True)\n",
            "            (rbr_dense): Sequential(\n",
            "              (conv): Conv2d(128, 128, kernel_size=(3, 3), stride=(1, 1), padding=(1, 1), bias=False)\n",
            "              (bn): SyncBatchNorm(128, eps=0.001, momentum=0.03, affine=True, track_running_stats=True)\n",
            "            )\n",
            "            (rbr_1x1): Sequential(\n",
            "              (conv): Conv2d(128, 128, kernel_size=(1, 1), stride=(1, 1), bias=False)\n",
            "              (bn): SyncBatchNorm(128, eps=0.001, momentum=0.03, affine=True, track_running_stats=True)\n",
            "            )\n",
            "          )\n",
            "        )\n",
            "        (2): BasicBlock_3x3_Reverse(\n",
            "          (conv1): ConvBNAct(\n",
            "            (conv): Conv2d(128, 128, kernel_size=(3, 3), stride=(1, 1), padding=(1, 1), bias=False)\n",
            "            (bn): SyncBatchNorm(128, eps=0.001, momentum=0.03, affine=True, track_running_stats=True)\n",
            "            (act): ReLU(inplace=True)\n",
            "          )\n",
            "          (conv2): RepConv(\n",
            "            (nonlinearity): ReLU(inplace=True)\n",
            "            (rbr_dense): Sequential(\n",
            "              (conv): Conv2d(128, 128, kernel_size=(3, 3), stride=(1, 1), padding=(1, 1), bias=False)\n",
            "              (bn): SyncBatchNorm(128, eps=0.001, momentum=0.03, affine=True, track_running_stats=True)\n",
            "            )\n",
            "            (rbr_1x1): Sequential(\n",
            "              (conv): Conv2d(128, 128, kernel_size=(1, 1), stride=(1, 1), bias=False)\n",
            "              (bn): SyncBatchNorm(128, eps=0.001, momentum=0.03, affine=True, track_running_stats=True)\n",
            "            )\n",
            "          )\n",
            "        )\n",
            "      )\n",
            "      (conv3): ConvBNAct(\n",
            "        (conv): Conv2d(512, 256, kernel_size=(1, 1), stride=(1, 1), bias=False)\n",
            "        (bn): SyncBatchNorm(256, eps=0.001, momentum=0.03, affine=True, track_running_stats=True)\n",
            "        (act): ReLU(inplace=True)\n",
            "      )\n",
            "    )\n",
            "  )\n",
            "  (head): ZeroHead(\n",
            "    (integral): Integral()\n",
            "    (loss_dfl): DistributionFocalLoss()\n",
            "    (loss_cls): QualityFocalLoss()\n",
            "    (loss_bbox): GIoULoss()\n",
            "    (cls_convs): ModuleList(\n",
            "      (0-2): 3 x ModuleList()\n",
            "    )\n",
            "    (reg_convs): ModuleList(\n",
            "      (0-2): 3 x ModuleList()\n",
            "    )\n",
            "    (gfl_cls): ModuleList(\n",
            "      (0): Conv2d(64, 2, kernel_size=(3, 3), stride=(1, 1), padding=(1, 1))\n",
            "      (1): Conv2d(128, 2, kernel_size=(3, 3), stride=(1, 1), padding=(1, 1))\n",
            "      (2): Conv2d(256, 2, kernel_size=(3, 3), stride=(1, 1), padding=(1, 1))\n",
            "    )\n",
            "    (gfl_reg): ModuleList(\n",
            "      (0): Conv2d(64, 68, kernel_size=(3, 3), stride=(1, 1), padding=(1, 1))\n",
            "      (1): Conv2d(128, 68, kernel_size=(3, 3), stride=(1, 1), padding=(1, 1))\n",
            "      (2): Conv2d(256, 68, kernel_size=(3, 3), stride=(1, 1), padding=(1, 1))\n",
            "    )\n",
            "    (scales): ModuleList(\n",
            "      (0-2): 3 x Scale()\n",
            "    )\n",
            "  )\n",
            ")\u001b[0m\n",
            "\u001b[32m2025-02-06 12:37:26\u001b[0m | \u001b[1mINFO    \u001b[0m | \u001b[36mdamo.apis.detector_trainer\u001b[0m:\u001b[36m277\u001b[0m - \u001b[1mTraining start...\u001b[0m\n",
            "^C\n"
          ]
        }
      ]
    },
    {
      "cell_type": "code",
      "source": [
        "!cp -r /content/damo-yolo /content/drive/MyDrive"
      ],
      "metadata": {
        "id": "1qKTuhM_vZjp"
      },
      "execution_count": 49,
      "outputs": []
    }
  ]
}