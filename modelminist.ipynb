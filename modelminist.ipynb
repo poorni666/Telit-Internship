{
  "cells": [
    {
      "cell_type": "markdown",
      "metadata": {
        "id": "wbsreEfjnQtP"
      },
      "source": [
        "# Implementation of MobileNetv2+SSD<br>\n",
        "This is an implementation of the MobileNetv2 + SSD architecture for a relatively simpler task of determining bounding boxes for MNIST images embedded in a box. Each box contains only one digit(28x28 MNIST embedded into a 224x224 box) as of now, but the number of predictions per image can be expanded easily (the training outputs need to modified). Also, no data augmentation has been used till now (Colab kept crashing when I increased the dataset size beyond 1000, so the initial amount of data present was sufficient. The crashes might have been due to high traffic, but I haven't confirmed it).<p>\n",
        "In the earlier implementation, the ground truth data contained information about only one bounding box, which meant only one prediction per image (reference in README). For me, it also reduced the training signal and the model was overfitting. So I changed the outputs to a prediction for each default box (as it should be, from what I understood from the SSD paper). Although the initial implementation is good for the purposes for understanding the model.\n",
        "\n",
        "Comments mentioned throughout the code mention what needs to change if the model inputs or outputs are changed."
      ]
    },
    {
      "cell_type": "markdown",
      "metadata": {
        "id": "TdL2AL8yAi00"
      },
      "source": [
        "Import libraries"
      ]
    },
    {
      "cell_type": "code",
      "execution_count": 3,
      "metadata": {
        "colab": {
          "base_uri": "https://localhost:8080/"
        },
        "id": "qumy7Fegdc6L",
        "outputId": "9f5fa69a-91f9-4c2d-fdfd-fc9887912b1a"
      },
      "outputs": [
        {
          "name": "stdout",
          "output_type": "stream",
          "text": [
            "Defaulting to user installation because normal site-packages is not writeable\n",
            "Requirement already satisfied: keras==2.8 in /home/poornimadevikr/.local/lib/python3.7/site-packages (2.8.0)\n",
            "Requirement already satisfied: bottleneck in /home/poornimadevikr/.local/lib/python3.7/site-packages (1.4.0)\n",
            "Requirement already satisfied: numpy in /home/poornimadevikr/.local/lib/python3.7/site-packages (from bottleneck) (1.21.6)\n",
            "\u001b[33mWARNING: You are using pip version 22.0.4; however, version 24.0 is available.\n",
            "You should consider upgrading via the '/opt/pyenv/versions/3.7.13/bin/python3.7 -m pip install --upgrade pip' command.\u001b[0m\u001b[33m\n",
            "\u001b[0m"
          ]
        }
      ],
      "source": [
        "!pip install keras==2.8 bottleneck"
      ]
    },
    {
      "cell_type": "code",
      "execution_count": 4,
      "metadata": {},
      "outputs": [
        {
          "name": "stdout",
          "output_type": "stream",
          "text": [
            "Python 3.7.13\n"
          ]
        }
      ],
      "source": [
        "!python --version"
      ]
    },
    {
      "cell_type": "code",
      "execution_count": 1,
      "metadata": {},
      "outputs": [
        {
          "name": "stdout",
          "output_type": "stream",
          "text": [
            "2.8.0\n"
          ]
        }
      ],
      "source": [
        "import tensorflow as tf\n",
        "print(tf.__version__)\n"
      ]
    },
    {
      "cell_type": "code",
      "execution_count": 6,
      "metadata": {
        "id": "_hvSY3X-AeFP"
      },
      "outputs": [],
      "source": [
        "import os\n",
        "import numpy as np\n",
        "from tensorflow.keras import layers\n",
        "from tensorflow import keras \n",
        "import tensorflow as tf\n",
        "import numpy.matlib\n",
        "from PIL import Image\n",
        "from keras import backend as K\n",
        "from scipy.special import softmax\n",
        "import matplotlib.pyplot as plt\n",
        "import matplotlib.patches as patches\n",
        "import bottleneck"
      ]
    },
    {
      "cell_type": "code",
      "execution_count": 7,
      "metadata": {
        "id": "3wFty_P6dfBB"
      },
      "outputs": [],
      "source": [
        "tf.compat.v1.disable_eager_execution()"
      ]
    },
    {
      "cell_type": "markdown",
      "metadata": {
        "id": "EFmrlFJ8uKCe"
      },
      "source": [
        "Define Bottleneck Residual layer for MobileNet<br>\n",
        "Using the same parameters as mentioned in the paper"
      ]
    },
    {
      "cell_type": "code",
      "execution_count": 8,
      "metadata": {
        "id": "xmwhyyS7CFyK"
      },
      "outputs": [],
      "source": [
        "class Bottleneck(keras.Model):\n",
        "  def __init__(\n",
        "      self,\n",
        "      expansion,\n",
        "      stride,\n",
        "      block_id,\n",
        "      filters,\n",
        "      alpha=1,\n",
        "      ):\n",
        "    super(Bottleneck,self).__init__(name = \"Bottleneck_\" + block_id)\n",
        "    self.stride = stride\n",
        "    self.expansion = expansion\n",
        "    self.alpha = alpha\n",
        "    self.output_channels = self.alpha * filters\n",
        "    self.out = None # there was some problem with the eager execution\n",
        "\n",
        "    prefix =  'Bottleneck_{}_'.format(block_id)\n",
        "    self.prefix = prefix\n",
        "    # expansion\n",
        "    self.expand_BN = layers.BatchNormalization(name = prefix + 'expand_BN')\n",
        "    self.expand_ReLU = layers.ReLU(max_value=6, name = prefix + 'expand_ReLU')\n",
        "\n",
        "    #conv\n",
        "    self.Conv = layers.DepthwiseConv2D(\n",
        "        kernel_size = 3,\n",
        "        padding='same',\n",
        "        strides = self.stride,\n",
        "        use_bias = False,\n",
        "        name = prefix + 'conv')\n",
        "    self.Conv_BN = layers.BatchNormalization(name = prefix + 'conv_BN')\n",
        "    self.Conv_ReLU = layers.ReLU(max_value=6, name = prefix + 'conv_ReLU')\n",
        "\n",
        "    #project\n",
        "    self.project = layers.Conv2D(\n",
        "        filters = self.output_channels,\n",
        "        kernel_size = 1,\n",
        "        use_bias = False,\n",
        "        name = 'contract')\n",
        "    self.project_BN = layers.BatchNormalization(name = prefix + 'contract_BN')\n",
        "\n",
        "    # dimensions need to be the same for residual connection\n",
        "    self.residual = layers.Add(name=prefix + 'residual')\n",
        "  \n",
        "  def build(self, input_shape):\n",
        "    self.d = input_shape[-1]\n",
        "    \n",
        "    self.expand = layers.Conv2D(\n",
        "        filters = self.expansion*self.d,\n",
        "        kernel_size = 1,\n",
        "        use_bias = False,\n",
        "        name = self.prefix+'expand')\n",
        "\n",
        "      \n",
        "  def call(self, inputs):\n",
        "\n",
        "    x = self.expand(inputs)\n",
        "    x = self.expand_BN(x)\n",
        "    x = self.expand_ReLU(x)\n",
        "    self.out = x\n",
        "    \n",
        "    x = self.Conv(x)\n",
        "    x = self.Conv_BN(x)\n",
        "    x = self.Conv_ReLU(x)\n",
        "\n",
        "    x = self.project(x)\n",
        "    x = self.project_BN(x)\n",
        "\n",
        "    if self.output_channels == self.d and self.stride == 1:\n",
        "      x = self.residual([inputs,x])\n",
        "\n",
        "    return x\n",
        "\n",
        "  def model(self):\n",
        "      x = keras.Input(shape=(28,28,3))\n",
        "      return keras.Model(inputs=[x], outputs=self.call(x))"
      ]
    },
    {
      "cell_type": "markdown",
      "metadata": {
        "id": "cfMYYpWpuQj4"
      },
      "source": [
        "Define MobileNetv2<br>\n",
        "Same components as mentioned in the paper (the input image dimensions are a bit different)\n"
      ]
    },
    {
      "cell_type": "code",
      "execution_count": 9,
      "metadata": {
        "id": "VYGagWE8T2Et"
      },
      "outputs": [],
      "source": [
        "#using the architecture mentioned in the paper\n",
        "class MobileNetv2(keras.Model):\n",
        "  def __init__(self, k = 11):\n",
        "    super(MobileNetv2,self).__init__()\n",
        "    self.conv_inp = layers.Conv2D(\n",
        "        filters = 32,\n",
        "        kernel_size = 3,\n",
        "        strides = (2,2),\n",
        "        padding='valid',\n",
        "        use_bias = False,\n",
        "        name = 'conv'\n",
        "    )\n",
        "    self.k = k    \n",
        "\n",
        "    self.pad = layers.ZeroPadding2D(padding=2,name='pad')\n",
        "    self.BN = layers.BatchNormalization(name='BN')\n",
        "    self.ReLU = layers.ReLU(max_value = 6, name = 'ReLU')\n",
        "    \n",
        "    self.B1_1 = Bottleneck(expansion = 1, filters = 16, stride = 1, block_id = 'B1_1')\n",
        "\n",
        "    self.B2_1 = Bottleneck(expansion = 6, filters = 24, stride = 2, block_id = 'B2_1')\n",
        "    self.B2_2 = Bottleneck(expansion = 6, filters = 24, stride = 1, block_id = 'B2_2')\n",
        "\n",
        "    self.B3_1 = Bottleneck(expansion = 6, filters = 32, stride = 2, block_id = 'B3_1')\n",
        "    self.B3_2 = Bottleneck(expansion = 6, filters = 32, stride = 1, block_id = 'B3_2')\n",
        "    self.B3_3 = Bottleneck(expansion = 6, filters = 32, stride = 1, block_id = 'B3_3')\n",
        "\n",
        "    self.B4_1 = Bottleneck(expansion = 6, filters = 64, stride = 2, block_id = 'B4_1')\n",
        "    self.B4_2 = Bottleneck(expansion = 6, filters = 64, stride = 1, block_id = 'B4_2')\n",
        "    self.B4_3 = Bottleneck(expansion = 6, filters = 64, stride = 1, block_id = 'B4_3')\n",
        "    self.B4_4 = Bottleneck(expansion = 6, filters = 64, stride = 1, block_id = 'B4_4')\n",
        "\n",
        "    self.B5_1 = Bottleneck(expansion = 6, filters = 96, stride = 1, block_id = 'B5_1')\n",
        "    self.B5_2 = Bottleneck(expansion = 6, filters = 96, stride = 1, block_id = 'B5_2')\n",
        "    self.B5_3 = Bottleneck(expansion = 6, filters = 96, stride = 1, block_id = 'B5_3')\n",
        "\n",
        "    self.B6_1 = Bottleneck(expansion = 6, filters = 160, stride = 2, block_id = 'B6_1')\n",
        "    self.B6_2 = Bottleneck(expansion = 6, filters = 160, stride = 1, block_id = 'B6_2')\n",
        "    self.B6_3 = Bottleneck(expansion = 6, filters = 160, stride = 1, block_id = 'B6_3')\n",
        "\n",
        "    self.B7_1 = Bottleneck(expansion = 6, filters = 320, stride = 1, block_id = 'B7_1')\n",
        "\n",
        "    self.conv_out = layers.Conv2D(\n",
        "        filters = 1280,\n",
        "        kernel_size = 1,\n",
        "        strides = (1,1),\n",
        "        use_bias = False,\n",
        "        name = 'conv_out'\n",
        "    )\n",
        "    self.avgpool = layers.AveragePooling2D(\n",
        "        pool_size = (7,7),\n",
        "        name='avg_pool'\n",
        "        )\n",
        "    \n",
        "    self.conv_seg = layers.Conv2D(\n",
        "        filters = self.k,\n",
        "        kernel_size = 1,\n",
        "        strides = (1,1),\n",
        "        use_bias = False,\n",
        "        name = 'conv_seg'\n",
        "    )\n",
        "\n",
        "  def call(self, inputs):\n",
        "    x = self.conv_inp(inputs)\n",
        "    x = self.BN(x)\n",
        "    x = self.ReLU(x)\n",
        "\n",
        "    x = self.B1_1(x)\n",
        "    x = self.B2_1(x)\n",
        "    x = self.B2_2(x)\n",
        "\n",
        "    x = self.B3_1(x)\n",
        "    x = self.B3_2(x)\n",
        "    x = self.B3_3(x)\n",
        "    \n",
        "    x = self.B4_1(x)\n",
        "    x = self.B4_2(x)\n",
        "    x = self.B4_3(x)\n",
        "    x = self.B4_4(x)\n",
        "    \n",
        "    x = self.B5_1(x)\n",
        "    x = self.B5_2(x)\n",
        "    x = self.B5_3(x)\n",
        "    \n",
        "    x = self.B6_1(x)\n",
        "    x = self.B6_2(x)\n",
        "    x = self.B6_3(x)\n",
        "    \n",
        "    x = self.B7_1(x)\n",
        "\n",
        "    x = self.conv_out(x)\n",
        "    x = self.avgpool(x)\n",
        "    c4 = self.conv_seg(x)\n",
        "\n",
        "    return c4\n",
        "\n",
        "  def model(self):\n",
        "      x = keras.Input(shape=(224,224,3))\n",
        "\n",
        "      return keras.Model(inputs=x, outputs=self.call(x))"
      ]
    },
    {
      "cell_type": "code",
      "execution_count": 10,
      "metadata": {
        "colab": {
          "base_uri": "https://localhost:8080/"
        },
        "id": "05i7363EYwmP",
        "outputId": "a1d0ed91-6aff-4bdd-c04e-f2ca01ea3cad"
      },
      "outputs": [
        {
          "name": "stdout",
          "output_type": "stream",
          "text": [
            "WARNING:tensorflow:From /home/poornimadevikr/git/mymodels/MobileNetv2-SSD/.venvssd/lib/python3.7/site-packages/keras/layers/normalization/batch_normalization.py:532: _colocate_with (from tensorflow.python.framework.ops) is deprecated and will be removed in a future version.\n",
            "Instructions for updating:\n",
            "Colocations handled automatically by placer.\n",
            "Model: \"model\"\n",
            "_________________________________________________________________\n",
            " Layer (type)                Output Shape              Param #   \n",
            "=================================================================\n",
            " input_1 (InputLayer)        [(None, 224, 224, 3)]     0         \n",
            "                                                                 \n",
            " conv (Conv2D)               (None, 111, 111, 32)      864       \n",
            "                                                                 \n",
            " BN (BatchNormalization)     (None, 111, 111, 32)      128       \n",
            "                                                                 \n",
            " ReLU (ReLU)                 (None, 111, 111, 32)      0         \n",
            "                                                                 \n",
            " Bottleneck_B1_1 (Bottleneck  (None, 111, 111, 16)     2144      \n",
            " )                                                               \n",
            "                                                                 \n",
            " Bottleneck_B2_1 (Bottleneck  (None, 56, 56, 24)       5568      \n",
            " )                                                               \n",
            "                                                                 \n",
            " Bottleneck_B2_2 (Bottleneck  (None, 56, 56, 24)       9456      \n",
            " )                                                               \n",
            "                                                                 \n",
            " Bottleneck_B3_1 (Bottleneck  (None, 28, 28, 32)       10640     \n",
            " )                                                               \n",
            "                                                                 \n",
            " Bottleneck_B3_2 (Bottleneck  (None, 28, 28, 32)       15680     \n",
            " )                                                               \n",
            "                                                                 \n",
            " Bottleneck_B3_3 (Bottleneck  (None, 28, 28, 32)       15680     \n",
            " )                                                               \n",
            "                                                                 \n",
            " Bottleneck_B4_1 (Bottleneck  (None, 14, 14, 64)       21952     \n",
            " )                                                               \n",
            "                                                                 \n",
            " Bottleneck_B4_2 (Bottleneck  (None, 14, 14, 64)       55936     \n",
            " )                                                               \n",
            "                                                                 \n",
            " Bottleneck_B4_3 (Bottleneck  (None, 14, 14, 64)       55936     \n",
            " )                                                               \n",
            "                                                                 \n",
            " Bottleneck_B4_4 (Bottleneck  (None, 14, 14, 64)       55936     \n",
            " )                                                               \n",
            "                                                                 \n",
            " Bottleneck_B5_1 (Bottleneck  (None, 14, 14, 96)       68352     \n",
            " )                                                               \n",
            "                                                                 \n",
            " Bottleneck_B5_2 (Bottleneck  (None, 14, 14, 96)       120768    \n",
            " )                                                               \n",
            "                                                                 \n",
            " Bottleneck_B5_3 (Bottleneck  (None, 14, 14, 96)       120768    \n",
            " )                                                               \n",
            "                                                                 \n",
            " Bottleneck_B6_1 (Bottleneck  (None, 7, 7, 160)        157888    \n",
            " )                                                               \n",
            "                                                                 \n",
            " Bottleneck_B6_2 (Bottleneck  (None, 7, 7, 160)        324160    \n",
            " )                                                               \n",
            "                                                                 \n",
            " Bottleneck_B6_3 (Bottleneck  (None, 7, 7, 160)        324160    \n",
            " )                                                               \n",
            "                                                                 \n",
            " Bottleneck_B7_1 (Bottleneck  (None, 7, 7, 320)        478400    \n",
            " )                                                               \n",
            "                                                                 \n",
            " conv_out (Conv2D)           (None, 7, 7, 1280)        409600    \n",
            "                                                                 \n",
            " avg_pool (AveragePooling2D)  (None, 1, 1, 1280)       0         \n",
            "                                                                 \n",
            " conv_seg (Conv2D)           (None, 1, 1, 11)          14080     \n",
            "                                                                 \n",
            "=================================================================\n",
            "Total params: 2,268,096\n",
            "Trainable params: 2,236,480\n",
            "Non-trainable params: 31,616\n",
            "_________________________________________________________________\n"
          ]
        }
      ],
      "source": [
        "MobileNetv2().model().summary()"
      ]
    },
    {
      "cell_type": "markdown",
      "metadata": {
        "id": "II03ZRu17FnE"
      },
      "source": [
        "Defining SSD<br>\n",
        "The default number of boxes per layer and resolution of each layer is different, since we are working with MNIST data and 224x224 image sizes.<p>\n",
        "To change the number of boxes per layer and layerWidths, some constraints need to be kept in mind which are mentioned in the later sections"
      ]
    },
    {
      "cell_type": "code",
      "execution_count": 11,
      "metadata": {
        "id": "aYD2gfR9O8L0"
      },
      "outputs": [],
      "source": [
        "class SSD(keras.Model):\n",
        "  def __init__(self, numBoxes=[4,6,6,6,4,4], layerWidth=[28,14,7,4,2,1], k = 10+1+4):\n",
        "    super(SSD,self).__init__()\n",
        "    self.classes = k\n",
        "    self.featureMaps = 6\n",
        "    self.MobileNet = MobileNetv2(k=k)\n",
        "\n",
        "    # mark bottleneck_6_1 onwards as non trainable\n",
        "    for layer in self.MobileNet.layers[-7:]:\n",
        "      layer.trainable=False\n",
        "    \n",
        "    # For bottleneck_5_3, mark layers beyond conv as non runnable\n",
        "    # layers in bottleneck_5_3: ['Bottleneck_B5_3_expand_BN', 'Bottleneck_B5_3_expand_ReLU', 'Bottleneck_B5_3_conv', 'Bottleneck_B5_3_conv_BN', \n",
        "    # 'Bottleneck_B5_3_conv_ReLU', 'contract', 'Bottleneck_B5_3_contract_BN', 'Bottleneck_B5_3_residual', 'Bottleneck_B5_3_expand']\n",
        "    for layer in self.MobileNet.layers[-8].layers[2:-1]:\n",
        "      layer.trainable=False\n",
        "\n",
        "    self.numBoxes = numBoxes\n",
        "    self.layerWidth = layerWidth\n",
        "    self.features = [None for _ in range(self.featureMaps)]\n",
        "    self.classifiers = [None for _ in range(self.featureMaps)]\n",
        "    \n",
        "    self.conv1_1 = layers.Conv2D(256,1,name='SSD_conv_1_1')\n",
        "    self.conv1_2 = layers.Conv2D(512,3,strides=(2,2),padding='same',name='SSD_conv_1_2')\n",
        "\n",
        "    self.conv2_1 = layers.Conv2D(128,1,name='SSD_conv_2_1')\n",
        "    self.conv2_2 = layers.Conv2D(256,3,strides=(2,2),padding='same',name='SSD_conv_2_2')\n",
        "    \n",
        "    self.conv3_1 = layers.Conv2D(128,1,name='SSD_conv_3_1')\n",
        "    self.conv3_2 = layers.Conv2D(256,3,strides=(1,1),name='SSD_conv_3_2')\n",
        "    \n",
        "    self.conv4_1 = layers.Conv2D(128,1,name='SSD_conv_4_1')\n",
        "    self.conv4_2 = layers.Conv2D(256,2,strides=(1,1),name='SSD_conv_4_2') # changed the kernel size to 2 since the output of the previous layer has width 3\n",
        "\n",
        "    self.conv = []\n",
        "    self.reshape = []\n",
        "    for i in range(self.featureMaps):\n",
        "      self.conv.append(layers.Conv2D(self.numBoxes[i]*self.classes,3,padding='same',name='Classification_'+str(i)))\n",
        "      self.reshape.append(layers.Reshape((self.layerWidth[i]* self.layerWidth[i] * self.numBoxes[i],self.classes),name='Reshape_classification_'+str(i)))\n",
        "\n",
        "  def build(self, input_shape):\n",
        "    self.MobileNet.build(input_shape)\n",
        "  \n",
        "  def call(self,inputs):\n",
        "    x = inputs\n",
        "    x = self.MobileNet(x)\n",
        "\n",
        "    # get the convolved images at different resolutions\n",
        "    self.features[0] = self.MobileNet.get_layer('Bottleneck_B4_1').out\n",
        "    self.features[1] = self.MobileNet.get_layer('Bottleneck_B5_3').out\n",
        "    self.features[2] = self.conv1_2(self.conv1_1(self.features[1]))\n",
        "    self.features[3] = self.conv2_2(self.conv2_1(self.features[2]))\n",
        "    self.features[4] = self.conv3_2(self.conv3_1(self.features[3]))\n",
        "    self.features[5] = self.conv4_2(self.conv4_1(self.features[4]))\n",
        "\n",
        "    for i in range(self.featureMaps):\n",
        "    # for each feature map, create predictions according to the number of boxes for that layer and the number of output channels\n",
        "      x = self.conv[i](self.features[i])\n",
        "      x = self.reshape[i](x)\n",
        "      self.classifiers[i] = x\n",
        "    \n",
        "    # concatenate all the classifiers\n",
        "    x = layers.concatenate(self.classifiers, axis = -2, name='concatenate')\n",
        "    return x\n",
        "\n",
        "\n",
        "  def model(self):\n",
        "      x = keras.Input(shape=(224,224,3))\n",
        "\n",
        "      return keras.Model(inputs=x, outputs=self.call(x))"
      ]
    },
    {
      "cell_type": "code",
      "execution_count": 12,
      "metadata": {
        "id": "29A_FW-GxK4t"
      },
      "outputs": [],
      "source": [
        "NUM_CLASSES = 10\n",
        "# the first 2 dimensions should be equal to width of the output from the bottleneck expand ReLU at the (4,1) and (5,3) respectively.\n",
        "# the dimensions after the second one are determined by the convolutions written inside the SSD (conv1_2, conv2_2, conv3_3, conv4_2)\n",
        "layerWidths = [28,14,7,4,2,1]\n",
        "numBoxes = [3,3,3,3,3,3]\n",
        "assert len(numBoxes) == len(layerWidths) # numBoxes for each layer and each layer has a specific width\n",
        "outputChannels = NUM_CLASSES + 1 + 4 # 10 classes + background + cx,cy,h,w\n",
        "assert outputChannels - NUM_CLASSES == 5"
      ]
    },
    {
      "cell_type": "code",
      "execution_count": 13,
      "metadata": {
        "colab": {
          "base_uri": "https://localhost:8080/"
        },
        "id": "FmOfPVIjCkuP",
        "outputId": "16c53e83-aa54-44c8-bd30-43d452cce1c1"
      },
      "outputs": [
        {
          "name": "stdout",
          "output_type": "stream",
          "text": [
            "Model: \"model_1\"\n",
            "__________________________________________________________________________________________________\n",
            " Layer (type)                   Output Shape         Param #     Connected to                     \n",
            "==================================================================================================\n",
            " input_2 (InputLayer)           [(None, 224, 224, 3  0           []                               \n",
            "                                )]                                                                \n",
            "                                                                                                  \n",
            " conv (Conv2D)                  (None, 111, 111, 32  864         ['input_2[0][0]']                \n",
            "                                )                                                                 \n",
            "                                                                                                  \n",
            " BN (BatchNormalization)        (None, 111, 111, 32  128         ['conv[0][0]']                   \n",
            "                                )                                                                 \n",
            "                                                                                                  \n",
            " ReLU (ReLU)                    (None, 111, 111, 32  0           ['BN[0][0]']                     \n",
            "                                )                                                                 \n",
            "                                                                                                  \n",
            " Bottleneck_B1_1 (Bottleneck)   (None, 111, 111, 16  2144        ['ReLU[0][0]']                   \n",
            "                                )                                                                 \n",
            "                                                                                                  \n",
            " Bottleneck_B2_1 (Bottleneck)   (None, 56, 56, 24)   5568        ['Bottleneck_B1_1[0][0]']        \n",
            "                                                                                                  \n",
            " Bottleneck_B2_2 (Bottleneck)   (None, 56, 56, 24)   9456        ['Bottleneck_B2_1[0][0]']        \n",
            "                                                                                                  \n",
            " Bottleneck_B3_1 (Bottleneck)   (None, 28, 28, 32)   10640       ['Bottleneck_B2_2[0][0]']        \n",
            "                                                                                                  \n",
            " Bottleneck_B3_2 (Bottleneck)   (None, 28, 28, 32)   15680       ['Bottleneck_B3_1[0][0]']        \n",
            "                                                                                                  \n",
            " Bottleneck_B3_3 (Bottleneck)   (None, 28, 28, 32)   15680       ['Bottleneck_B3_2[0][0]']        \n",
            "                                                                                                  \n",
            " Bottleneck_B4_1 (Bottleneck)   (None, 14, 14, 64)   21952       ['Bottleneck_B3_3[0][0]']        \n",
            "                                                                                                  \n",
            " Bottleneck_B4_2 (Bottleneck)   (None, 14, 14, 64)   55936       ['Bottleneck_B4_1[0][0]']        \n",
            "                                                                                                  \n",
            " Bottleneck_B4_3 (Bottleneck)   (None, 14, 14, 64)   55936       ['Bottleneck_B4_2[0][0]']        \n",
            "                                                                                                  \n",
            " Bottleneck_B4_4 (Bottleneck)   (None, 14, 14, 64)   55936       ['Bottleneck_B4_3[0][0]']        \n",
            "                                                                                                  \n",
            " Bottleneck_B5_1 (Bottleneck)   (None, 14, 14, 96)   68352       ['Bottleneck_B4_4[0][0]']        \n",
            "                                                                                                  \n",
            " Bottleneck_B5_2 (Bottleneck)   (None, 14, 14, 96)   120768      ['Bottleneck_B5_1[0][0]']        \n",
            "                                                                                                  \n",
            " Bottleneck_B5_3_expand (Conv2D  (None, 14, 14, 576)  55296      ['Bottleneck_B5_2[0][0]']        \n",
            " )                                                                                                \n",
            "                                                                                                  \n",
            " Bottleneck_B5_3_expand_BN (Bat  (None, 14, 14, 576)  2304       ['Bottleneck_B5_3_expand[0][0]'] \n",
            " chNormalization)                                                                                 \n",
            "                                                                                                  \n",
            " Bottleneck_B5_3_expand_ReLU (R  (None, 14, 14, 576)  0          ['Bottleneck_B5_3_expand_BN[0][0]\n",
            " eLU)                                                            ']                               \n",
            "                                                                                                  \n",
            " SSD_conv_1_1 (Conv2D)          (None, 14, 14, 256)  147712      ['Bottleneck_B5_3_expand_ReLU[0][\n",
            "                                                                 0]']                             \n",
            "                                                                                                  \n",
            " SSD_conv_1_2 (Conv2D)          (None, 7, 7, 512)    1180160     ['SSD_conv_1_1[0][0]']           \n",
            "                                                                                                  \n",
            " SSD_conv_2_1 (Conv2D)          (None, 7, 7, 128)    65664       ['SSD_conv_1_2[0][0]']           \n",
            "                                                                                                  \n",
            " SSD_conv_2_2 (Conv2D)          (None, 4, 4, 256)    295168      ['SSD_conv_2_1[0][0]']           \n",
            "                                                                                                  \n",
            " SSD_conv_3_1 (Conv2D)          (None, 4, 4, 128)    32896       ['SSD_conv_2_2[0][0]']           \n",
            "                                                                                                  \n",
            " Bottleneck_B4_1_expand (Conv2D  (None, 28, 28, 192)  6144       ['Bottleneck_B3_3[0][0]']        \n",
            " )                                                                                                \n",
            "                                                                                                  \n",
            " SSD_conv_3_2 (Conv2D)          (None, 2, 2, 256)    295168      ['SSD_conv_3_1[0][0]']           \n",
            "                                                                                                  \n",
            " Bottleneck_B4_1_expand_BN (Bat  (None, 28, 28, 192)  768        ['Bottleneck_B4_1_expand[0][0]'] \n",
            " chNormalization)                                                                                 \n",
            "                                                                                                  \n",
            " SSD_conv_4_1 (Conv2D)          (None, 2, 2, 128)    32896       ['SSD_conv_3_2[0][0]']           \n",
            "                                                                                                  \n",
            " Bottleneck_B4_1_expand_ReLU (R  (None, 28, 28, 192)  0          ['Bottleneck_B4_1_expand_BN[0][0]\n",
            " eLU)                                                            ']                               \n",
            "                                                                                                  \n",
            " SSD_conv_4_2 (Conv2D)          (None, 1, 1, 256)    131328      ['SSD_conv_4_1[0][0]']           \n",
            "                                                                                                  \n",
            " Classification_0 (Conv2D)      (None, 28, 28, 45)   77805       ['Bottleneck_B4_1_expand_ReLU[0][\n",
            "                                                                 0]']                             \n",
            "                                                                                                  \n",
            " Classification_1 (Conv2D)      (None, 14, 14, 45)   233325      ['Bottleneck_B5_3_expand_ReLU[0][\n",
            "                                                                 0]']                             \n",
            "                                                                                                  \n",
            " Classification_2 (Conv2D)      (None, 7, 7, 45)     207405      ['SSD_conv_1_2[0][0]']           \n",
            "                                                                                                  \n",
            " Classification_3 (Conv2D)      (None, 4, 4, 45)     103725      ['SSD_conv_2_2[0][0]']           \n",
            "                                                                                                  \n",
            " Classification_4 (Conv2D)      (None, 2, 2, 45)     103725      ['SSD_conv_3_2[0][0]']           \n",
            "                                                                                                  \n",
            " Classification_5 (Conv2D)      (None, 1, 1, 45)     103725      ['SSD_conv_4_2[0][0]']           \n",
            "                                                                                                  \n",
            " Reshape_classification_0 (Resh  (None, 2352, 15)    0           ['Classification_0[0][0]']       \n",
            " ape)                                                                                             \n",
            "                                                                                                  \n",
            " Reshape_classification_1 (Resh  (None, 588, 15)     0           ['Classification_1[0][0]']       \n",
            " ape)                                                                                             \n",
            "                                                                                                  \n",
            " Reshape_classification_2 (Resh  (None, 147, 15)     0           ['Classification_2[0][0]']       \n",
            " ape)                                                                                             \n",
            "                                                                                                  \n",
            " Reshape_classification_3 (Resh  (None, 48, 15)      0           ['Classification_3[0][0]']       \n",
            " ape)                                                                                             \n",
            "                                                                                                  \n",
            " Reshape_classification_4 (Resh  (None, 12, 15)      0           ['Classification_4[0][0]']       \n",
            " ape)                                                                                             \n",
            "                                                                                                  \n",
            " Reshape_classification_5 (Resh  (None, 3, 15)       0           ['Classification_5[0][0]']       \n",
            " ape)                                                                                             \n",
            "                                                                                                  \n",
            " concatenate (Concatenate)      (None, 3150, 15)     0           ['Reshape_classification_0[0][0]'\n",
            "                                                                 , 'Reshape_classification_1[0][0]\n",
            "                                                                 ',                               \n",
            "                                                                  'Reshape_classification_2[0][0]'\n",
            "                                                                 , 'Reshape_classification_3[0][0]\n",
            "                                                                 ',                               \n",
            "                                                                  'Reshape_classification_4[0][0]'\n",
            "                                                                 , 'Reshape_classification_5[0][0]\n",
            "                                                                 ']                               \n",
            "                                                                                                  \n",
            "==================================================================================================\n",
            "Total params: 3,507,342\n",
            "Trainable params: 3,492,494\n",
            "Non-trainable params: 14,848\n",
            "__________________________________________________________________________________________________\n"
          ]
        }
      ],
      "source": [
        "model = SSD(numBoxes=numBoxes, layerWidth=layerWidths, k = outputChannels)\n",
        "model.model().summary()"
      ]
    },
    {
      "cell_type": "markdown",
      "metadata": {
        "id": "4RA7NxfQ7_G6"
      },
      "source": [
        "Creating boxes and IoU"
      ]
    },
    {
      "cell_type": "code",
      "execution_count": 14,
      "metadata": {
        "id": "yRYi7Ez7UzpH"
      },
      "outputs": [],
      "source": [
        "# I have used less varying custom scales and aspect ratios here, since the dataset is already uniform\n",
        "#IMPORTANT: before changing the scales and aspect ratios, read the comment below\n",
        "\n",
        "# number of scales is equal to the number of different resolutions ie num of layer widths\n",
        "# for a given resolution, we have different aspect ratios\n",
        "# num(scales) = num(layerWidth) = num(numBoxes) and num(asp_ratios) = numBoxes[i]\n",
        "MinScale = .1 # Min and Max scale given as percentage\n",
        "MaxScale = 1.5\n",
        "scales = [ MinScale + x/len(layerWidths) * (MaxScale-MinScale) for x in range(len(layerWidths)) ]\n",
        "scales = scales[::-1] # reversing the order because the layerWidths go from high to low (lower to higher resoltuion)\n",
        "\n",
        "asp = [0.5,1.0,1.5]\n",
        "asp1 = [x**0.5 for x in asp]\n",
        "asp2 = [1/x for x in asp1]"
      ]
    },
    {
      "cell_type": "code",
      "execution_count": 15,
      "metadata": {
        "id": "RwR_TIbzYCix"
      },
      "outputs": [],
      "source": [
        "IMG_SIZE = 224"
      ]
    },
    {
      "cell_type": "code",
      "execution_count": 16,
      "metadata": {
        "colab": {
          "base_uri": "https://localhost:8080/"
        },
        "id": "wA_IhnyrUl4S",
        "outputId": "59f0db0d-5f22-4ee8-abd7-0a9d19b43e11"
      },
      "outputs": [
        {
          "name": "stdout",
          "output_type": "stream",
          "text": [
            "3150\n"
          ]
        }
      ],
      "source": [
        "# should be equal to the 1st dimension in the output layer of the SSD model\n",
        "BOXES = sum([a*a*b for a,b in zip(layerWidths,numBoxes)])\n",
        "centres = np.zeros((BOXES,2))\n",
        "hw = np.zeros((BOXES,2))\n",
        "boxes = np.zeros((BOXES,4))\n",
        "print(BOXES)"
      ]
    },
    {
      "cell_type": "code",
      "execution_count": 17,
      "metadata": {
        "id": "9A1xGMrXVX18"
      },
      "outputs": [],
      "source": [
        "# calculating the default box centres and height, width\n",
        "idx = 0\n",
        "\n",
        "for gridSize, numBox, scale in zip(layerWidths,numBoxes,scales):\n",
        "  step_size = IMG_SIZE*1.0/gridSize\n",
        "  for i in range(gridSize):\n",
        "    for j in range(gridSize):\n",
        "      pos = idx + (i*gridSize+j) * numBox\n",
        "      # centre is the same for all aspect ratios(=numBox)\n",
        "      centres[ pos : pos + numBox , :] = i*step_size + step_size/2, j*step_size + step_size/2\n",
        "      # height and width vary according to the scale and aspect ratio\n",
        "      # zip asepct ratios and then scale them by the scaling factor\n",
        "      hw[ pos : pos + numBox , :] = np.multiply(gridSize*scale, np.squeeze(np.dstack([asp1,asp2]),axis=0))[:numBox,:]\n",
        "\n",
        "  idx += gridSize*gridSize*numBox "
      ]
    },
    {
      "cell_type": "code",
      "execution_count": 18,
      "metadata": {
        "id": "Xp9CrasJhGXI"
      },
      "outputs": [],
      "source": [
        "# (x,y) co-ordinates of top left and bottom right\n",
        "# This actually is not used anywhere. centres[] and hw[] are a good enough substitute\n",
        "boxes[:,0] = centres[:,0] - hw[:,0]/2\n",
        "boxes[:,1] = centres[:,1] - hw[:,1]/2\n",
        "boxes[:,2] = centres[:,0] + hw[:,0]/2\n",
        "boxes[:,3] = centres[:,1] + hw[:,1]/2"
      ]
    },
    {
      "cell_type": "code",
      "execution_count": 19,
      "metadata": {
        "id": "TJSIPHPMh3N2"
      },
      "outputs": [],
      "source": [
        "# calculate IoU for a set of search boxes and default boxes\n",
        "def IoU(box1, box2):\n",
        "  box1 = box1.astype(np.float64)\n",
        "  box2 = box2.astype(np.float64)\n",
        "  # find the left and right co-ordinates of the edges. Min should be less than Max for non zero overlap\n",
        "  xmin = np.maximum(box1[:,0],box2[:,0])\n",
        "  xmax = np.minimum(box1[:,2],box2[:,2])\n",
        "  ymin = np.maximum(box1[:,1],box2[:,1])\n",
        "  ymax = np.minimum(box1[:,3],box2[:,3])\n",
        "\n",
        "  intersection = np.abs(np.maximum(xmax-xmin,0) * np.maximum(ymax-ymin,0))\n",
        "  boxArea1 = np.abs((box1[:,2] - box1[:,0]) * (box1[:,3] - box1[:,1]))\n",
        "  boxArea2 = np.abs((box2[:,2] - box2[:,0]) * (box2[:,3] - box2[:,1]))\n",
        "  unionArea = boxArea1 + boxArea2 - intersection\n",
        "  assert (unionArea > 0).all()\n",
        "  iou = intersection / unionArea\n",
        "\n",
        "  return iou"
      ]
    },
    {
      "cell_type": "code",
      "execution_count": 20,
      "metadata": {
        "id": "iOcpxxIQipbA"
      },
      "outputs": [],
      "source": [
        "# give the index of the box correpsonding to the IoUs > threshold (=0.5) \n",
        "def bestIoU(searchBox):\n",
        "  return np.argwhere(IoU(numpy.matlib.repmat(searchBox,BOXES,1), boxes) > 0.5)"
      ]
    },
    {
      "cell_type": "markdown",
      "metadata": {
        "id": "mm2k4c5Ik_BX"
      },
      "source": [
        "Loading Data"
      ]
    },
    {
      "cell_type": "code",
      "execution_count": 21,
      "metadata": {
        "id": "h07BGB7-k9te"
      },
      "outputs": [],
      "source": [
        "TRAINSIZE = 600\n",
        "TESTSIZE = 100"
      ]
    },
    {
      "cell_type": "code",
      "execution_count": 22,
      "metadata": {
        "colab": {
          "base_uri": "https://localhost:8080/"
        },
        "id": "wkZPTKgGq08N",
        "outputId": "48b663c1-2189-4bd9-bf3e-a2adf64c48dc"
      },
      "outputs": [
        {
          "name": "stdout",
          "output_type": "stream",
          "text": [
            "Downloading data from https://storage.googleapis.com/tensorflow/tf-keras-datasets/mnist.npz\n",
            "11493376/11490434 [==============================] - 1s 0us/step\n",
            "11501568/11490434 [==============================] - 1s 0us/step\n"
          ]
        }
      ],
      "source": [
        "(x_train, y_train), (x_test, y_test) = tf.keras.datasets.mnist.load_data()\n",
        "\n",
        "x_train = x_train[:TRAINSIZE , : , :]\n",
        "y_train = y_train[:TRAINSIZE]\n",
        "x_test = x_test[:TESTSIZE , : , :]\n",
        "y_test = y_test[:TESTSIZE]"
      ]
    },
    {
      "cell_type": "code",
      "execution_count": 23,
      "metadata": {
        "id": "PEgx1Sdcq7yJ"
      },
      "outputs": [],
      "source": [
        "# take mnist x and y pairs and convert to input, output pairs for the MobileNetv2+SSD model\n",
        "def convert(x,y):\n",
        "  MNIST_SIZE = x.shape[-1]\n",
        "  # create a 2D array of top left corners for the mnist image to be placed\n",
        "  corner = np.random.randint(IMG_SIZE - MNIST_SIZE, size=(x.shape[0],2))\n",
        "\n",
        "  # create a blank canvas for the input with the required dimension\n",
        "  input = np.zeros((x.shape[0], IMG_SIZE, IMG_SIZE, 3))\n",
        "\n",
        "  # replacing a part by RGB version of MNIST\n",
        "  for i in range(x.shape[0]):\n",
        "    lx = int(corner[i,0])\n",
        "    ly = int(corner[i,1])\n",
        "    input[i,lx:lx + MNIST_SIZE, ly:ly+MNIST_SIZE,:] = np.repeat(np.expand_dims(np.array(x[i,:,:]),axis=-1),3,axis=-1)\n",
        "\n",
        "  # for each default box, there are 5 values: class number and delta cx,cy,h,w\n",
        "  output = np.zeros((y.shape[0],BOXES,1+4))\n",
        "  output[:,:,0] = NUM_CLASSES # defaulting class labels for all boxes to background initially\n",
        "  for i in range(x.shape[0]):\n",
        "    bbox = np.zeros(4)\n",
        "    bbox[:2] = corner[i]\n",
        "    bbox[2:] = corner[i] + (MNIST_SIZE,MNIST_SIZE)\n",
        "    # for all default boxes which have IoU > threshold, set the delta values and class number\n",
        "    box_idx = bestIoU(bbox).astype(np.uint16)\n",
        "    output[i,box_idx,0] = y[i]\n",
        "    output[i,box_idx,1] = (bbox[0] + bbox[2])/2.0 - centres[box_idx,0]\n",
        "    output[i,box_idx,2] = (bbox[1] + bbox[3])/2.0 - centres[box_idx,1]\n",
        "    output[i,box_idx,3] = MNIST_SIZE - hw[box_idx,0]\n",
        "    output[i,box_idx,4] = MNIST_SIZE - hw[box_idx,1]\n",
        "\n",
        "  return input, output\n"
      ]
    },
    {
      "cell_type": "code",
      "execution_count": 24,
      "metadata": {
        "id": "Sk_z17wV3Bj5"
      },
      "outputs": [],
      "source": [
        "test_x, test_y = convert(x_test,y_test)\n",
        "train_x, train_y = convert(x_train,y_train)"
      ]
    },
    {
      "cell_type": "code",
      "execution_count": 25,
      "metadata": {
        "colab": {
          "base_uri": "https://localhost:8080/",
          "height": 304
        },
        "id": "NAwnJnu4qE0P",
        "outputId": "36105aba-89ce-4e12-ad01-2ab01a6b2785"
      },
      "outputs": [
        {
          "name": "stdout",
          "output_type": "stream",
          "text": [
            "Number of boxes with IoU > threshold (0.5): 9\n",
            "Green box: ground truth. Red box: default boxes with IoU < threshold (0.5)\n"
          ]
        },
        {
          "data": {
            "image/png": "[encoded data removed]",
            "text/plain": [
              "<Figure size 640x480 with 1 Axes>"
            ]
          },
          "metadata": {},
          "output_type": "display_data"
        }
      ],
      "source": [
        "# checking if the inputs prepared are correct or not\n",
        "r = np.random.randint(0,train_x.shape[0])\n",
        "img = train_x[r,:,:,:].copy()\n",
        "img_y = train_y[r]\n",
        "\n",
        "im = np.array(Image.fromarray(img.astype(np.uint8)))\n",
        "fig,ax = plt.subplots(1)\n",
        "ax.imshow(im)\n",
        "\n",
        "# find all boxes where class label is not background\n",
        "idx = np.argwhere(img_y[:,0] != NUM_CLASSES)[:,0]\n",
        "print('Number of boxes with IoU > threshold (0.5):',idx.shape[0])\n",
        "print('Green box: ground truth. Red box: default boxes with IoU < threshold (0.5)')\n",
        "\n",
        "#calculating the ground truth bounding boxes\n",
        "gt = np.zeros(4,dtype=np.uint16)\n",
        "gt[:2] = (img_y[idx[0],1:3] + centres[idx[0],:2])\n",
        "gt[2:] = (img_y[idx[0],3:] + hw[idx[0],:])\n",
        "\n",
        "# for some reason, x and y are inverted\n",
        "rect = patches.Rectangle((gt[1]-gt[3]/2,gt[0]-gt[2]/2),gt[3],gt[2],linewidth=5,edgecolor='g',facecolor='none')\n",
        "ax.add_patch(rect)\n",
        "\n",
        "# showing all the boxes with IoU > 0.5\n",
        "for i in idx:\n",
        "  rect = patches.Rectangle((centres[i][1]-hw[i,1]/2,centres[i][0]-hw[i,0]/2),hw[i,1],hw[i,0],linewidth=1,edgecolor='r',facecolor='none')\n",
        "  ax.add_patch(rect)\n",
        "\n",
        "plt.show()"
      ]
    },
    {
      "cell_type": "code",
      "execution_count": 26,
      "metadata": {
        "colab": {
          "base_uri": "https://localhost:8080/"
        },
        "id": "1nI7mXjS8zA9",
        "outputId": "f461fad5-a72f-4a77-92f5-30653c5209a8"
      },
      "outputs": [
        {
          "name": "stdout",
          "output_type": "stream",
          "text": [
            "(TensorSpec(shape=(224, 224, 3), dtype=tf.float64, name=None), TensorSpec(shape=(3150, 5), dtype=tf.float64, name=None))\n",
            "(TensorSpec(shape=(224, 224, 3), dtype=tf.float64, name=None), TensorSpec(shape=(3150, 5), dtype=tf.float64, name=None))\n"
          ]
        }
      ],
      "source": [
        "train_dataset = tf.data.Dataset.from_tensor_slices((train_x, train_y))\n",
        "test_dataset = tf.data.Dataset.from_tensor_slices((test_x, test_y))\n",
        "print(train_dataset.element_spec)\n",
        "print(test_dataset.element_spec)"
      ]
    },
    {
      "cell_type": "code",
      "execution_count": 27,
      "metadata": {
        "id": "oyX8dnwQ8_1k"
      },
      "outputs": [],
      "source": [
        "BATCH_SIZE = 10\n",
        "SHUFFLE_BUFFER_SIZE = 60\n",
        "\n",
        "train_dataset = train_dataset.shuffle(SHUFFLE_BUFFER_SIZE).batch(BATCH_SIZE,drop_remainder=True)\n",
        "test_dataset = test_dataset.batch(BATCH_SIZE,drop_remainder=True)"
      ]
    },
    {
      "cell_type": "markdown",
      "metadata": {
        "id": "3EeBg_g29GLU"
      },
      "source": [
        "LOSS FUNCTION<br>\n",
        "Hard negative mining hasn't been done here<br>\n",
        "Initial idea was to assign weights to background classes, but there is some problem in that approach"
      ]
    },
    {
      "cell_type": "code",
      "execution_count": 29,
      "metadata": {
        "id": "rMEpljzd9CxT"
      },
      "outputs": [],
      "source": [
        "# label is not required here in the standard implementation\n",
        "# calculate the smooth L1 loss\n",
        "def smoothL1(x,y,label):\n",
        "  diff = K.abs(x-y) #* K.switch(label == 10, label*1.0/BOXES, label)\n",
        "  result = K.switch(diff < 1, 0.5 * diff**2, diff - 0.5)\n",
        "  return K.mean(result)"
      ]
    },
    {
      "cell_type": "code",
      "execution_count": 30,
      "metadata": {
        "id": "8fSUhh8O_DsK"
      },
      "outputs": [],
      "source": [
        "def confidenceLoss(y,label):\n",
        "  unweighted_loss = tf.nn.sparse_softmax_cross_entropy_with_logits(label, y)\n",
        "  # class_weights = tf.constant([[[1.0, 1.0, 1.0, 1.0, 1.0, 1.0, 1.0, 1.0, 1.0, 1.0, 1.0/BOXES]]*BOXES])\n",
        "  # weights = tf.reduce_sum(class_weights * y, axis = -1)\n",
        "  # weighted_loss = unweighted_loss * weights\n",
        "  return K.mean(unweighted_loss)"
      ]
    },
    {
      "cell_type": "code",
      "execution_count": 31,
      "metadata": {
        "id": "gn0xh6OX_BvN"
      },
      "outputs": [],
      "source": [
        "def Loss(gt,y):\n",
        "  # shape of y is n * BOXES * output_channels\n",
        "  # shape of gt is n * BOXES * 5 \n",
        "  loss = 0\n",
        "  # localisation loss\n",
        "  loss += smoothL1(y[:,:,-4:],gt[:,:,-4:],gt[:,:,0:1])\n",
        "  # confidence loss\n",
        "  loss += confidenceLoss(y[:,:,:-4],tf.cast(gt[:,:,0],tf.int32))\n",
        "  return loss"
      ]
    },
    {
      "cell_type": "code",
      "execution_count": 32,
      "metadata": {
        "colab": {
          "base_uri": "https://localhost:8080/"
        },
        "id": "A8_O3V8DB_Gk",
        "outputId": "51c74056-5226-45a7-cf70-fa004d203946"
      },
      "outputs": [
        {
          "name": "stderr",
          "output_type": "stream",
          "text": [
            "/home/poornimadevikr/git/mymodels/MobileNetv2-SSD/.venvssd/lib/python3.7/site-packages/keras/optimizer_v2/rmsprop.py:130: UserWarning: The `lr` argument is deprecated, use `learning_rate` instead.\n",
            "  super(RMSprop, self).__init__(name, **kwargs)\n"
          ]
        }
      ],
      "source": [
        "base_learning_rate = 0.001\n",
        "model.compile(optimizer=tf.keras.optimizers.RMSprop(lr=base_learning_rate),loss=Loss)"
      ]
    },
    {
      "cell_type": "code",
      "execution_count": 33,
      "metadata": {
        "colab": {
          "base_uri": "https://localhost:8080/",
          "height": 1000
        },
        "id": "Z7pp6Fp9DDWm",
        "outputId": "39ca0340-fe39-4016-da7d-1ca95148010b"
      },
      "outputs": [
        {
          "name": "stderr",
          "output_type": "stream",
          "text": [
            "2025-03-03 11:15:25.016961: I tensorflow/core/platform/cpu_feature_guard.cc:151] This TensorFlow binary is optimized with oneAPI Deep Neural Network Library (oneDNN) to use the following CPU instructions in performance-critical operations:  AVX2 FMA\n",
            "To enable them in other operations, rebuild TensorFlow with the appropriate compiler flags.\n",
            "2025-03-03 11:15:27.098255: W tensorflow/core/framework/cpu_allocator_impl.cc:82] Allocation of 722534400 exceeds 10% of free system memory.\n",
            "2025-03-03 11:15:31.303063: W tensorflow/core/framework/cpu_allocator_impl.cc:82] Allocation of 722534400 exceeds 10% of free system memory.\n",
            "2025-03-03 11:15:36.719505: W tensorflow/core/framework/cpu_allocator_impl.cc:82] Allocation of 722534400 exceeds 10% of free system memory.\n",
            "2025-03-03 11:15:42.032920: W tensorflow/core/framework/cpu_allocator_impl.cc:82] Allocation of 722534400 exceeds 10% of free system memory.\n",
            "2025-03-03 11:15:45.248757: W tensorflow/core/framework/cpu_allocator_impl.cc:82] Allocation of 722534400 exceeds 10% of free system memory.\n"
          ]
        },
        {
          "name": "stdout",
          "output_type": "stream",
          "text": [
            "Train on 60 steps, validate on 10 steps\n",
            "Epoch 1/25\n",
            "60/60 [==============================] - ETA: 0s - batch: 29.5000 - size: 1.0000 - loss: 0.4169"
          ]
        },
        {
          "name": "stderr",
          "output_type": "stream",
          "text": [
            "/home/poornimadevikr/git/mymodels/MobileNetv2-SSD/.venvssd/lib/python3.7/site-packages/keras/engine/training_v1.py:2057: UserWarning: `Model.state_updates` will be removed in a future version. This property should not be used in TensorFlow 2.0, as `updates` are applied automatically.\n",
            "  updates = self.state_updates\n"
          ]
        },
        {
          "name": "stdout",
          "output_type": "stream",
          "text": [
            "60/60 [==============================] - 48s 750ms/step - batch: 29.5000 - size: 1.0000 - loss: 0.4169 - val_loss: 0.3378\n",
            "Epoch 2/25\n",
            "60/60 [==============================] - 43s 714ms/step - batch: 29.5000 - size: 1.0000 - loss: 0.1282 - val_loss: 0.0581\n",
            "Epoch 3/25\n",
            "60/60 [==============================] - 42s 707ms/step - batch: 29.5000 - size: 1.0000 - loss: 0.0552 - val_loss: 0.0511\n",
            "Epoch 4/25\n",
            "60/60 [==============================] - 42s 701ms/step - batch: 29.5000 - size: 1.0000 - loss: 0.0461 - val_loss: 0.0414\n",
            "Epoch 5/25\n",
            "60/60 [==============================] - 42s 696ms/step - batch: 29.5000 - size: 1.0000 - loss: 0.0472 - val_loss: 0.0360\n",
            "Epoch 6/25\n",
            "60/60 [==============================] - 42s 701ms/step - batch: 29.5000 - size: 1.0000 - loss: 0.0226 - val_loss: 0.0256\n",
            "Epoch 7/25\n",
            "60/60 [==============================] - 43s 709ms/step - batch: 29.5000 - size: 1.0000 - loss: 0.0291 - val_loss: 0.0227\n",
            "Epoch 8/25\n",
            "60/60 [==============================] - 42s 699ms/step - batch: 29.5000 - size: 1.0000 - loss: 0.0348 - val_loss: 0.0281\n",
            "Epoch 9/25\n",
            "60/60 [==============================] - 41s 687ms/step - batch: 29.5000 - size: 1.0000 - loss: 0.0330 - val_loss: 0.0182\n",
            "Epoch 10/25\n",
            "60/60 [==============================] - 42s 693ms/step - batch: 29.5000 - size: 1.0000 - loss: 0.0196 - val_loss: 0.1360\n",
            "Epoch 11/25\n",
            "60/60 [==============================] - 42s 694ms/step - batch: 29.5000 - size: 1.0000 - loss: 0.0158 - val_loss: 0.0150\n",
            "Epoch 12/25\n",
            "60/60 [==============================] - 42s 701ms/step - batch: 29.5000 - size: 1.0000 - loss: 0.0169 - val_loss: 0.0152\n",
            "Epoch 13/25\n",
            "60/60 [==============================] - 42s 695ms/step - batch: 29.5000 - size: 1.0000 - loss: 0.0196 - val_loss: 0.0130\n",
            "Epoch 14/25\n",
            "60/60 [==============================] - 41s 682ms/step - batch: 29.5000 - size: 1.0000 - loss: 0.0151 - val_loss: 0.3059\n",
            "Epoch 15/25\n",
            "60/60 [==============================] - 41s 687ms/step - batch: 29.5000 - size: 1.0000 - loss: 0.0133 - val_loss: 0.0139\n",
            "Epoch 16/25\n",
            "60/60 [==============================] - 41s 686ms/step - batch: 29.5000 - size: 1.0000 - loss: 0.0119 - val_loss: 0.1956\n",
            "Epoch 17/25\n",
            "60/60 [==============================] - 42s 693ms/step - batch: 29.5000 - size: 1.0000 - loss: 0.0098 - val_loss: 0.1670\n",
            "Epoch 18/25\n",
            "60/60 [==============================] - 41s 686ms/step - batch: 29.5000 - size: 1.0000 - loss: 0.0117 - val_loss: 0.2087\n",
            "Epoch 19/25\n",
            "60/60 [==============================] - 41s 692ms/step - batch: 29.5000 - size: 1.0000 - loss: 0.0134 - val_loss: 0.0480\n",
            "Epoch 20/25\n",
            "60/60 [==============================] - 41s 684ms/step - batch: 29.5000 - size: 1.0000 - loss: 0.0171 - val_loss: 0.0511\n",
            "Epoch 21/25\n",
            "60/60 [==============================] - 41s 688ms/step - batch: 29.5000 - size: 1.0000 - loss: 0.0081 - val_loss: 0.0395\n",
            "Epoch 22/25\n",
            "60/60 [==============================] - 42s 693ms/step - batch: 29.5000 - size: 1.0000 - loss: 0.0092 - val_loss: 0.1127\n",
            "Epoch 23/25\n",
            "60/60 [==============================] - 41s 681ms/step - batch: 29.5000 - size: 1.0000 - loss: 0.0183 - val_loss: 0.0136\n",
            "Epoch 24/25\n",
            "60/60 [==============================] - 41s 680ms/step - batch: 29.5000 - size: 1.0000 - loss: 0.0073 - val_loss: 0.0201\n",
            "Epoch 25/25\n",
            "60/60 [==============================] - 41s 691ms/step - batch: 29.5000 - size: 1.0000 - loss: 0.0806 - val_loss: 0.0105\n"
          ]
        }
      ],
      "source": [
        "history = model.fit(train_dataset,\n",
        "                    epochs=25,\n",
        "                    validation_data = test_dataset)"
      ]
    },
    {
      "cell_type": "code",
      "execution_count": 34,
      "metadata": {
        "colab": {
          "base_uri": "https://localhost:8080/",
          "height": 52
        },
        "id": "g_n2VfMsg1NT",
        "outputId": "e20fc8d4-968c-4272-9c62-57eeefcee1b3"
      },
      "outputs": [
        {
          "data": {
            "text/plain": [
              "0.010489911288022995"
            ]
          },
          "execution_count": 34,
          "metadata": {},
          "output_type": "execute_result"
        }
      ],
      "source": [
        "model.evaluate(test_x,test_y)"
      ]
    },
    {
      "cell_type": "markdown",
      "metadata": {
        "id": "0oNuY-45SngR"
      },
      "source": [
        "INFERENCE"
      ]
    },
    {
      "cell_type": "code",
      "execution_count": 35,
      "metadata": {
        "id": "VTfYjsyJTEtv"
      },
      "outputs": [],
      "source": [
        "# create some sample data\n",
        "X, Y = convert(x_test, y_test)"
      ]
    },
    {
      "cell_type": "code",
      "execution_count": 36,
      "metadata": {
        "colab": {
          "base_uri": "https://localhost:8080/",
          "height": 34
        },
        "id": "QPazH1zFTnE4",
        "outputId": "535d81f5-7835-47ce-98a0-6d78bfe13c78"
      },
      "outputs": [
        {
          "name": "stderr",
          "output_type": "stream",
          "text": [
            "/home/poornimadevikr/git/mymodels/MobileNetv2-SSD/.venvssd/lib/python3.7/site-packages/keras/engine/training_v1.py:2079: UserWarning: `Model.state_updates` will be removed in a future version. This property should not be used in TensorFlow 2.0, as `updates` are applied automatically.\n",
            "  updates=self.state_updates,\n"
          ]
        },
        {
          "data": {
            "text/plain": [
              "(100, 3150, 15)"
            ]
          },
          "execution_count": 36,
          "metadata": {},
          "output_type": "execute_result"
        }
      ],
      "source": [
        "# get prediction for one sample\n",
        "y_pred = model.predict(X)\n",
        "y_pred.shape"
      ]
    },
    {
      "cell_type": "code",
      "execution_count": 37,
      "metadata": {
        "id": "jrD03dgjcZMO"
      },
      "outputs": [],
      "source": [
        "OBJperCLASS = 10 # get the top 10 results for each class\n",
        "# get the confidence scores (with class values) and delta for the boxes. For each class, the top 10 values are used\n",
        "def infer(Y):\n",
        "  # classes are actually the index into the default boxes\n",
        "  classes = np.zeros((OBJperCLASS,outputChannels-4),dtype=np.uint16)\n",
        "  conf = np.zeros((OBJperCLASS,outputChannels-4))\n",
        "  delta = np.zeros((OBJperCLASS,outputChannels-4,4))\n",
        "  class_predictions = softmax(Y[:,:outputChannels-4],axis=1)\n",
        "  for i in range(outputChannels-4):\n",
        "    classes[:,i] = bottleneck.argpartition(class_predictions[:,i],BOXES-1-10,axis=-1)[-OBJperCLASS:]\n",
        "    conf[:,i] = class_predictions[classes[:,i],i]\n",
        "    delta[:,i] = Y[classes[:,i],outputChannels-4:]\n",
        "  return conf,classes, delta\n",
        "\n",
        "# generate bounding boxes from the inferred outputs\n",
        "def Bbox(confidence,box_idx,delta):\n",
        "  #delta contains delta(cx,cy,h,w)\n",
        "  bbox_centre = np.zeros((OBJperCLASS,outputChannels-4,2))\n",
        "  bbox_hw = np.zeros((OBJperCLASS,outputChannels-4,2))\n",
        "  for i in range(OBJperCLASS):\n",
        "    bbox_centre[i,:,0] = centres[box_idx[i]][:,0]+delta[i,:,0]\n",
        "    bbox_centre[i,:,1] = centres[box_idx[i]][:,1]+delta[i,:,1]\n",
        "    bbox_hw[i,:,0] = hw[box_idx[i]][:,0] + delta[i,:,2]\n",
        "    bbox_hw[i,:,1] = hw[box_idx[i]][:,1]+delta[i,:,3]\n",
        "  return bbox_centre,bbox_hw"
      ]
    },
    {
      "cell_type": "code",
      "execution_count": 38,
      "metadata": {
        "colab": {
          "base_uri": "https://localhost:8080/",
          "height": 460
        },
        "id": "LY7SOlpafX51",
        "outputId": "eef5e296-27f6-46f1-bfeb-422573f1d1e1"
      },
      "outputs": [
        {
          "name": "stdout",
          "output_type": "stream",
          "text": [
            "4\n",
            "4: Confidence-0.30385076999664307\t\tCentre-[27.4528119  21.57659078] Height,Width-[27.83850428 27.78028056]\n",
            "4: Confidence-0.06713606417179108\t\tCentre-[28.08684529 21.98701155] Height,Width-[28.15705952 28.01558586]\n",
            "4: Confidence-0.6220841407775879\t\tCentre-[30.05581808 21.20543551] Height,Width-[32.03774533 27.87778761]\n",
            "4: Confidence-0.09897946566343307\t\tCentre-[27.61799747 21.69880056] Height,Width-[27.8048715  30.22098433]\n",
            "4: Confidence-0.001128854462876916\t\tCentre-[35.04817104 20.41615763] Height,Width-[34.8312864  34.91345915]\n",
            "4: Confidence-0.12542755901813507\t\tCentre-[27.59654137 24.54404092] Height,Width-[30.90878579 30.77082631]\n",
            "4: Confidence-0.19926758110523224\t\tCentre-[27.8586839  18.41986179] Height,Width-[27.60722774 34.37052142]\n",
            "4: Confidence-0.028944864869117737\t\tCentre-[27.40938187 21.33165562] Height,Width-[28.2199839  27.92617561]\n",
            "4: Confidence-0.037270959466695786\t\tCentre-[22.93428493 20.60471362] Height,Width-[31.14605328 31.14885899]\n",
            "4: Confidence-0.25909140706062317\t\tCentre-[27.66548353 20.83052135] Height,Width-[27.48141521 32.49016272]\n",
            "9: Confidence-0.8109290599822998\t\tCentre-[27.40938187 21.33165562] Height,Width-[28.2199839  27.92617561]\n",
            "9: Confidence-0.499233603477478\t\tCentre-[27.59654137 24.54404092] Height,Width-[30.90878579 30.77082631]\n",
            "9: Confidence-0.4041575491428375\t\tCentre-[27.61799747 21.69880056] Height,Width-[27.8048715  30.22098433]\n",
            "9: Confidence-0.7129517793655396\t\tCentre-[28.08684529 21.98701155] Height,Width-[28.15705952 28.01558586]\n",
            "9: Confidence-0.5046857595443726\t\tCentre-[27.4528119  21.57659078] Height,Width-[27.83850428 27.78028056]\n",
            "9: Confidence-0.5089973211288452\t\tCentre-[27.66548353 20.83052135] Height,Width-[27.48141521 32.49016272]\n",
            "9: Confidence-0.42833900451660156\t\tCentre-[27.8586839  18.41986179] Height,Width-[27.60722774 34.37052142]\n",
            "9: Confidence-0.7251116037368774\t\tCentre-[22.93428493 20.60471362] Height,Width-[31.14605328 31.14885899]\n",
            "9: Confidence-0.1629943698644638\t\tCentre-[30.05581808 21.20543551] Height,Width-[32.03774533 27.87778761]\n",
            "9: Confidence-0.006701434962451458\t\tCentre-[35.04817104 20.41615763] Height,Width-[34.8312864  34.91345915]\n"
          ]
        },
        {
          "data": {
            "image/png": "[encoded data removed]",
            "text/plain": [
              "<Figure size 640x480 with 1 Axes>"
            ]
          },
          "metadata": {},
          "output_type": "display_data"
        }
      ],
      "source": [
        "r = np.random.randint(TESTSIZE)\n",
        "\n",
        "# top 10 predictions for each class\n",
        "confidence, box_idx, delta = infer(y_pred[r])\n",
        "bbox_centre,bbox_hw = Bbox(confidence, box_idx, delta)\n",
        "\n",
        "im = np.array(Image.fromarray(X[r].astype(np.uint8)))\n",
        "fig,ax = plt.subplots(1)\n",
        "ax.imshow(im)\n",
        "\n",
        "for i in range(outputChannels-4):\n",
        "  # skipping backgrounds\n",
        "  if i == NUM_CLASSES:\n",
        "    continue\n",
        "  color = 'r'\n",
        "  # if a class is mentioned in the ground truth, color the boxes green\n",
        "  if i in Y[r,:,0]:\n",
        "    color = 'g'\n",
        "    print(i)\n",
        "  \n",
        "  # skip all the classes which have low confidence values\n",
        "  if (confidence[:,i] > 0.5).any() or i in Y[r,:,0]:\n",
        "    for k in range(OBJperCLASS):\n",
        "      print(\"{}: Confidence-{}\\t\\tCentre-{} Height,Width-{}\".format(i,confidence[k,i],bbox_centre[k,i],bbox_hw[k,i]))\n",
        "      \n",
        "      # draw bounding box only if confidence scores are high\n",
        "      if confidence[k,i] < 0.5:\n",
        "        continue\n",
        "      x = bbox_centre[k,i,0] - bbox_hw[k,i,0]/2\n",
        "      y = bbox_centre[k,i,1] - bbox_hw[k,i,1]/2\n",
        "      rect = patches.Rectangle((y,x),bbox_hw[k,i,1],bbox_hw[k,i,0],linewidth=1,edgecolor=color,facecolor='none')\n",
        "      ax.add_patch(rect)\n",
        "\n",
        "plt.show()"
      ]
    },
    {
      "cell_type": "code",
      "execution_count": null,
      "metadata": {
        "id": "Z32HPrzihVqN"
      },
      "outputs": [],
      "source": []
    }
  ],
  "metadata": {
    "accelerator": "GPU",
    "colab": {
      "collapsed_sections": [],
      "name": "current.ipynb",
      "provenance": []
    },
    "kernelspec": {
      "display_name": ".venvssd",
      "language": "python",
      "name": "python3"
    },
    "language_info": {
      "codemirror_mode": {
        "name": "ipython",
        "version": 3
      },
      "file_extension": ".py",
      "mimetype": "text/x-python",
      "name": "python",
      "nbconvert_exporter": "python",
      "pygments_lexer": "ipython3",
      "version": "3.7.13"
    }
  },
  "nbformat": 4,
  "nbformat_minor": 0
}
