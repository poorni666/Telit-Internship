{
  "cells": [
    {
      "cell_type": "markdown",
      "metadata": {
        "id": "RD3uxzaJweYr"
      },
      "source": [
        "##### Copyright 2021 The TensorFlow Authors."
      ]
    },
    {
      "cell_type": "markdown",
      "metadata": {
        "id": "t7CAW5C1cmel"
      },
      "source": [
        "### Install the TFLite Support Library"
      ]
    },
    {
      "cell_type": "code",
      "execution_count": 26,
      "metadata": {
        "id": "DwtFa0jSnNU4"
      },
      "outputs": [
        {
          "name": "stderr",
          "output_type": "stream",
          "text": [
            "2197.12s - pydevd: Sending message related to process being replaced timed-out after 5 seconds\n"
          ]
        }
      ],
      "source": [
        "!pip install -q tflite_support"
      ]
    },
    {
      "cell_type": "markdown",
      "metadata": {
        "id": "XRfJR9QXctAR"
      },
      "source": [
        "### Install the TensorFlow Object Detection API\n"
      ]
    },
    {
      "cell_type": "code",
      "execution_count": 3,
      "metadata": {
        "id": "7PP2P5XAqeI5"
      },
      "outputs": [],
      "source": [
        "import os\n",
        "import pathlib\n"
      ]
    },
    {
      "cell_type": "code",
      "execution_count": 5,
      "metadata": {},
      "outputs": [
        {
          "name": "stdout",
          "output_type": "stream",
          "text": [
            "/home/poornimadevikr/git/mymodels/models/research\n"
          ]
        }
      ],
      "source": [
        "cd /home/poornimadevikr/git/mymodels/models/research"
      ]
    },
    {
      "cell_type": "code",
      "execution_count": 6,
      "metadata": {
        "id": "bP6SSh6zqi07"
      },
      "outputs": [],
      "source": [
        "# Compile the protos\n",
        "!protoc object_detection/protos/*.proto --python_out=."
      ]
    },
    {
      "cell_type": "code",
      "execution_count": 7,
      "metadata": {},
      "outputs": [],
      "source": [
        "# Copy the setup.py from the object_detection folder to models/research folder\n",
        "!cp /home/poornimadevikr/git/mymodels/models/research/object_detection/packages/tf2/setup.py /home/poornimadevikr/git/mymodels/models/research/\n"
      ]
    },
    {
      "cell_type": "code",
      "execution_count": 8,
      "metadata": {},
      "outputs": [
        {
          "name": "stdout",
          "output_type": "stream",
          "text": [
            "Note: you may need to restart the kernel to use updated packages.\n"
          ]
        }
      ],
      "source": [
        "pip install -q ."
      ]
    },
    {
      "cell_type": "markdown",
      "metadata": {
        "id": "i0to7aXKc0O9"
      },
      "source": [
        "### Import the necessary libraries"
      ]
    },
    {
      "cell_type": "code",
      "execution_count": 9,
      "metadata": {
        "id": "4M8CC1PgqnSf"
      },
      "outputs": [
        {
          "name": "stderr",
          "output_type": "stream",
          "text": [
            "2025-04-08 10:13:36.908315: I tensorflow/core/platform/cpu_feature_guard.cc:193] This TensorFlow binary is optimized with oneAPI Deep Neural Network Library (oneDNN) to use the following CPU instructions in performance-critical operations:  AVX2 FMA\n",
            "To enable them in other operations, rebuild TensorFlow with the appropriate compiler flags.\n",
            "2025-04-08 10:13:37.832750: W tensorflow/compiler/xla/stream_executor/platform/default/dso_loader.cc:64] Could not load dynamic library 'libnvinfer.so.7'; dlerror: libnvinfer.so.7: cannot open shared object file: No such file or directory; LD_LIBRARY_PATH: /usr/local/nvidia/lib:/usr/local/nvidia/lib64\n",
            "2025-04-08 10:13:37.832865: W tensorflow/compiler/xla/stream_executor/platform/default/dso_loader.cc:64] Could not load dynamic library 'libnvinfer_plugin.so.7'; dlerror: libnvinfer_plugin.so.7: cannot open shared object file: No such file or directory; LD_LIBRARY_PATH: /usr/local/nvidia/lib:/usr/local/nvidia/lib64\n",
            "2025-04-08 10:13:37.832878: W tensorflow/compiler/tf2tensorrt/utils/py_utils.cc:38] TF-TRT Warning: Cannot dlopen some TensorRT libraries. If you would like to use Nvidia GPU with TensorRT, please make sure the missing libraries mentioned above are installed properly.\n"
          ]
        }
      ],
      "source": [
        "import matplotlib\n",
        "import matplotlib.pyplot as plt\n",
        "\n",
        "import os\n",
        "import random\n",
        "import io\n",
        "import imageio\n",
        "import glob\n",
        "import scipy.misc\n",
        "import numpy as np\n",
        "from six import BytesIO\n",
        "from PIL import Image, ImageDraw, ImageFont\n",
        "from IPython.display import display, Javascript\n",
        "from IPython.display import Image as IPyImage\n",
        "\n",
        "import tensorflow as tf\n",
        "\n",
        "from object_detection.utils import label_map_util\n",
        "from object_detection.utils import config_util\n",
        "from object_detection.utils import visualization_utils as viz_utils\n",
        "from object_detection.utils import config_util\n",
        "from object_detection.builders import model_builder\n",
        "\n",
        "%matplotlib inline"
      ]
    },
    {
      "cell_type": "markdown",
      "metadata": {
        "id": "0gV8vr6nN-z9"
      },
      "source": [
        "## Generate TensorFlow Lite Model"
      ]
    },
    {
      "cell_type": "markdown",
      "metadata": {
        "id": "Z8FjeSmmxpXz"
      },
      "source": [
        "### Step 1: Export TFLite inference graph\n",
        "\n",
        "First, we invoke `export_tflite_graph_tf2.py` to generate a TFLite-friendly intermediate SavedModel. This will then be passed to the TensorFlow Lite Converter for generating the final model.\n",
        "\n",
        "Use `--help` with the above script to get the full list of supported parameters.\n",
        "These can fine-tune accuracy and speed for your model."
      ]
    },
    {
      "cell_type": "code",
      "execution_count": null,
      "metadata": {
        "id": "ChfN-tzBXqko"
      },
      "outputs": [
        {
          "name": "stderr",
          "output_type": "stream",
          "text": [
            "140.70s - pydevd: Sending message related to process being replaced timed-out after 5 seconds\n"
          ]
        },
        {
          "name": "stdout",
          "output_type": "stream",
          "text": [
            "2025-04-08 10:15:02.449564: I tensorflow/core/platform/cpu_feature_guard.cc:193] This TensorFlow binary is optimized with oneAPI Deep Neural Network Library (oneDNN) to use the following CPU instructions in performance-critical operations:  AVX2 FMA\n",
            "To enable them in other operations, rebuild TensorFlow with the appropriate compiler flags.\n",
            "2025-04-08 10:15:03.493063: W tensorflow/compiler/xla/stream_executor/platform/default/dso_loader.cc:64] Could not load dynamic library 'libnvinfer.so.7'; dlerror: libnvinfer.so.7: cannot open shared object file: No such file or directory; LD_LIBRARY_PATH: /usr/local/nvidia/lib:/usr/local/nvidia/lib64\n",
            "2025-04-08 10:15:03.493187: W tensorflow/compiler/xla/stream_executor/platform/default/dso_loader.cc:64] Could not load dynamic library 'libnvinfer_plugin.so.7'; dlerror: libnvinfer_plugin.so.7: cannot open shared object file: No such file or directory; LD_LIBRARY_PATH: /usr/local/nvidia/lib:/usr/local/nvidia/lib64\n",
            "2025-04-08 10:15:03.493202: W tensorflow/compiler/tf2tensorrt/utils/py_utils.cc:38] TF-TRT Warning: Cannot dlopen some TensorRT libraries. If you would like to use Nvidia GPU with TensorRT, please make sure the missing libraries mentioned above are installed properly.\n",
            "2025-04-08 10:15:06.198843: W tensorflow/compiler/xla/stream_executor/platform/default/dso_loader.cc:64] Could not load dynamic library 'libcuda.so.1'; dlerror: libcuda.so.1: cannot open shared object file: No such file or directory; LD_LIBRARY_PATH: /usr/local/nvidia/lib:/usr/local/nvidia/lib64\n",
            "2025-04-08 10:15:06.198906: W tensorflow/compiler/xla/stream_executor/cuda/cuda_driver.cc:265] failed call to cuInit: UNKNOWN ERROR (303)\n",
            "2025-04-08 10:15:06.198938: I tensorflow/compiler/xla/stream_executor/cuda/cuda_diagnostics.cc:163] no NVIDIA GPU device is present: /dev/nvidia0 does not exist\n",
            "2025-04-08 10:15:06.206028: I tensorflow/core/platform/cpu_feature_guard.cc:193] This TensorFlow binary is optimized with oneAPI Deep Neural Network Library (oneDNN) to use the following CPU instructions in performance-critical operations:  AVX2 FMA\n",
            "To enable them in other operations, rebuild TensorFlow with the appropriate compiler flags.\n",
            "I0408 10:15:09.198197 136501288052544 api.py:459] feature_map_spatial_dims: [(40, 40), (20, 20), (10, 10), (5, 5), (3, 3)]\n",
            "WARNING:tensorflow:From /home/poornimadevikr/git/mymodels/models/.venv_ssd_3.7/lib/python3.7/site-packages/tensorflow/python/autograph/pyct/static_analysis/liveness.py:83: Analyzer.lamba_check (from tensorflow.python.autograph.pyct.static_analysis.liveness) is deprecated and will be removed after 2023-09-23.\n",
            "Instructions for updating:\n",
            "Lambda fuctions will be no more assumed to be used in the statement where they are used, or at least in the same block. https://github.com/tensorflow/tensorflow/issues/56089\n",
            "W0408 10:15:11.280846 136501288052544 deprecation.py:356] From /home/poornimadevikr/git/mymodels/models/.venv_ssd_3.7/lib/python3.7/site-packages/tensorflow/python/autograph/pyct/static_analysis/liveness.py:83: Analyzer.lamba_check (from tensorflow.python.autograph.pyct.static_analysis.liveness) is deprecated and will be removed after 2023-09-23.\n",
            "Instructions for updating:\n",
            "Lambda fuctions will be no more assumed to be used in the statement where they are used, or at least in the same block. https://github.com/tensorflow/tensorflow/issues/56089\n",
            "2025-04-08 10:15:12.345601: I tensorflow/compiler/mlir/mlir_graph_optimization_pass.cc:357] MLIR V1 optimization pass is not enabled\n",
            "I0408 10:15:12.997727 136501288052544 api.py:459] feature_map_spatial_dims: [(40, 40), (20, 20), (10, 10), (5, 5), (3, 3)]\n",
            "I0408 10:15:14.804306 136501288052544 api.py:459] feature_map_spatial_dims: [(40, 40), (20, 20), (10, 10), (5, 5), (3, 3)]\n",
            "WARNING:tensorflow:Skipping full serialization of Keras layer <object_detection.meta_architectures.ssd_meta_arch.SSDMetaArch object at 0x7c250d4c2ad0>, because it is not built.\n",
            "W0408 10:15:15.770876 136501288052544 save_impl.py:68] Skipping full serialization of Keras layer <object_detection.meta_architectures.ssd_meta_arch.SSDMetaArch object at 0x7c250d4c2ad0>, because it is not built.\n",
            "WARNING:tensorflow:Skipping full serialization of Keras layer <keras.layers.convolutional.separable_conv2d.SeparableConv2D object at 0x7c2505b18750>, because it is not built.\n",
            "W0408 10:15:16.178895 136501288052544 save_impl.py:68] Skipping full serialization of Keras layer <keras.layers.convolutional.separable_conv2d.SeparableConv2D object at 0x7c2505b18750>, because it is not built.\n",
            "WARNING:tensorflow:Skipping full serialization of Keras layer <object_detection.core.freezable_batch_norm.FreezableBatchNorm object at 0x7c2508565510>, because it is not built.\n",
            "W0408 10:15:16.179082 136501288052544 save_impl.py:68] Skipping full serialization of Keras layer <object_detection.core.freezable_batch_norm.FreezableBatchNorm object at 0x7c2508565510>, because it is not built.\n",
            "WARNING:tensorflow:Skipping full serialization of Keras layer <keras.layers.core.lambda_layer.Lambda object at 0x7c2505ba4dd0>, because it is not built.\n",
            "W0408 10:15:16.179152 136501288052544 save_impl.py:68] Skipping full serialization of Keras layer <keras.layers.core.lambda_layer.Lambda object at 0x7c2505ba4dd0>, because it is not built.\n",
            "WARNING:tensorflow:Skipping full serialization of Keras layer <keras.layers.convolutional.separable_conv2d.SeparableConv2D object at 0x7c2505a63a90>, because it is not built.\n",
            "W0408 10:15:16.179214 136501288052544 save_impl.py:68] Skipping full serialization of Keras layer <keras.layers.convolutional.separable_conv2d.SeparableConv2D object at 0x7c2505a63a90>, because it is not built.\n",
            "WARNING:tensorflow:Skipping full serialization of Keras layer <object_detection.core.freezable_batch_norm.FreezableBatchNorm object at 0x7c2505a63b50>, because it is not built.\n",
            "W0408 10:15:16.179275 136501288052544 save_impl.py:68] Skipping full serialization of Keras layer <object_detection.core.freezable_batch_norm.FreezableBatchNorm object at 0x7c2505a63b50>, because it is not built.\n",
            "WARNING:tensorflow:Skipping full serialization of Keras layer <keras.layers.core.lambda_layer.Lambda object at 0x7c2505a631d0>, because it is not built.\n",
            "W0408 10:15:16.179331 136501288052544 save_impl.py:68] Skipping full serialization of Keras layer <keras.layers.core.lambda_layer.Lambda object at 0x7c2505a631d0>, because it is not built.\n",
            "WARNING:tensorflow:Skipping full serialization of Keras layer <keras.layers.convolutional.separable_conv2d.SeparableConv2D object at 0x7c250899e910>, because it is not built.\n",
            "W0408 10:15:16.179385 136501288052544 save_impl.py:68] Skipping full serialization of Keras layer <keras.layers.convolutional.separable_conv2d.SeparableConv2D object at 0x7c250899e910>, because it is not built.\n",
            "WARNING:tensorflow:Skipping full serialization of Keras layer <object_detection.core.freezable_batch_norm.FreezableBatchNorm object at 0x7c2505f61b10>, because it is not built.\n",
            "W0408 10:15:16.179450 136501288052544 save_impl.py:68] Skipping full serialization of Keras layer <object_detection.core.freezable_batch_norm.FreezableBatchNorm object at 0x7c2505f61b10>, because it is not built.\n",
            "WARNING:tensorflow:Skipping full serialization of Keras layer <keras.layers.core.lambda_layer.Lambda object at 0x7c2505b52d90>, because it is not built.\n",
            "W0408 10:15:16.179511 136501288052544 save_impl.py:68] Skipping full serialization of Keras layer <keras.layers.core.lambda_layer.Lambda object at 0x7c2505b52d90>, because it is not built.\n",
            "WARNING:tensorflow:Skipping full serialization of Keras layer <keras.layers.convolutional.separable_conv2d.SeparableConv2D object at 0x7c25089b3450>, because it is not built.\n",
            "W0408 10:15:16.179597 136501288052544 save_impl.py:68] Skipping full serialization of Keras layer <keras.layers.convolutional.separable_conv2d.SeparableConv2D object at 0x7c25089b3450>, because it is not built.\n",
            "WARNING:tensorflow:Skipping full serialization of Keras layer <object_detection.core.freezable_batch_norm.FreezableBatchNorm object at 0x7c2505a4b4d0>, because it is not built.\n",
            "W0408 10:15:16.179656 136501288052544 save_impl.py:68] Skipping full serialization of Keras layer <object_detection.core.freezable_batch_norm.FreezableBatchNorm object at 0x7c2505a4b4d0>, because it is not built.\n",
            "WARNING:tensorflow:Skipping full serialization of Keras layer <keras.layers.core.lambda_layer.Lambda object at 0x7c2505a4b390>, because it is not built.\n",
            "W0408 10:15:16.179710 136501288052544 save_impl.py:68] Skipping full serialization of Keras layer <keras.layers.core.lambda_layer.Lambda object at 0x7c2505a4b390>, because it is not built.\n",
            "WARNING:tensorflow:Skipping full serialization of Keras layer <object_detection.core.freezable_batch_norm.FreezableBatchNorm object at 0x7c2505744ad0>, because it is not built.\n",
            "W0408 10:15:16.179763 136501288052544 save_impl.py:68] Skipping full serialization of Keras layer <object_detection.core.freezable_batch_norm.FreezableBatchNorm object at 0x7c2505744ad0>, because it is not built.\n",
            "WARNING:tensorflow:Skipping full serialization of Keras layer <keras.layers.core.lambda_layer.Lambda object at 0x7c25081ec050>, because it is not built.\n",
            "W0408 10:15:16.179824 136501288052544 save_impl.py:68] Skipping full serialization of Keras layer <keras.layers.core.lambda_layer.Lambda object at 0x7c25081ec050>, because it is not built.\n",
            "WARNING:tensorflow:Skipping full serialization of Keras layer <object_detection.core.freezable_batch_norm.FreezableBatchNorm object at 0x7c25080af3d0>, because it is not built.\n",
            "W0408 10:15:16.179878 136501288052544 save_impl.py:68] Skipping full serialization of Keras layer <object_detection.core.freezable_batch_norm.FreezableBatchNorm object at 0x7c25080af3d0>, because it is not built.\n",
            "WARNING:tensorflow:Skipping full serialization of Keras layer <keras.layers.core.lambda_layer.Lambda object at 0x7c25057e1650>, because it is not built.\n",
            "W0408 10:15:16.179932 136501288052544 save_impl.py:68] Skipping full serialization of Keras layer <keras.layers.core.lambda_layer.Lambda object at 0x7c25057e1650>, because it is not built.\n",
            "WARNING:tensorflow:Skipping full serialization of Keras layer <object_detection.core.freezable_batch_norm.FreezableBatchNorm object at 0x7c25057e16d0>, because it is not built.\n",
            "W0408 10:15:16.179984 136501288052544 save_impl.py:68] Skipping full serialization of Keras layer <object_detection.core.freezable_batch_norm.FreezableBatchNorm object at 0x7c25057e16d0>, because it is not built.\n",
            "WARNING:tensorflow:Skipping full serialization of Keras layer <keras.layers.core.lambda_layer.Lambda object at 0x7c2505b52350>, because it is not built.\n",
            "W0408 10:15:16.180042 136501288052544 save_impl.py:68] Skipping full serialization of Keras layer <keras.layers.core.lambda_layer.Lambda object at 0x7c2505b52350>, because it is not built.\n",
            "WARNING:tensorflow:Skipping full serialization of Keras layer <object_detection.core.freezable_batch_norm.FreezableBatchNorm object at 0x7c25057e1bd0>, because it is not built.\n",
            "W0408 10:15:16.180096 136501288052544 save_impl.py:68] Skipping full serialization of Keras layer <object_detection.core.freezable_batch_norm.FreezableBatchNorm object at 0x7c25057e1bd0>, because it is not built.\n",
            "WARNING:tensorflow:Skipping full serialization of Keras layer <keras.layers.core.lambda_layer.Lambda object at 0x7c2505b6e8d0>, because it is not built.\n",
            "W0408 10:15:16.180153 136501288052544 save_impl.py:68] Skipping full serialization of Keras layer <keras.layers.core.lambda_layer.Lambda object at 0x7c2505b6e8d0>, because it is not built.\n",
            "WARNING:tensorflow:Skipping full serialization of Keras layer <object_detection.core.freezable_batch_norm.FreezableBatchNorm object at 0x7c2505721790>, because it is not built.\n",
            "W0408 10:15:16.180207 136501288052544 save_impl.py:68] Skipping full serialization of Keras layer <object_detection.core.freezable_batch_norm.FreezableBatchNorm object at 0x7c2505721790>, because it is not built.\n",
            "WARNING:tensorflow:Skipping full serialization of Keras layer <keras.layers.core.lambda_layer.Lambda object at 0x7c250810e550>, because it is not built.\n",
            "W0408 10:15:16.180260 136501288052544 save_impl.py:68] Skipping full serialization of Keras layer <keras.layers.core.lambda_layer.Lambda object at 0x7c250810e550>, because it is not built.\n",
            "WARNING:tensorflow:Skipping full serialization of Keras layer <object_detection.core.freezable_batch_norm.FreezableBatchNorm object at 0x7c250805c310>, because it is not built.\n",
            "W0408 10:15:16.180312 136501288052544 save_impl.py:68] Skipping full serialization of Keras layer <object_detection.core.freezable_batch_norm.FreezableBatchNorm object at 0x7c250805c310>, because it is not built.\n",
            "WARNING:tensorflow:Skipping full serialization of Keras layer <keras.layers.core.lambda_layer.Lambda object at 0x7c2505730bd0>, because it is not built.\n",
            "W0408 10:15:16.180364 136501288052544 save_impl.py:68] Skipping full serialization of Keras layer <keras.layers.core.lambda_layer.Lambda object at 0x7c2505730bd0>, because it is not built.\n",
            "WARNING:tensorflow:Skipping full serialization of Keras layer <object_detection.core.freezable_batch_norm.FreezableBatchNorm object at 0x7c25057307d0>, because it is not built.\n",
            "W0408 10:15:16.180433 136501288052544 save_impl.py:68] Skipping full serialization of Keras layer <object_detection.core.freezable_batch_norm.FreezableBatchNorm object at 0x7c25057307d0>, because it is not built.\n",
            "WARNING:tensorflow:Skipping full serialization of Keras layer <keras.layers.core.lambda_layer.Lambda object at 0x7c2505730ad0>, because it is not built.\n",
            "W0408 10:15:16.180488 136501288052544 save_impl.py:68] Skipping full serialization of Keras layer <keras.layers.core.lambda_layer.Lambda object at 0x7c2505730ad0>, because it is not built.\n",
            "WARNING:tensorflow:Skipping full serialization of Keras layer <object_detection.core.freezable_batch_norm.FreezableBatchNorm object at 0x7c2505730fd0>, because it is not built.\n",
            "W0408 10:15:16.180541 136501288052544 save_impl.py:68] Skipping full serialization of Keras layer <object_detection.core.freezable_batch_norm.FreezableBatchNorm object at 0x7c2505730fd0>, because it is not built.\n",
            "WARNING:tensorflow:Skipping full serialization of Keras layer <keras.layers.core.lambda_layer.Lambda object at 0x7c25057cb250>, because it is not built.\n",
            "W0408 10:15:16.180593 136501288052544 save_impl.py:68] Skipping full serialization of Keras layer <keras.layers.core.lambda_layer.Lambda object at 0x7c25057cb250>, because it is not built.\n",
            "WARNING:tensorflow:Skipping full serialization of Keras layer <object_detection.core.freezable_batch_norm.FreezableBatchNorm object at 0x7c25056e1990>, because it is not built.\n",
            "W0408 10:15:16.180645 136501288052544 save_impl.py:68] Skipping full serialization of Keras layer <object_detection.core.freezable_batch_norm.FreezableBatchNorm object at 0x7c25056e1990>, because it is not built.\n",
            "WARNING:tensorflow:Skipping full serialization of Keras layer <keras.layers.core.lambda_layer.Lambda object at 0x7c2505b60d90>, because it is not built.\n",
            "W0408 10:15:16.180697 136501288052544 save_impl.py:68] Skipping full serialization of Keras layer <keras.layers.core.lambda_layer.Lambda object at 0x7c2505b60d90>, because it is not built.\n",
            "WARNING:tensorflow:Skipping full serialization of Keras layer <object_detection.core.freezable_batch_norm.FreezableBatchNorm object at 0x7c2505a8a250>, because it is not built.\n",
            "W0408 10:15:16.180749 136501288052544 save_impl.py:68] Skipping full serialization of Keras layer <object_detection.core.freezable_batch_norm.FreezableBatchNorm object at 0x7c2505a8a250>, because it is not built.\n",
            "WARNING:tensorflow:Skipping full serialization of Keras layer <keras.layers.core.lambda_layer.Lambda object at 0x7c25056c3210>, because it is not built.\n",
            "W0408 10:15:16.180807 136501288052544 save_impl.py:68] Skipping full serialization of Keras layer <keras.layers.core.lambda_layer.Lambda object at 0x7c25056c3210>, because it is not built.\n",
            "WARNING:tensorflow:Skipping full serialization of Keras layer <object_detection.core.freezable_batch_norm.FreezableBatchNorm object at 0x7c25056c3110>, because it is not built.\n",
            "W0408 10:15:16.180860 136501288052544 save_impl.py:68] Skipping full serialization of Keras layer <object_detection.core.freezable_batch_norm.FreezableBatchNorm object at 0x7c25056c3110>, because it is not built.\n",
            "WARNING:tensorflow:Skipping full serialization of Keras layer <keras.layers.core.lambda_layer.Lambda object at 0x7c25056c3a90>, because it is not built.\n",
            "W0408 10:15:16.180915 136501288052544 save_impl.py:68] Skipping full serialization of Keras layer <keras.layers.core.lambda_layer.Lambda object at 0x7c25056c3a90>, because it is not built.\n",
            "WARNING:tensorflow:Skipping full serialization of Keras layer <object_detection.core.freezable_batch_norm.FreezableBatchNorm object at 0x7c2505756690>, because it is not built.\n",
            "W0408 10:15:16.180969 136501288052544 save_impl.py:68] Skipping full serialization of Keras layer <object_detection.core.freezable_batch_norm.FreezableBatchNorm object at 0x7c2505756690>, because it is not built.\n",
            "WARNING:tensorflow:Skipping full serialization of Keras layer <keras.layers.core.lambda_layer.Lambda object at 0x7c25056c3f90>, because it is not built.\n",
            "W0408 10:15:16.181023 136501288052544 save_impl.py:68] Skipping full serialization of Keras layer <keras.layers.core.lambda_layer.Lambda object at 0x7c25056c3f90>, because it is not built.\n",
            "WARNING:tensorflow:Skipping full serialization of Keras layer <object_detection.core.freezable_batch_norm.FreezableBatchNorm object at 0x7c25056e1b50>, because it is not built.\n",
            "W0408 10:15:16.181077 136501288052544 save_impl.py:68] Skipping full serialization of Keras layer <object_detection.core.freezable_batch_norm.FreezableBatchNorm object at 0x7c25056e1b50>, because it is not built.\n",
            "WARNING:tensorflow:Skipping full serialization of Keras layer <keras.layers.core.lambda_layer.Lambda object at 0x7c250570db50>, because it is not built.\n",
            "W0408 10:15:16.181130 136501288052544 save_impl.py:68] Skipping full serialization of Keras layer <keras.layers.core.lambda_layer.Lambda object at 0x7c250570db50>, because it is not built.\n",
            "WARNING:tensorflow:Skipping full serialization of Keras layer <object_detection.core.freezable_batch_norm.FreezableBatchNorm object at 0x7c250ae64410>, because it is not built.\n",
            "W0408 10:15:16.181181 136501288052544 save_impl.py:68] Skipping full serialization of Keras layer <object_detection.core.freezable_batch_norm.FreezableBatchNorm object at 0x7c250ae64410>, because it is not built.\n",
            "WARNING:tensorflow:Skipping full serialization of Keras layer <keras.layers.core.lambda_layer.Lambda object at 0x7c250570de10>, because it is not built.\n",
            "W0408 10:15:16.181234 136501288052544 save_impl.py:68] Skipping full serialization of Keras layer <keras.layers.core.lambda_layer.Lambda object at 0x7c250570de10>, because it is not built.\n",
            "WARNING:tensorflow:Skipping full serialization of Keras layer <object_detection.core.freezable_batch_norm.FreezableBatchNorm object at 0x7c250570d390>, because it is not built.\n",
            "W0408 10:15:16.181285 136501288052544 save_impl.py:68] Skipping full serialization of Keras layer <object_detection.core.freezable_batch_norm.FreezableBatchNorm object at 0x7c250570d390>, because it is not built.\n",
            "WARNING:tensorflow:Skipping full serialization of Keras layer <keras.layers.core.lambda_layer.Lambda object at 0x7c250570d050>, because it is not built.\n",
            "W0408 10:15:16.181337 136501288052544 save_impl.py:68] Skipping full serialization of Keras layer <keras.layers.core.lambda_layer.Lambda object at 0x7c250570d050>, because it is not built.\n",
            "WARNING:tensorflow:Skipping full serialization of Keras layer <object_detection.core.freezable_batch_norm.FreezableBatchNorm object at 0x7c25081d0b10>, because it is not built.\n",
            "W0408 10:15:16.181401 136501288052544 save_impl.py:68] Skipping full serialization of Keras layer <object_detection.core.freezable_batch_norm.FreezableBatchNorm object at 0x7c25081d0b10>, because it is not built.\n",
            "WARNING:tensorflow:Skipping full serialization of Keras layer <keras.layers.core.lambda_layer.Lambda object at 0x7c2505b23550>, because it is not built.\n",
            "W0408 10:15:16.181459 136501288052544 save_impl.py:68] Skipping full serialization of Keras layer <keras.layers.core.lambda_layer.Lambda object at 0x7c2505b23550>, because it is not built.\n",
            "W0408 10:15:29.586110 136501288052544 save.py:276] Found untraced functions such as WeightSharedConvolutionalBoxPredictor_layer_call_fn, WeightSharedConvolutionalBoxPredictor_layer_call_and_return_conditional_losses, WeightSharedConvolutionalBoxHead_layer_call_fn, WeightSharedConvolutionalBoxHead_layer_call_and_return_conditional_losses, WeightSharedConvolutionalClassHead_layer_call_fn while saving (showing 5 of 173). These functions will not be directly callable after loading.\n",
            "INFO:tensorflow:Assets written to: /home/poornimadevikr/git/mymodels/models/research/tflite/saved_model/assets\n",
            "I0408 10:15:34.077040 136501288052544 builder_impl.py:798] Assets written to: /home/poornimadevikr/git/mymodels/models/research/tflite/saved_model/assets\n"
          ]
        }
      ],
      "source": [
        "!python /home/poornimadevikr/git/mymodels/models/research/object_detection/export_tflite_graph_tf2.py \\\n",
        "    --trained_checkpoint_dir {'/home/poornimadevikr/git/mymodels/models/trainingcheck'} \\\n",
        "    --output_directory {'/home/poornimadevikr/git/mymodels/models/research/object_detection/my_notebooks/ssd_mobilenet_v2_fpnlite_320x320_coco17_tpu-8'} \\\n",
        "    --pipeline_config_path {'/home/poornimadevikr/git/mymodels/models/research/object_detection/my_notebooks/ssd_mobilenet_v2_fpnlite_320x320_coco17_tpu-8/pipeline.config'}"
      ]
    },
    {
      "cell_type": "markdown",
      "metadata": {
        "id": "IPr06cZ3OY3H"
      },
      "source": [
        "### Step 2: Convert to TFLite\n",
        "\n",
        "Use the [TensorFlow Lite Converter](https://www.tensorflow.org/lite/convert) to\n",
        "convert the `SavedModel` to TFLite. Note that you need to use `from_saved_model`\n",
        "for TFLite conversion with the Python API.\n",
        "\n",
        "You can also leverage\n",
        "[Post-training Quantization](https://www.tensorflow.org/lite/performance/post_training_quantization)\n",
        "to\n",
        "[optimize performance](https://www.tensorflow.org/lite/performance/model_optimization)\n",
        "and obtain a smaller model. here, we use the [dynamic range quantization](https://www.tensorflow.org/lite/performance/post_training_quant)."
      ]
    },
    {
      "cell_type": "code",
      "execution_count": 14,
      "metadata": {
        "id": "JMpy3Rlpq-Yq"
      },
      "outputs": [
        {
          "name": "stderr",
          "output_type": "stream",
          "text": [
            "2025-04-08 10:30:13.354249: W tensorflow/compiler/mlir/lite/python/tf_tfl_flatbuffer_helpers.cc:362] Ignored output_format.\n",
            "2025-04-08 10:30:13.354379: W tensorflow/compiler/mlir/lite/python/tf_tfl_flatbuffer_helpers.cc:365] Ignored drop_control_dependency.\n",
            "2025-04-08 10:30:13.354617: I tensorflow/cc/saved_model/reader.cc:45] Reading SavedModel from: /home/poornimadevikr/git/mymodels/models/research/tflite/saved_model\n",
            "2025-04-08 10:30:13.403435: I tensorflow/cc/saved_model/reader.cc:89] Reading meta graph with tags { serve }\n",
            "2025-04-08 10:30:13.403577: I tensorflow/cc/saved_model/reader.cc:130] Reading SavedModel debug info (if present) from: /home/poornimadevikr/git/mymodels/models/research/tflite/saved_model\n",
            "2025-04-08 10:30:13.567018: I tensorflow/cc/saved_model/loader.cc:229] Restoring SavedModel bundle.\n",
            "2025-04-08 10:30:14.015096: I tensorflow/cc/saved_model/loader.cc:213] Running initialization op on SavedModel bundle at path: /home/poornimadevikr/git/mymodels/models/research/tflite/saved_model\n",
            "2025-04-08 10:30:14.171879: I tensorflow/cc/saved_model/loader.cc:305] SavedModel load for tags { serve }; Status: success: OK. Took 817261 microseconds.\n",
            "2025-04-08 10:30:15.574286: I tensorflow/compiler/mlir/lite/flatbuffer_export.cc:2111] Estimated count of arithmetic ops: 1.702 G  ops, equivalently 0.851 G  MACs\n"
          ]
        }
      ],
      "source": [
        "_TFLITE_MODEL_PATH = \"/home/poornimadevikr/git/mymodels/models/research/tflite/model.tflite\"\n",
        "\n",
        "converter = tf.lite.TFLiteConverter.from_saved_model('/home/poornimadevikr/git/mymodels/models/research/tflite/saved_model')\n",
        "converter.optimizations = [tf.lite.Optimize.DEFAULT]\n",
        "tflite_model = converter.convert()\n",
        "\n",
        "with open(_TFLITE_MODEL_PATH, 'wb') as f:\n",
        "  f.write(tflite_model)"
      ]
    }
  ],
  "metadata": {
    "colab": {
      "collapsed_sections": [],
      "name": "Convert TF Object Detection API model to TFLite.ipynb",
      "private_outputs": true,
      "provenance": [
        {
          "file_id": "1R4_y-u14YTdvBzhmvC0HQwh3HkcCN2Bd",
          "timestamp": 1623114733432
        },
        {
          "file_id": "1Rey5kAzNQhJ77tsXGjhcAV0UZ6du0Sla",
          "timestamp": 1622897882140
        }
      ],
      "toc_visible": true
    },
    "kernelspec": {
      "display_name": ".venv_ssd_3.7",
      "language": "python",
      "name": "python3"
    },
    "language_info": {
      "codemirror_mode": {
        "name": "ipython",
        "version": 3
      },
      "file_extension": ".py",
      "mimetype": "text/x-python",
      "name": "python",
      "nbconvert_exporter": "python",
      "pygments_lexer": "ipython3",
      "version": "3.7.13"
    }
  },
  "nbformat": 4,
  "nbformat_minor": 0
}
